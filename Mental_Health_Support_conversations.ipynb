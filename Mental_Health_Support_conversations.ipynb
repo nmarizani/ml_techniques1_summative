{
  "cells": [
    {
      "cell_type": "markdown",
      "metadata": {
        "id": "view-in-github",
        "colab_type": "text"
      },
      "source": [
        "<a href=\"https://colab.research.google.com/github/nmarizani/ml_techniques1_summative/blob/main/Mental_Health_Support_conversations.ipynb\" target=\"_parent\"><img src=\"https://colab.research.google.com/assets/colab-badge.svg\" alt=\"Open In Colab\"/></a>"
      ]
    },
    {
      "cell_type": "markdown",
      "metadata": {
        "id": "ipCYWI7tY1Gd"
      },
      "source": [
        "# Healthcare Chatbot - Data Preprocessing\n",
        "# Dataset: Mental Health Conversations at Dataset.csv"
      ]
    },
    {
      "cell_type": "markdown",
      "metadata": {
        "id": "WYtOV8J9Z2sn"
      },
      "source": [
        "# Dataset inspection"
      ]
    },
    {
      "cell_type": "code",
      "execution_count": null,
      "metadata": {
        "id": "SrqZUe0XpplO"
      },
      "outputs": [],
      "source": [
        "# Imports & Dataset Loading\n",
        "import pandas as pd\n",
        "import numpy as np\n",
        "import matplotlib.pyplot as plt\n",
        "import seaborn as sns\n",
        "import re\n",
        "import os\n",
        "from transformers import TFAutoModelForSeq2SeqLM, DataCollatorForSeq2Seq, create_optimizer\n",
        "from transformers import AutoTokenizer\n",
        "from datasets import load_from_disk\n",
        "from tqdm import tqdm\n",
        "import tensorflow as tf\n",
        "import time"
      ]
    },
    {
      "cell_type": "code",
      "execution_count": null,
      "metadata": {
        "id": "c2peRBjjpxzL"
      },
      "outputs": [],
      "source": [
        "# Load dataset\n",
        "df = pd.read_csv('dataset.csv')"
      ]
    },
    {
      "cell_type": "code",
      "execution_count": null,
      "metadata": {
        "colab": {
          "base_uri": "https://localhost:8080/"
        },
        "id": "DE7QPjztrH6s",
        "outputId": "47e7431f-340d-442f-ea2e-a99c71b9a539"
      },
      "outputs": [
        {
          "output_type": "stream",
          "name": "stdout",
          "text": [
            "Dataset Loaded Successfully!\n",
            "Shape: (3507, 3)\n",
            "\n",
            "Columns: ['Context', 'Response', 'LLM']\n",
            "\n",
            "Missing Values:\n",
            " Context     0\n",
            "Response    0\n",
            "LLM         0\n",
            "dtype: int64\n",
            "\n",
            "Duplicate Rows: 0\n"
          ]
        }
      ],
      "source": [
        "# Dataset info\n",
        "print(\"Dataset Loaded Successfully!\")\n",
        "print(\"Shape:\", df.shape)\n",
        "print(\"\\nColumns:\", df.columns.tolist())\n",
        "print(\"\\nMissing Values:\\n\", df.isnull().sum())\n",
        "print(\"\\nDuplicate Rows:\", df.duplicated().sum())"
      ]
    },
    {
      "cell_type": "code",
      "execution_count": null,
      "metadata": {
        "colab": {
          "base_uri": "https://localhost:8080/",
          "height": 293
        },
        "id": "3tQpbo7HqoHB",
        "outputId": "376520b4-e16e-458c-a00e-112f452ba31c"
      },
      "outputs": [
        {
          "output_type": "execute_result",
          "data": {
            "text/plain": [
              "                                             Context  \\\n",
              "0  I'm going through some things with my feelings...   \n",
              "1  I'm going through some things with my feelings...   \n",
              "2  I'm going through some things with my feelings...   \n",
              "3  I'm going through some things with my feelings...   \n",
              "4  I'm going through some things with my feelings...   \n",
              "\n",
              "                                            Response  \\\n",
              "0  If everyone thinks you're worthless, then mayb...   \n",
              "1  Hello, and thank you for your question and see...   \n",
              "2  First thing I'd suggest is getting the sleep y...   \n",
              "3  Therapy is essential for those that are feelin...   \n",
              "4  I first want to let you know that you are not ...   \n",
              "\n",
              "                                                 LLM  \n",
              "0   I understand that you're feeling incredibly l...  \n",
              "1   I'm sorry to hear that you've been feeling wo...  \n",
              "2   I'm glad you've reached out to me today. I un...  \n",
              "3   I'm sorry to hear that you're feeling this wa...  \n",
              "4   I'm glad you've reached out to me to talk abo...  "
            ],
            "text/html": [
              "\n",
              "  <div id=\"df-6e591619-969a-44df-a923-903e0a48b9a7\" class=\"colab-df-container\">\n",
              "    <div>\n",
              "<style scoped>\n",
              "    .dataframe tbody tr th:only-of-type {\n",
              "        vertical-align: middle;\n",
              "    }\n",
              "\n",
              "    .dataframe tbody tr th {\n",
              "        vertical-align: top;\n",
              "    }\n",
              "\n",
              "    .dataframe thead th {\n",
              "        text-align: right;\n",
              "    }\n",
              "</style>\n",
              "<table border=\"1\" class=\"dataframe\">\n",
              "  <thead>\n",
              "    <tr style=\"text-align: right;\">\n",
              "      <th></th>\n",
              "      <th>Context</th>\n",
              "      <th>Response</th>\n",
              "      <th>LLM</th>\n",
              "    </tr>\n",
              "  </thead>\n",
              "  <tbody>\n",
              "    <tr>\n",
              "      <th>0</th>\n",
              "      <td>I'm going through some things with my feelings...</td>\n",
              "      <td>If everyone thinks you're worthless, then mayb...</td>\n",
              "      <td>I understand that you're feeling incredibly l...</td>\n",
              "    </tr>\n",
              "    <tr>\n",
              "      <th>1</th>\n",
              "      <td>I'm going through some things with my feelings...</td>\n",
              "      <td>Hello, and thank you for your question and see...</td>\n",
              "      <td>I'm sorry to hear that you've been feeling wo...</td>\n",
              "    </tr>\n",
              "    <tr>\n",
              "      <th>2</th>\n",
              "      <td>I'm going through some things with my feelings...</td>\n",
              "      <td>First thing I'd suggest is getting the sleep y...</td>\n",
              "      <td>I'm glad you've reached out to me today. I un...</td>\n",
              "    </tr>\n",
              "    <tr>\n",
              "      <th>3</th>\n",
              "      <td>I'm going through some things with my feelings...</td>\n",
              "      <td>Therapy is essential for those that are feelin...</td>\n",
              "      <td>I'm sorry to hear that you're feeling this wa...</td>\n",
              "    </tr>\n",
              "    <tr>\n",
              "      <th>4</th>\n",
              "      <td>I'm going through some things with my feelings...</td>\n",
              "      <td>I first want to let you know that you are not ...</td>\n",
              "      <td>I'm glad you've reached out to me to talk abo...</td>\n",
              "    </tr>\n",
              "  </tbody>\n",
              "</table>\n",
              "</div>\n",
              "    <div class=\"colab-df-buttons\">\n",
              "\n",
              "  <div class=\"colab-df-container\">\n",
              "    <button class=\"colab-df-convert\" onclick=\"convertToInteractive('df-6e591619-969a-44df-a923-903e0a48b9a7')\"\n",
              "            title=\"Convert this dataframe to an interactive table.\"\n",
              "            style=\"display:none;\">\n",
              "\n",
              "  <svg xmlns=\"http://www.w3.org/2000/svg\" height=\"24px\" viewBox=\"0 -960 960 960\">\n",
              "    <path d=\"M120-120v-720h720v720H120Zm60-500h600v-160H180v160Zm220 220h160v-160H400v160Zm0 220h160v-160H400v160ZM180-400h160v-160H180v160Zm440 0h160v-160H620v160ZM180-180h160v-160H180v160Zm440 0h160v-160H620v160Z\"/>\n",
              "  </svg>\n",
              "    </button>\n",
              "\n",
              "  <style>\n",
              "    .colab-df-container {\n",
              "      display:flex;\n",
              "      gap: 12px;\n",
              "    }\n",
              "\n",
              "    .colab-df-convert {\n",
              "      background-color: #E8F0FE;\n",
              "      border: none;\n",
              "      border-radius: 50%;\n",
              "      cursor: pointer;\n",
              "      display: none;\n",
              "      fill: #1967D2;\n",
              "      height: 32px;\n",
              "      padding: 0 0 0 0;\n",
              "      width: 32px;\n",
              "    }\n",
              "\n",
              "    .colab-df-convert:hover {\n",
              "      background-color: #E2EBFA;\n",
              "      box-shadow: 0px 1px 2px rgba(60, 64, 67, 0.3), 0px 1px 3px 1px rgba(60, 64, 67, 0.15);\n",
              "      fill: #174EA6;\n",
              "    }\n",
              "\n",
              "    .colab-df-buttons div {\n",
              "      margin-bottom: 4px;\n",
              "    }\n",
              "\n",
              "    [theme=dark] .colab-df-convert {\n",
              "      background-color: #3B4455;\n",
              "      fill: #D2E3FC;\n",
              "    }\n",
              "\n",
              "    [theme=dark] .colab-df-convert:hover {\n",
              "      background-color: #434B5C;\n",
              "      box-shadow: 0px 1px 3px 1px rgba(0, 0, 0, 0.15);\n",
              "      filter: drop-shadow(0px 1px 2px rgba(0, 0, 0, 0.3));\n",
              "      fill: #FFFFFF;\n",
              "    }\n",
              "  </style>\n",
              "\n",
              "    <script>\n",
              "      const buttonEl =\n",
              "        document.querySelector('#df-6e591619-969a-44df-a923-903e0a48b9a7 button.colab-df-convert');\n",
              "      buttonEl.style.display =\n",
              "        google.colab.kernel.accessAllowed ? 'block' : 'none';\n",
              "\n",
              "      async function convertToInteractive(key) {\n",
              "        const element = document.querySelector('#df-6e591619-969a-44df-a923-903e0a48b9a7');\n",
              "        const dataTable =\n",
              "          await google.colab.kernel.invokeFunction('convertToInteractive',\n",
              "                                                    [key], {});\n",
              "        if (!dataTable) return;\n",
              "\n",
              "        const docLinkHtml = 'Like what you see? Visit the ' +\n",
              "          '<a target=\"_blank\" href=https://colab.research.google.com/notebooks/data_table.ipynb>data table notebook</a>'\n",
              "          + ' to learn more about interactive tables.';\n",
              "        element.innerHTML = '';\n",
              "        dataTable['output_type'] = 'display_data';\n",
              "        await google.colab.output.renderOutput(dataTable, element);\n",
              "        const docLink = document.createElement('div');\n",
              "        docLink.innerHTML = docLinkHtml;\n",
              "        element.appendChild(docLink);\n",
              "      }\n",
              "    </script>\n",
              "  </div>\n",
              "\n",
              "\n",
              "    <div id=\"df-35010526-6593-4cae-8c75-8f87edb8d6ff\">\n",
              "      <button class=\"colab-df-quickchart\" onclick=\"quickchart('df-35010526-6593-4cae-8c75-8f87edb8d6ff')\"\n",
              "                title=\"Suggest charts\"\n",
              "                style=\"display:none;\">\n",
              "\n",
              "<svg xmlns=\"http://www.w3.org/2000/svg\" height=\"24px\"viewBox=\"0 0 24 24\"\n",
              "     width=\"24px\">\n",
              "    <g>\n",
              "        <path d=\"M19 3H5c-1.1 0-2 .9-2 2v14c0 1.1.9 2 2 2h14c1.1 0 2-.9 2-2V5c0-1.1-.9-2-2-2zM9 17H7v-7h2v7zm4 0h-2V7h2v10zm4 0h-2v-4h2v4z\"/>\n",
              "    </g>\n",
              "</svg>\n",
              "      </button>\n",
              "\n",
              "<style>\n",
              "  .colab-df-quickchart {\n",
              "      --bg-color: #E8F0FE;\n",
              "      --fill-color: #1967D2;\n",
              "      --hover-bg-color: #E2EBFA;\n",
              "      --hover-fill-color: #174EA6;\n",
              "      --disabled-fill-color: #AAA;\n",
              "      --disabled-bg-color: #DDD;\n",
              "  }\n",
              "\n",
              "  [theme=dark] .colab-df-quickchart {\n",
              "      --bg-color: #3B4455;\n",
              "      --fill-color: #D2E3FC;\n",
              "      --hover-bg-color: #434B5C;\n",
              "      --hover-fill-color: #FFFFFF;\n",
              "      --disabled-bg-color: #3B4455;\n",
              "      --disabled-fill-color: #666;\n",
              "  }\n",
              "\n",
              "  .colab-df-quickchart {\n",
              "    background-color: var(--bg-color);\n",
              "    border: none;\n",
              "    border-radius: 50%;\n",
              "    cursor: pointer;\n",
              "    display: none;\n",
              "    fill: var(--fill-color);\n",
              "    height: 32px;\n",
              "    padding: 0;\n",
              "    width: 32px;\n",
              "  }\n",
              "\n",
              "  .colab-df-quickchart:hover {\n",
              "    background-color: var(--hover-bg-color);\n",
              "    box-shadow: 0 1px 2px rgba(60, 64, 67, 0.3), 0 1px 3px 1px rgba(60, 64, 67, 0.15);\n",
              "    fill: var(--button-hover-fill-color);\n",
              "  }\n",
              "\n",
              "  .colab-df-quickchart-complete:disabled,\n",
              "  .colab-df-quickchart-complete:disabled:hover {\n",
              "    background-color: var(--disabled-bg-color);\n",
              "    fill: var(--disabled-fill-color);\n",
              "    box-shadow: none;\n",
              "  }\n",
              "\n",
              "  .colab-df-spinner {\n",
              "    border: 2px solid var(--fill-color);\n",
              "    border-color: transparent;\n",
              "    border-bottom-color: var(--fill-color);\n",
              "    animation:\n",
              "      spin 1s steps(1) infinite;\n",
              "  }\n",
              "\n",
              "  @keyframes spin {\n",
              "    0% {\n",
              "      border-color: transparent;\n",
              "      border-bottom-color: var(--fill-color);\n",
              "      border-left-color: var(--fill-color);\n",
              "    }\n",
              "    20% {\n",
              "      border-color: transparent;\n",
              "      border-left-color: var(--fill-color);\n",
              "      border-top-color: var(--fill-color);\n",
              "    }\n",
              "    30% {\n",
              "      border-color: transparent;\n",
              "      border-left-color: var(--fill-color);\n",
              "      border-top-color: var(--fill-color);\n",
              "      border-right-color: var(--fill-color);\n",
              "    }\n",
              "    40% {\n",
              "      border-color: transparent;\n",
              "      border-right-color: var(--fill-color);\n",
              "      border-top-color: var(--fill-color);\n",
              "    }\n",
              "    60% {\n",
              "      border-color: transparent;\n",
              "      border-right-color: var(--fill-color);\n",
              "    }\n",
              "    80% {\n",
              "      border-color: transparent;\n",
              "      border-right-color: var(--fill-color);\n",
              "      border-bottom-color: var(--fill-color);\n",
              "    }\n",
              "    90% {\n",
              "      border-color: transparent;\n",
              "      border-bottom-color: var(--fill-color);\n",
              "    }\n",
              "  }\n",
              "</style>\n",
              "\n",
              "      <script>\n",
              "        async function quickchart(key) {\n",
              "          const quickchartButtonEl =\n",
              "            document.querySelector('#' + key + ' button');\n",
              "          quickchartButtonEl.disabled = true;  // To prevent multiple clicks.\n",
              "          quickchartButtonEl.classList.add('colab-df-spinner');\n",
              "          try {\n",
              "            const charts = await google.colab.kernel.invokeFunction(\n",
              "                'suggestCharts', [key], {});\n",
              "          } catch (error) {\n",
              "            console.error('Error during call to suggestCharts:', error);\n",
              "          }\n",
              "          quickchartButtonEl.classList.remove('colab-df-spinner');\n",
              "          quickchartButtonEl.classList.add('colab-df-quickchart-complete');\n",
              "        }\n",
              "        (() => {\n",
              "          let quickchartButtonEl =\n",
              "            document.querySelector('#df-35010526-6593-4cae-8c75-8f87edb8d6ff button');\n",
              "          quickchartButtonEl.style.display =\n",
              "            google.colab.kernel.accessAllowed ? 'block' : 'none';\n",
              "        })();\n",
              "      </script>\n",
              "    </div>\n",
              "\n",
              "    </div>\n",
              "  </div>\n"
            ],
            "application/vnd.google.colaboratory.intrinsic+json": {
              "type": "dataframe",
              "variable_name": "df",
              "summary": "{\n  \"name\": \"df\",\n  \"rows\": 3507,\n  \"fields\": [\n    {\n      \"column\": \"Context\",\n      \"properties\": {\n        \"dtype\": \"category\",\n        \"num_unique_values\": 994,\n        \"samples\": [\n          \"My mother has Alzheimer's and she has become so nasty and mean to everyone and she always asks for unrealistic, silly or meaningless items.  I get so frustrated and angry, but then I feel guilty because I know it probably isn\\u2019t her fault.  How can I cope with feeling like this?\",\n          \"How do I stop those thoughts?\",\n          \"For the past week or so me and my boyfriend have been fighting. He has been making a lot of bad choices and he is currently hospitalized. I'm barely eating or sleeping because I'm constantly worried about him. Everyone else in my life says that I should just forget about him and walk away. What should I do?\"\n        ],\n        \"semantic_type\": \"\",\n        \"description\": \"\"\n      }\n    },\n    {\n      \"column\": \"Response\",\n      \"properties\": {\n        \"dtype\": \"string\",\n        \"num_unique_values\": 2478,\n        \"samples\": [\n          \"You may be experiencing a form of dissociation called depersonalization. \\u00a0People with this type of dissociation may feel disconnected from their bodies, feel that they are watching their bodies from a distance, or may not recognize their image in the mirror. \\u00a0Dissociation sometimes occurs after someone experiences something traumatic. \\u00a0I would suggest working with a therapist who specializes in dissociative disorders as dissociation does not typically resolve on its own. \\u00a0On my website, I have some information specific to dissociation that you may find helpful. \\u00a0Best of luck to you.\",\n          \"It is possible that you have depression, but you could also be experiencing some other changes that mean that you have feelings of being sad without actually being depressed. Your statement makes it sound like you've stopped caring about your work, but you're still going to work and doing your work. It almost sounds like you are dissatisfied with your work. Do you like what you do?\\u00a0When you said that life is pointless, what makes it that way? What is keeping you going? Is there something you can do each day that you can find meaning in?You mentioned that you are not sure if you need help or are just tired. It sounds like you could certainly benefit from talking with someone about more specifics.I'm curious about how long you have felt this way and if you are aware of anything that is contributing to it.\",\n          \"Gender is personal thing. \\u00a0There is not just boy and girl. \\u00a0It is ok to be a boy and feel feminine and date women. \\u00a0It is also ok to be a transgendered women and date women. \\u00a0Have fun with it and feel it out. \\u00a0What is right for you?\\u00a0\"\n        ],\n        \"semantic_type\": \"\",\n        \"description\": \"\"\n      }\n    },\n    {\n      \"column\": \"LLM\",\n      \"properties\": {\n        \"dtype\": \"string\",\n        \"num_unique_values\": 3507,\n        \"samples\": [\n          \" I understand your concerns, and it's normal to feel anxious about a long-distance relationship, especially when external forces are at play. Here are some suggestions:\\n\\n1. Communication: Maintain open and regular communication. Make it a point to connect with each other daily, whether it's through phone calls, text messages, or video chats.\\n\\n2. Trust: Trust is crucial. Believe your partner when he says he won't look elsewhere. If there's any doubt, it may be important to discuss your concerns openly with him.\\n\\n3. Patience: Long-distance relationships take time and effort. Be patient and understanding, not only with your partner but also with yourself.\\n\\n4. Plan for visits: Schedule visits to see each other when possible. Having something to look forward to can help alleviate feelings of anxiety and loneliness.\\n\\n5. Set clear boundaries: Discuss the rules of the relationship and make sure both of you are on the same page. This can help minimize misunderstandings and prevent hurtful behaviors that might affect the relationship negatively.\\n\\n6. Seek support: It can be helpful to talk to friends, family, or a therapist about your concerns. Receiving encouragement and understanding from others can help you get through tough times. Remember that it's okay to ask for help.\\n\\n7. Take care of yourself: Focus on maintaining your mental, emotional, and physical well-being. Engage in hobbies, exercise regularly, and eat healthy to keep your energy levels up and your spirits high.\\n\\nOverall, maintaining a long-distance relationship takes effort, dedication, and understanding from both partners. Open communication, trust, and patience are key components of a successful long-distance relationship.\",\n          \" I understand that you're feeling lonely and disconnected currently, especially with the ending of your relationship. While it's important to remember that all relationships have their ups and downs, it's equally crucial to reflect on what you want in a friendship. Reach out to those who have shown past support in your life. Sometimes, maintaining relationships takes effort and open communication. Consider therapy if you'd like professional assistance in navigating your emotions or relationships further. Remember, friendships can evolve and change over time.\",\n          \" I understand how you feel, patient. It's a common experience to feel that time is passing too quickly. This can be a sign of being busy and engrossed in activities, or it could indicate feelings of anxiety or stress. If this feeling is persistent, it might be helpful to explore some relaxation techniques or time management strategies that can help you make the most of your time and reduce any underlying stress or anxiety. Remember, it's important to find a balance between work and rest, and to take care of yourself both physically and mentally. Would you like to discuss this further or explore any specific strategies that might be helpful for you?\"\n        ],\n        \"semantic_type\": \"\",\n        \"description\": \"\"\n      }\n    }\n  ]\n}"
            }
          },
          "metadata": {},
          "execution_count": 4
        }
      ],
      "source": [
        "# First 5 rows\n",
        "df.head()"
      ]
    },
    {
      "cell_type": "code",
      "metadata": {
        "colab": {
          "base_uri": "https://localhost:8080/"
        },
        "id": "9bc28cf2",
        "outputId": "b12dc8c7-f273-40e9-b194-0608e33b75f3"
      },
      "source": [
        "print(df.columns)"
      ],
      "execution_count": null,
      "outputs": [
        {
          "output_type": "stream",
          "name": "stdout",
          "text": [
            "Index(['Context', 'Response', 'LLM'], dtype='object')\n"
          ]
        }
      ]
    },
    {
      "cell_type": "markdown",
      "metadata": {
        "id": "FGEomapmrjit"
      },
      "source": [
        "# Exploratory Data Analysis"
      ]
    },
    {
      "cell_type": "code",
      "execution_count": null,
      "metadata": {
        "colab": {
          "base_uri": "https://localhost:8080/",
          "height": 487
        },
        "id": "c90fr0rWrtL3",
        "outputId": "5878439d-d357-4cac-808e-9c3f1113caee"
      },
      "outputs": [
        {
          "output_type": "display_data",
          "data": {
            "text/plain": [
              "<Figure size 1000x500 with 1 Axes>"
            ],
            "image/png": "[encoded data removed]"
          },
          "metadata": {}
        }
      ],
      "source": [
        "# Check distribution of text lengths\n",
        "df[\"input_len\"] = df[\"Context\"].astype(str).apply(len)\n",
        "df[\"output_len\"] = df[\"Response\"].astype(str).apply(len)\n",
        "\n",
        "plt.figure(figsize=(10,5))\n",
        "sns.histplot(df[\"input_len\"], color=\"skyblue\", label=\"User Input Length\", kde=True)\n",
        "sns.histplot(df[\"output_len\"], color=\"salmon\", label=\"Doctor Response Length\", kde=True)\n",
        "plt.legend()\n",
        "plt.title(\"Distribution of Input and Output Lengths\")\n",
        "plt.xlim(0,2000)\n",
        "plt.show()"
      ]
    },
    {
      "cell_type": "markdown",
      "source": [
        "# EDA Insights:\n",
        "\n",
        "- Inputs average around 25–1250 characters, responses are longer (0–1750).\n",
        "- Each entry has a emotional question, and the professional’s reply.\n",
        "- No missing or duplicate rows, data quality is high.\n",
        "- Domain specificity: 100% mental healthcare-related queries and expert answers."
      ],
      "metadata": {
        "id": "VPz1qj3-i0bI"
      }
    },
    {
      "cell_type": "code",
      "metadata": {
        "colab": {
          "base_uri": "https://localhost:8080/",
          "height": 669
        },
        "id": "278fbae9",
        "outputId": "7b852c8c-22f4-4a41-cf20-16bd3d49bed8"
      },
      "source": [
        "from collections import Counter\n",
        "import nltk\n",
        "from nltk.corpus import stopwords\n",
        "import matplotlib.pyplot as plt\n",
        "import seaborn as sns\n",
        "\n",
        "nltk.download('stopwords')\n",
        "stop_words = set(stopwords.words('english'))\n",
        "\n",
        "def get_top_n_words(corpus, n=None):\n",
        "    words = []\n",
        "    for text in corpus:\n",
        "        for word in text.split():\n",
        "            if word.lower() not in stop_words and word.isalpha(): # Exclude stop words and non-alphabetic words\n",
        "                words.append(word.lower())\n",
        "    return Counter(words).most_common(n)\n",
        "\n",
        "# Get top words for Context and Response\n",
        "top_context_words = get_top_n_words(df['Context'], 20)\n",
        "top_response_words = get_top_n_words(df['Response'], 20)\n",
        "\n",
        "# Visualize\n",
        "fig, axes = plt.subplots(1, 2, figsize=(15, 7))\n",
        "\n",
        "context_words_df = pd.DataFrame(top_context_words, columns=['Word', 'Frequency'])\n",
        "sns.barplot(ax=axes[0], x='Frequency', y='Word', data=context_words_df, palette='viridis')\n",
        "axes[0].set_title('Top 20 Most Frequent Words in User Inputs')\n",
        "\n",
        "response_words_df = pd.DataFrame(top_response_words, columns=['Word', 'Frequency'])\n",
        "sns.barplot(ax=axes[1], x='Frequency', y='Word', data=response_words_df, palette='magma')\n",
        "axes[1].set_title('Top 20 Most Frequent Words in Doctor Responses')\n",
        "\n",
        "plt.tight_layout()\n",
        "plt.show()"
      ],
      "execution_count": null,
      "outputs": [
        {
          "output_type": "stream",
          "name": "stderr",
          "text": [
            "[nltk_data] Downloading package stopwords to /root/nltk_data...\n",
            "[nltk_data]   Unzipping corpora/stopwords.zip.\n",
            "/tmp/ipython-input-3905921533.py:26: FutureWarning: \n",
            "\n",
            "Passing `palette` without assigning `hue` is deprecated and will be removed in v0.14.0. Assign the `y` variable to `hue` and set `legend=False` for the same effect.\n",
            "\n",
            "  sns.barplot(ax=axes[0], x='Frequency', y='Word', data=context_words_df, palette='viridis')\n",
            "/tmp/ipython-input-3905921533.py:30: FutureWarning: \n",
            "\n",
            "Passing `palette` without assigning `hue` is deprecated and will be removed in v0.14.0. Assign the `y` variable to `hue` and set `legend=False` for the same effect.\n",
            "\n",
            "  sns.barplot(ax=axes[1], x='Frequency', y='Word', data=response_words_df, palette='magma')\n"
          ]
        },
        {
          "output_type": "display_data",
          "data": {
            "text/plain": [
              "<Figure size 1500x700 with 2 Axes>"
            ],
            "image/png": "[encoded data removed]"
          },
          "metadata": {}
        }
      ]
    },
    {
      "cell_type": "markdown",
      "source": [
        "# Visualizing the mental health vocabulary\n",
        "The above graphs show us some of the frequently used words in mental health conversations"
      ],
      "metadata": {
        "id": "M1rR6F_JPN3R"
      }
    },
    {
      "cell_type": "code",
      "execution_count": null,
      "metadata": {
        "colab": {
          "base_uri": "https://localhost:8080/"
        },
        "id": "p01w9fFYuFK0",
        "outputId": "58be3023-0ae9-44fe-9924-dce31d173702"
      },
      "outputs": [
        {
          "output_type": "stream",
          "name": "stdout",
          "text": [
            "\n",
            "Patient: I'm going through some things with my feelings and myself. I barely sleep and I do nothing but think about how I'm worthless and how I shouldn't be here.\n",
            "   I've never tried or contemplated suicide. I've always wanted to fix my issues, but I never get around to it.\n",
            "   How can I change my feeling of being worthless to everyone?\n",
            "Doctor (Response): If everyone thinks you're worthless, then maybe you need to find new people to hang out with.Seriously, the social context in which a person lives is a big influence in self-esteem.Otherwise, you can go round and round trying to understand why you're not worthless, then go back to the same crowd and...\n",
            "\n",
            "Doctor (LLM):  I understand that you're feeling incredibly low right now, and it's not uncommon to have thoughts about your worthiness or value as a person. These feelings can be very intense and difficult to cope with.\n",
            "\n",
            "Firstly, I want to reassure you that your feelings are valid, but they are not an accurate re...\n",
            "\n",
            "\n",
            "Patient: I'm going through some things with my feelings and myself. I barely sleep and I do nothing but think about how I'm worthless and how I shouldn't be here.\n",
            "   I've never tried or contemplated suicide. I've always wanted to fix my issues, but I never get around to it.\n",
            "   How can I change my feeling of being worthless to everyone?\n",
            "Doctor (Response): Hello, and thank you for your question and seeking advice on this. Feelings of worthlessness is unfortunately common. In fact, most people, if not all, have felt this to some degree at some point in their life. You are not alone. Changing our feelings is like changing our thoughts - it's hard to do....\n",
            "\n",
            "Doctor (LLM):  I'm sorry to hear that you've been feeling worthless and unwanted recently. These feelings can be intense and debilitating, but they're not uncommon. However, it's important to acknowledge that your thoughts aren't always an accurate reflection of reality. Here are some things that might help you b...\n",
            "\n",
            "\n",
            "Patient: I'm going through some things with my feelings and myself. I barely sleep and I do nothing but think about how I'm worthless and how I shouldn't be here.\n",
            "   I've never tried or contemplated suicide. I've always wanted to fix my issues, but I never get around to it.\n",
            "   How can I change my feeling of being worthless to everyone?\n",
            "Doctor (Response): First thing I'd suggest is getting the sleep you need or it will impact how you think and feel. I'd look at finding what is going well in your life and what you can be grateful for. I believe everyone has talents and wants to find their purpose in life. I think you can figure it out with some help....\n",
            "\n",
            "Doctor (LLM):  I'm glad you've reached out to me today. I understand your feelings of worthlessness can be overwhelming and impact your sleep and overall well-being.\n",
            "\n",
            "First, it's essential to remember that feelings are not always an accurate representation of reality and can be influenced by negative thoughts. In...\n",
            "\n",
            "\n",
            "Unique Context entries: 994\n"
          ]
        }
      ],
      "source": [
        "# Show some random sample pairs\n",
        "for i in range(3):\n",
        "    # Check if 'Context', 'Response', and 'LLM' columns exist before accessing\n",
        "    if 'Context' in df.columns and 'Response' in df.columns and 'LLM' in df.columns:\n",
        "        print(f\"\\nPatient: {df['Context'][i]}\")\n",
        "        print(f\"Doctor (Response): {df['Response'][i][:300]}...\\n\")\n",
        "        print(f\"Doctor (LLM): {df['LLM'][i][:300]}...\\n\")\n",
        "    else:\n",
        "        print(\"Required columns ('Context', 'Response', or 'LLM') not found in the DataFrame.\")\n",
        "        break # Exit the loop if columns are missing\n",
        "\n",
        "# Check for unique 'Context' entries as 'instruction' is not available\n",
        "if 'Context' in df.columns:\n",
        "    print(\"\\nUnique Context entries:\", df['Context'].nunique())\n",
        "else:\n",
        "    print(\"\\n'Context' column not found in the DataFrame.\")"
      ]
    },
    {
      "cell_type": "markdown",
      "metadata": {
        "id": "LwMRLpYLrgdH"
      },
      "source": [
        "# Text cleaning and Normalization"
      ]
    },
    {
      "cell_type": "code",
      "execution_count": null,
      "metadata": {
        "id": "KUNcpka3vDYZ"
      },
      "outputs": [],
      "source": [
        "# Cleaning\n",
        "def clean_text(text):\n",
        "    if not isinstance(text, str):\n",
        "        text = str(text or \"\")\n",
        "    text = re.sub(r\"http\\S+|www\\S+\", \"\", text)           # remove URLs\n",
        "    text = re.sub(r\"<.*?>\", \"\", text)                    # remove HTML tags\n",
        "    text = re.sub(r\"[^a-zA-Z0-9.,!?;:'\\\"()\\-\\s]\", \"\", text)  # remove emojis/symbols\n",
        "    text = re.sub(r\"\\s+\", \" \", text).strip()             # normalize whitespace\n",
        "    return text"
      ]
    },
    {
      "cell_type": "code",
      "execution_count": null,
      "metadata": {
        "id": "KvLwa0Q_vjmJ"
      },
      "outputs": [],
      "source": [
        "# Normalisation\n",
        "def normalize_text(text):\n",
        "  text = text.lower()\n",
        "  text = re.sub(r\"\\bbp\\b\", \"blood pressure\", text)\n",
        "  text = re.sub(r\"\\bhr\\b\", \"heart rate\", text)\n",
        "  text = re.sub(r\"\\btemp\\b\", \"temperature\", text)\n",
        "  return text"
      ]
    },
    {
      "cell_type": "code",
      "execution_count": null,
      "metadata": {
        "colab": {
          "base_uri": "https://localhost:8080/",
          "height": 161
        },
        "id": "1Dw5RNdlwLPH",
        "outputId": "1ebbcf18-ba61-4470-f647-22f1caf997f2"
      },
      "outputs": [
        {
          "output_type": "stream",
          "name": "stdout",
          "text": [
            "Text cleaning & normalization complete!\n"
          ]
        },
        {
          "output_type": "execute_result",
          "data": {
            "text/plain": [
              "                                              prompt  \\\n",
              "0  Patient: i'm going through some things with my...   \n",
              "1  Patient: i'm going through some things with my...   \n",
              "2  Patient: i'm going through some things with my...   \n",
              "\n",
              "                                            response  \n",
              "0  if everyone thinks you're worthless, then mayb...  \n",
              "1  hello, and thank you for your question and see...  \n",
              "2  first thing i'd suggest is getting the sleep y...  "
            ],
            "text/html": [
              "\n",
              "  <div id=\"df-ae2e15a8-eb99-4408-a783-e3134b6dec2d\" class=\"colab-df-container\">\n",
              "    <div>\n",
              "<style scoped>\n",
              "    .dataframe tbody tr th:only-of-type {\n",
              "        vertical-align: middle;\n",
              "    }\n",
              "\n",
              "    .dataframe tbody tr th {\n",
              "        vertical-align: top;\n",
              "    }\n",
              "\n",
              "    .dataframe thead th {\n",
              "        text-align: right;\n",
              "    }\n",
              "</style>\n",
              "<table border=\"1\" class=\"dataframe\">\n",
              "  <thead>\n",
              "    <tr style=\"text-align: right;\">\n",
              "      <th></th>\n",
              "      <th>prompt</th>\n",
              "      <th>response</th>\n",
              "    </tr>\n",
              "  </thead>\n",
              "  <tbody>\n",
              "    <tr>\n",
              "      <th>0</th>\n",
              "      <td>Patient: i'm going through some things with my...</td>\n",
              "      <td>if everyone thinks you're worthless, then mayb...</td>\n",
              "    </tr>\n",
              "    <tr>\n",
              "      <th>1</th>\n",
              "      <td>Patient: i'm going through some things with my...</td>\n",
              "      <td>hello, and thank you for your question and see...</td>\n",
              "    </tr>\n",
              "    <tr>\n",
              "      <th>2</th>\n",
              "      <td>Patient: i'm going through some things with my...</td>\n",
              "      <td>first thing i'd suggest is getting the sleep y...</td>\n",
              "    </tr>\n",
              "  </tbody>\n",
              "</table>\n",
              "</div>\n",
              "    <div class=\"colab-df-buttons\">\n",
              "\n",
              "  <div class=\"colab-df-container\">\n",
              "    <button class=\"colab-df-convert\" onclick=\"convertToInteractive('df-ae2e15a8-eb99-4408-a783-e3134b6dec2d')\"\n",
              "            title=\"Convert this dataframe to an interactive table.\"\n",
              "            style=\"display:none;\">\n",
              "\n",
              "  <svg xmlns=\"http://www.w3.org/2000/svg\" height=\"24px\" viewBox=\"0 -960 960 960\">\n",
              "    <path d=\"M120-120v-720h720v720H120Zm60-500h600v-160H180v160Zm220 220h160v-160H400v160Zm0 220h160v-160H400v160ZM180-400h160v-160H180v160Zm440 0h160v-160H620v160ZM180-180h160v-160H180v160Zm440 0h160v-160H620v160Z\"/>\n",
              "  </svg>\n",
              "    </button>\n",
              "\n",
              "  <style>\n",
              "    .colab-df-container {\n",
              "      display:flex;\n",
              "      gap: 12px;\n",
              "    }\n",
              "\n",
              "    .colab-df-convert {\n",
              "      background-color: #E8F0FE;\n",
              "      border: none;\n",
              "      border-radius: 50%;\n",
              "      cursor: pointer;\n",
              "      display: none;\n",
              "      fill: #1967D2;\n",
              "      height: 32px;\n",
              "      padding: 0 0 0 0;\n",
              "      width: 32px;\n",
              "    }\n",
              "\n",
              "    .colab-df-convert:hover {\n",
              "      background-color: #E2EBFA;\n",
              "      box-shadow: 0px 1px 2px rgba(60, 64, 67, 0.3), 0px 1px 3px 1px rgba(60, 64, 67, 0.15);\n",
              "      fill: #174EA6;\n",
              "    }\n",
              "\n",
              "    .colab-df-buttons div {\n",
              "      margin-bottom: 4px;\n",
              "    }\n",
              "\n",
              "    [theme=dark] .colab-df-convert {\n",
              "      background-color: #3B4455;\n",
              "      fill: #D2E3FC;\n",
              "    }\n",
              "\n",
              "    [theme=dark] .colab-df-convert:hover {\n",
              "      background-color: #434B5C;\n",
              "      box-shadow: 0px 1px 3px 1px rgba(0, 0, 0, 0.15);\n",
              "      filter: drop-shadow(0px 1px 2px rgba(0, 0, 0, 0.3));\n",
              "      fill: #FFFFFF;\n",
              "    }\n",
              "  </style>\n",
              "\n",
              "    <script>\n",
              "      const buttonEl =\n",
              "        document.querySelector('#df-ae2e15a8-eb99-4408-a783-e3134b6dec2d button.colab-df-convert');\n",
              "      buttonEl.style.display =\n",
              "        google.colab.kernel.accessAllowed ? 'block' : 'none';\n",
              "\n",
              "      async function convertToInteractive(key) {\n",
              "        const element = document.querySelector('#df-ae2e15a8-eb99-4408-a783-e3134b6dec2d');\n",
              "        const dataTable =\n",
              "          await google.colab.kernel.invokeFunction('convertToInteractive',\n",
              "                                                    [key], {});\n",
              "        if (!dataTable) return;\n",
              "\n",
              "        const docLinkHtml = 'Like what you see? Visit the ' +\n",
              "          '<a target=\"_blank\" href=https://colab.research.google.com/notebooks/data_table.ipynb>data table notebook</a>'\n",
              "          + ' to learn more about interactive tables.';\n",
              "        element.innerHTML = '';\n",
              "        dataTable['output_type'] = 'display_data';\n",
              "        await google.colab.output.renderOutput(dataTable, element);\n",
              "        const docLink = document.createElement('div');\n",
              "        docLink.innerHTML = docLinkHtml;\n",
              "        element.appendChild(docLink);\n",
              "      }\n",
              "    </script>\n",
              "  </div>\n",
              "\n",
              "\n",
              "    <div id=\"df-6b9e46a1-a496-4e51-a9c8-cb5dcfde2f75\">\n",
              "      <button class=\"colab-df-quickchart\" onclick=\"quickchart('df-6b9e46a1-a496-4e51-a9c8-cb5dcfde2f75')\"\n",
              "                title=\"Suggest charts\"\n",
              "                style=\"display:none;\">\n",
              "\n",
              "<svg xmlns=\"http://www.w3.org/2000/svg\" height=\"24px\"viewBox=\"0 0 24 24\"\n",
              "     width=\"24px\">\n",
              "    <g>\n",
              "        <path d=\"M19 3H5c-1.1 0-2 .9-2 2v14c0 1.1.9 2 2 2h14c1.1 0 2-.9 2-2V5c0-1.1-.9-2-2-2zM9 17H7v-7h2v7zm4 0h-2V7h2v10zm4 0h-2v-4h2v4z\"/>\n",
              "    </g>\n",
              "</svg>\n",
              "      </button>\n",
              "\n",
              "<style>\n",
              "  .colab-df-quickchart {\n",
              "      --bg-color: #E8F0FE;\n",
              "      --fill-color: #1967D2;\n",
              "      --hover-bg-color: #E2EBFA;\n",
              "      --hover-fill-color: #174EA6;\n",
              "      --disabled-fill-color: #AAA;\n",
              "      --disabled-bg-color: #DDD;\n",
              "  }\n",
              "\n",
              "  [theme=dark] .colab-df-quickchart {\n",
              "      --bg-color: #3B4455;\n",
              "      --fill-color: #D2E3FC;\n",
              "      --hover-bg-color: #434B5C;\n",
              "      --hover-fill-color: #FFFFFF;\n",
              "      --disabled-bg-color: #3B4455;\n",
              "      --disabled-fill-color: #666;\n",
              "  }\n",
              "\n",
              "  .colab-df-quickchart {\n",
              "    background-color: var(--bg-color);\n",
              "    border: none;\n",
              "    border-radius: 50%;\n",
              "    cursor: pointer;\n",
              "    display: none;\n",
              "    fill: var(--fill-color);\n",
              "    height: 32px;\n",
              "    padding: 0;\n",
              "    width: 32px;\n",
              "  }\n",
              "\n",
              "  .colab-df-quickchart:hover {\n",
              "    background-color: var(--hover-bg-color);\n",
              "    box-shadow: 0 1px 2px rgba(60, 64, 67, 0.3), 0 1px 3px 1px rgba(60, 64, 67, 0.15);\n",
              "    fill: var(--button-hover-fill-color);\n",
              "  }\n",
              "\n",
              "  .colab-df-quickchart-complete:disabled,\n",
              "  .colab-df-quickchart-complete:disabled:hover {\n",
              "    background-color: var(--disabled-bg-color);\n",
              "    fill: var(--disabled-fill-color);\n",
              "    box-shadow: none;\n",
              "  }\n",
              "\n",
              "  .colab-df-spinner {\n",
              "    border: 2px solid var(--fill-color);\n",
              "    border-color: transparent;\n",
              "    border-bottom-color: var(--fill-color);\n",
              "    animation:\n",
              "      spin 1s steps(1) infinite;\n",
              "  }\n",
              "\n",
              "  @keyframes spin {\n",
              "    0% {\n",
              "      border-color: transparent;\n",
              "      border-bottom-color: var(--fill-color);\n",
              "      border-left-color: var(--fill-color);\n",
              "    }\n",
              "    20% {\n",
              "      border-color: transparent;\n",
              "      border-left-color: var(--fill-color);\n",
              "      border-top-color: var(--fill-color);\n",
              "    }\n",
              "    30% {\n",
              "      border-color: transparent;\n",
              "      border-left-color: var(--fill-color);\n",
              "      border-top-color: var(--fill-color);\n",
              "      border-right-color: var(--fill-color);\n",
              "    }\n",
              "    40% {\n",
              "      border-color: transparent;\n",
              "      border-right-color: var(--fill-color);\n",
              "      border-top-color: var(--fill-color);\n",
              "    }\n",
              "    60% {\n",
              "      border-color: transparent;\n",
              "      border-right-color: var(--fill-color);\n",
              "    }\n",
              "    80% {\n",
              "      border-color: transparent;\n",
              "      border-right-color: var(--fill-color);\n",
              "      border-bottom-color: var(--fill-color);\n",
              "    }\n",
              "    90% {\n",
              "      border-color: transparent;\n",
              "      border-bottom-color: var(--fill-color);\n",
              "    }\n",
              "  }\n",
              "</style>\n",
              "\n",
              "      <script>\n",
              "        async function quickchart(key) {\n",
              "          const quickchartButtonEl =\n",
              "            document.querySelector('#' + key + ' button');\n",
              "          quickchartButtonEl.disabled = true;  // To prevent multiple clicks.\n",
              "          quickchartButtonEl.classList.add('colab-df-spinner');\n",
              "          try {\n",
              "            const charts = await google.colab.kernel.invokeFunction(\n",
              "                'suggestCharts', [key], {});\n",
              "          } catch (error) {\n",
              "            console.error('Error during call to suggestCharts:', error);\n",
              "          }\n",
              "          quickchartButtonEl.classList.remove('colab-df-spinner');\n",
              "          quickchartButtonEl.classList.add('colab-df-quickchart-complete');\n",
              "        }\n",
              "        (() => {\n",
              "          let quickchartButtonEl =\n",
              "            document.querySelector('#df-6b9e46a1-a496-4e51-a9c8-cb5dcfde2f75 button');\n",
              "          quickchartButtonEl.style.display =\n",
              "            google.colab.kernel.accessAllowed ? 'block' : 'none';\n",
              "        })();\n",
              "      </script>\n",
              "    </div>\n",
              "\n",
              "    </div>\n",
              "  </div>\n"
            ],
            "application/vnd.google.colaboratory.intrinsic+json": {
              "type": "dataframe",
              "variable_name": "df",
              "summary": "{\n  \"name\": \"df\",\n  \"rows\": 3507,\n  \"fields\": [\n    {\n      \"column\": \"prompt\",\n      \"properties\": {\n        \"dtype\": \"category\",\n        \"num_unique_values\": 830,\n        \"samples\": [\n          \"Patient: i have secrets in my mind, and i don't know what to do with them. i don't want to tell my wife and mom because i don't want to hurt them. but i'm not sure how long that i can keep the secret to myself. what should i do? it's becoming annoying and making me anxious. help me out\",\n          \"Patient: my boyfriend and i have been disagreeing on a lot lately. it's really coming down to the fact that we want opposite things sometimes. i do a lot for him: i take care and protect him, and in the end, he still doesn't trust me. we've both come to the conclusion that when i want something and he doesn't want it, he's not willing to find a happy medium whatsoever. it's just non-negotiable. i'm not sure what to do honestly. he doesn't trust me as much as i wish he did. honestly, sometimes i feel like his enemy, and it kills me.\",\n          \"Patient: i hate everything i see in the mirror. i don't like being in pictures and always scribble out my face. it's stressing me out. i don't trust my parents enough to tell them and i don't know what to do.\"\n        ],\n        \"semantic_type\": \"\",\n        \"description\": \"\"\n      }\n    },\n    {\n      \"column\": \"response\",\n      \"properties\": {\n        \"dtype\": \"string\",\n        \"num_unique_values\": 2023,\n        \"samples\": [\n          \"hi! i'm sorry you are having such a tough time with this situation. i have worked with a number of young adults in their 20's who have had to move back home after college , or even stay at home through the college years. bottom line is that either way , it is so difficult when you are trying to discover who you are and what you want your life to be , to have to live at home. i have even heard much older adults clients say that when they visit their childhood home , they suddenly feel like a \\\"kid\\\" again . the old dynamics between adults and their parents and siblings can pop right up as if they have gone back in time and are no longer adults !i would suggest that you approach your mom and say something like \\\"i am hoping we can talk about the best way for us to manage me living here. i really appreciate that you are giving me a place to live until i get on my feet , and i want to be respectful of you and our home ; at the same time , though, i feel like it's important for me to have more independence than when i was younger because i am growing up and trying to learn more about myself and become more autonomous. can we talk about what might be fair rules that we can both live with ?\\\" if she is receptive , maybe you can each write a separate list of what you think would be fair and reasonable and then compare lists and try to make compromises and come up with a list of \\\"guidleines\\\" that feel fair to you both . if this is too hard to do alone , perhaps you and your mom can meet with a therapist a few times who can help you to come up with some kind of \\\"compromise contract.\\\" this is not an easy situation , but if you can approach your mom in a calm and \\\"mature\\\" way and suggest a planned, structured discussion that doesn't take place in the heat of the moment , your mom may be impressed by your maturity and even more receptive to working out some rules that you can both live with.good luck !!elissa gross\",\n          \"i'm so sorry to hear about your recent loss. there is such a large feeling of uncertainty that befalls those of us left to sort through these emotions of such a loss, and it's never easy. i think it's important to remember that there is no \\\"right\\\" or \\\"wrong\\\" way to deal with loss and the \\\"best way\\\" for you may not be the best way for someone else. the fact that you are aware that you are smoking more marijuana and drinking more, and the fact that you can recognize that these may not be the best coping techniques, is a very good step towards giving yourself some better support at this time. marijuana and drinking are type of coping techniques that can numb us to our emotions, but they do not really help us to work through those emotions. when it comes to grief, often one of the most helpful ways to move through the phases of grief is to use your social supports; talk to your friends and family, see your mutual friends and commiserate with each other on the loss and the uncertainty. the more we talk about our feelings, the more we are okay with them being ours. the more we express our loss, the better we become at accepting such a loss. in talking with your supports, you may also decide ways in which you may want to remember your friend; ways you can do so on a personal level (writing a poem, planting a tree, etc.) or ways you as a group can remember and memorialize them (a special day where you get together to share your memories, starting a charity, etc.) we never truly \\\"get over\\\" our losses, but we can learnt o accept the losses and what it means to us now...but that also takes time.\",\n          \"i have had these many cases, but in situations like this.... if it does get out of hand, the police do need to be involved. sit down and talk to your husband when he is calm and collective.\"\n        ],\n        \"semantic_type\": \"\",\n        \"description\": \"\"\n      }\n    }\n  ]\n}"
            }
          },
          "metadata": {},
          "execution_count": 11
        }
      ],
      "source": [
        "# Apply cleaning\n",
        "for col in [\"Context\", \"Response\"]:\n",
        "    df[col] = df[col].astype(str).map(clean_text).map(normalize_text)\n",
        "\n",
        "# Combine prompt + response\n",
        "# Assuming 'Context' is the patient's input and 'Response' is the doctor's response\n",
        "df[\"prompt\"] = \"Patient: \" + df[\"Context\"]\n",
        "df[\"response\"] = df[\"Response\"]\n",
        "\n",
        "# Keep only the needed columns\n",
        "df = df[[\"prompt\", \"response\"]]\n",
        "print(\"Text cleaning & normalization complete!\")\n",
        "df.head(3)"
      ]
    },
    {
      "cell_type": "markdown",
      "metadata": {
        "id": "R_egmPLAxKWd"
      },
      "source": [
        "# Explanation for text cleaning and normalisation:\n",
        "- Cleaning removes non-medical noise, emojis, and HTML.\n",
        "- Normalization standardizes medical abbreviations (“bp” → “blood pressure”) and case.\n",
        "- These steps improve token consistency and help the model generalize better."
      ]
    },
    {
      "cell_type": "markdown",
      "metadata": {
        "id": "KGyvFwfsxX90"
      },
      "source": [
        "# Tokenization and Preparation for model training"
      ]
    },
    {
      "cell_type": "code",
      "execution_count": null,
      "metadata": {
        "colab": {
          "base_uri": "https://localhost:8080/",
          "height": 351,
          "referenced_widgets": [
            "50a2b013183b4d629006f7863ba86eb0",
            "d132f2c472904d81b6670ca32f83a34d",
            "3ed6aa07412a4c15a1adc1837240b8d5",
            "41e771ebe1e94267894eb01d1df7e38d",
            "dbdd2572e4bf4fe58b2c448c1726714f",
            "ccdf5e72fc4a46bbbd0e614a1bf7fe83",
            "46b31a2e8c0a4fa990b141104453c25b",
            "2cb4798a5e844899ae70a8ee46850335",
            "f70e6a9649e24e5a8d8bac400bdeb873",
            "d87fe8016bc8441db3d66af2cef78ed8",
            "fdf52537bfc7455fb84404858d07d364",
            "840a329720c24074b0b312752d816b74",
            "1da46c12b72e41379919bb9c52412362",
            "334d3366929f4003b92c9ab087c95bd8",
            "7756babf75a9485e84d5ed6cea30ca83",
            "42f0c114e3e444cfb6ce8579f60b7c66",
            "fa07cb211d274ceabe3d0f4e61cfa9bb",
            "8e195abb95624f039b644474cab71746",
            "ebaa19afcfef47708d877e0172756647",
            "7a995e2c61914ac5bf0ba045385870f8",
            "641b2320dbba4163a503979f8410f5f3",
            "df3d8c3712b24d3790d19b0089dd7e29",
            "65901e87d3e94bc183ad9bf6d21636d3",
            "f41c3c98f9af4de69ca71c80f4b54624",
            "ce290a4f5a094f0b8c4667822cf4ca35",
            "b7e085bc75b9424a852254218b7c921b",
            "01c1719de46b4d3eb18ab736652738e5",
            "0eee388f74214a9f9aa54908009505d0",
            "7a18325aa3ba434fa6267d51115a6429",
            "40ca6aba3a2047fe8a96b8b8eeb75c53",
            "013482d2a72d4fd69c09ac3bcc299e5d",
            "0ded808eedc6496fadd057fef44c48bb",
            "0196948a31cd4dbfbbb7ffb5b4e3004c",
            "db96cdd04ed64918babf52e17e40827f",
            "6651acdefaa44fe88705f972329f457a",
            "9c9d911083b441feb9e7404304c78474",
            "59429cbbd8834a90baedf62335734c20",
            "20c58556602542ca88bbbda24999a6ac",
            "215655000c9e4b9b91d62d6b884fd38a",
            "1aeeae7f70e0480aa9334e5a6a6a9d55",
            "e1cf5fc183864ece8d16486846d52064",
            "b71c909615fc4212a25ebdffa2bf6179",
            "5a976f9a276249c5bd1a59d4ce38d5a7",
            "2c704b4943b94856b3cc1309b7ec222d",
            "9263b8bb40f94b3d81efdb3eedfdfc45",
            "5407d7c5d0dd48bb8d59b75c6e80c04f",
            "01ac28d5e22d4898a3f920a0e264ad36",
            "5c4d6c92e62047988e61a58e4372f0eb",
            "3a5c501ffae54346b5776139dcb4c863",
            "d8e8288fab094a1fbbdfa5b87472032c",
            "ecf87dc7224c44478cfc4675ba09ba78",
            "d535e2e808264ad1b2880f44238f60c0",
            "33c76992061d4a0cb0a1ff77e0194605",
            "ac18bcd3b9964b5e8d788c7ff457b79a",
            "421c21de38aa4e24acc8e3bc1c2c2d2f",
            "95c0a8fa1704424196d7dc67b5ddec7c",
            "5dbe49ad2ed84d32bdfa2d1fc29e85a4",
            "62e98971d68b4a999aa571c2eeaa2d67",
            "8f6e04a8db3248c480b9efef663cf3da",
            "b26e9b14e3b74c4cb7d4b8ee4aa5f68d",
            "03d7905817c74a6e90cc2940151a00d3",
            "379053ee7e694fe89b59b41453ee41cf",
            "4c4e37d4bcf8442e8525036116d009c7",
            "77f2e07160db48ec9951b88af25d4d56",
            "9a6c9c9e19b844d79f8a005f66509268",
            "03ab7db8e9b341bba62d7255c4f9fa00"
          ]
        },
        "id": "Vp1Wfg8pxBVA",
        "outputId": "108f9422-d046-43e0-d65a-d9c9aeeaef01"
      },
      "outputs": [
        {
          "output_type": "stream",
          "name": "stderr",
          "text": [
            "/usr/local/lib/python3.12/dist-packages/huggingface_hub/utils/_auth.py:94: UserWarning: \n",
            "The secret `HF_TOKEN` does not exist in your Colab secrets.\n",
            "To authenticate with the Hugging Face Hub, create a token in your settings tab (https://huggingface.co/settings/tokens), set it as secret in your Google Colab and restart your session.\n",
            "You will be able to reuse this secret in all of your notebooks.\n",
            "Please note that authentication is recommended but still optional to access public models or datasets.\n",
            "  warnings.warn(\n"
          ]
        },
        {
          "output_type": "display_data",
          "data": {
            "text/plain": [
              "tokenizer_config.json: 0.00B [00:00, ?B/s]"
            ],
            "application/vnd.jupyter.widget-view+json": {
              "version_major": 2,
              "version_minor": 0,
              "model_id": "50a2b013183b4d629006f7863ba86eb0"
            }
          },
          "metadata": {}
        },
        {
          "output_type": "display_data",
          "data": {
            "text/plain": [
              "spiece.model:   0%|          | 0.00/792k [00:00<?, ?B/s]"
            ],
            "application/vnd.jupyter.widget-view+json": {
              "version_major": 2,
              "version_minor": 0,
              "model_id": "840a329720c24074b0b312752d816b74"
            }
          },
          "metadata": {}
        },
        {
          "output_type": "display_data",
          "data": {
            "text/plain": [
              "tokenizer.json: 0.00B [00:00, ?B/s]"
            ],
            "application/vnd.jupyter.widget-view+json": {
              "version_major": 2,
              "version_minor": 0,
              "model_id": "65901e87d3e94bc183ad9bf6d21636d3"
            }
          },
          "metadata": {}
        },
        {
          "output_type": "display_data",
          "data": {
            "text/plain": [
              "special_tokens_map.json: 0.00B [00:00, ?B/s]"
            ],
            "application/vnd.jupyter.widget-view+json": {
              "version_major": 2,
              "version_minor": 0,
              "model_id": "db96cdd04ed64918babf52e17e40827f"
            }
          },
          "metadata": {}
        },
        {
          "output_type": "display_data",
          "data": {
            "text/plain": [
              "Map:   0%|          | 0/3507 [00:00<?, ? examples/s]"
            ],
            "application/vnd.jupyter.widget-view+json": {
              "version_major": 2,
              "version_minor": 0,
              "model_id": "9263b8bb40f94b3d81efdb3eedfdfc45"
            }
          },
          "metadata": {}
        },
        {
          "output_type": "display_data",
          "data": {
            "text/plain": [
              "Saving the dataset (0/1 shards):   0%|          | 0/3507 [00:00<?, ? examples/s]"
            ],
            "application/vnd.jupyter.widget-view+json": {
              "version_major": 2,
              "version_minor": 0,
              "model_id": "95c0a8fa1704424196d7dc67b5ddec7c"
            }
          },
          "metadata": {}
        },
        {
          "output_type": "stream",
          "name": "stdout",
          "text": [
            "Tokenization complete & dataset saved to disk.\n"
          ]
        }
      ],
      "source": [
        "# Tokenizatiton\n",
        "from datasets import Dataset\n",
        "from transformers import AutoTokenizer\n",
        "\n",
        "model_name = \"google/flan-t5-small\"\n",
        "tokenizer = AutoTokenizer.from_pretrained(model_name)\n",
        "\n",
        "max_input_len = 128\n",
        "max_target_len = 128\n",
        "\n",
        "hf_dataset = Dataset.from_pandas(df)\n",
        "\n",
        "def tokenize_batch(batch):\n",
        "    model_inputs = tokenizer(batch[\"prompt\"], max_length=max_input_len, padding=\"max_length\", truncation=True)\n",
        "    labels = tokenizer(batch[\"response\"], max_length=max_target_len, padding=\"max_length\", truncation=True)\n",
        "    model_inputs[\"labels\"] = labels[\"input_ids\"]\n",
        "    return model_inputs\n",
        "\n",
        "tokenized_dataset = hf_dataset.map(tokenize_batch, batched=True, remove_columns=[\"prompt\", \"response\"])\n",
        "tokenized_dataset.save_to_disk(\"processed_healthcare_chatbot\")\n",
        "print(\"Tokenization complete & dataset saved to disk.\")"
      ]
    },
    {
      "cell_type": "markdown",
      "metadata": {
        "id": "FO7Y-nQszOBs"
      },
      "source": [
        "Tokenizer choice: SentencePiece\n",
        "\n",
        "Flan-T5 uses SentencePiece, a subword tokenizer effective for mixed medical and conversational text."
      ]
    },
    {
      "cell_type": "markdown",
      "metadata": {
        "id": "YXVid-OUzZOu"
      },
      "source": [
        "# Fine tuning model"
      ]
    },
    {
      "cell_type": "code",
      "execution_count": null,
      "metadata": {
        "colab": {
          "base_uri": "https://localhost:8080/"
        },
        "id": "e1W8ncFP2GTl",
        "outputId": "08e8fc5c-2541-4c13-fff8-66effcaac6bb"
      },
      "outputs": [
        {
          "output_type": "stream",
          "name": "stdout",
          "text": [
            "Requirement already satisfied: wandb in /usr/local/lib/python3.12/dist-packages (0.22.2)\n",
            "Requirement already satisfied: click>=8.0.1 in /usr/local/lib/python3.12/dist-packages (from wandb) (8.3.0)\n",
            "Requirement already satisfied: gitpython!=3.1.29,>=1.0.0 in /usr/local/lib/python3.12/dist-packages (from wandb) (3.1.45)\n",
            "Requirement already satisfied: packaging in /usr/local/lib/python3.12/dist-packages (from wandb) (25.0)\n",
            "Requirement already satisfied: platformdirs in /usr/local/lib/python3.12/dist-packages (from wandb) (4.5.0)\n",
            "Requirement already satisfied: protobuf!=4.21.0,!=5.28.0,<7,>=3.19.0 in /usr/local/lib/python3.12/dist-packages (from wandb) (5.29.5)\n",
            "Requirement already satisfied: pydantic<3 in /usr/local/lib/python3.12/dist-packages (from wandb) (2.11.10)\n",
            "Requirement already satisfied: pyyaml in /usr/local/lib/python3.12/dist-packages (from wandb) (6.0.3)\n",
            "Requirement already satisfied: requests<3,>=2.0.0 in /usr/local/lib/python3.12/dist-packages (from wandb) (2.32.4)\n",
            "Requirement already satisfied: sentry-sdk>=2.0.0 in /usr/local/lib/python3.12/dist-packages (from wandb) (2.40.0)\n",
            "Requirement already satisfied: typing-extensions<5,>=4.8 in /usr/local/lib/python3.12/dist-packages (from wandb) (4.15.0)\n",
            "Requirement already satisfied: gitdb<5,>=4.0.1 in /usr/local/lib/python3.12/dist-packages (from gitpython!=3.1.29,>=1.0.0->wandb) (4.0.12)\n",
            "Requirement already satisfied: annotated-types>=0.6.0 in /usr/local/lib/python3.12/dist-packages (from pydantic<3->wandb) (0.7.0)\n",
            "Requirement already satisfied: pydantic-core==2.33.2 in /usr/local/lib/python3.12/dist-packages (from pydantic<3->wandb) (2.33.2)\n",
            "Requirement already satisfied: typing-inspection>=0.4.0 in /usr/local/lib/python3.12/dist-packages (from pydantic<3->wandb) (0.4.2)\n",
            "Requirement already satisfied: charset_normalizer<4,>=2 in /usr/local/lib/python3.12/dist-packages (from requests<3,>=2.0.0->wandb) (3.4.3)\n",
            "Requirement already satisfied: idna<4,>=2.5 in /usr/local/lib/python3.12/dist-packages (from requests<3,>=2.0.0->wandb) (3.10)\n",
            "Requirement already satisfied: urllib3<3,>=1.21.1 in /usr/local/lib/python3.12/dist-packages (from requests<3,>=2.0.0->wandb) (2.5.0)\n",
            "Requirement already satisfied: certifi>=2017.4.17 in /usr/local/lib/python3.12/dist-packages (from requests<3,>=2.0.0->wandb) (2025.10.5)\n",
            "Requirement already satisfied: smmap<6,>=3.0.1 in /usr/local/lib/python3.12/dist-packages (from gitdb<5,>=4.0.1->gitpython!=3.1.29,>=1.0.0->wandb) (5.0.2)\n"
          ]
        }
      ],
      "source": [
        "pip install wandb"
      ]
    },
    {
      "cell_type": "code",
      "source": [
        "!pip install evaluate"
      ],
      "metadata": {
        "colab": {
          "base_uri": "https://localhost:8080/"
        },
        "id": "Nyt3dsfORnB5",
        "outputId": "21e1739c-2522-4b55-e609-b1711688cb92"
      },
      "execution_count": null,
      "outputs": [
        {
          "output_type": "stream",
          "name": "stdout",
          "text": [
            "Collecting evaluate\n",
            "  Downloading evaluate-0.4.6-py3-none-any.whl.metadata (9.5 kB)\n",
            "Requirement already satisfied: datasets>=2.0.0 in /usr/local/lib/python3.12/dist-packages (from evaluate) (4.0.0)\n",
            "Requirement already satisfied: numpy>=1.17 in /usr/local/lib/python3.12/dist-packages (from evaluate) (2.0.2)\n",
            "Requirement already satisfied: dill in /usr/local/lib/python3.12/dist-packages (from evaluate) (0.3.8)\n",
            "Requirement already satisfied: pandas in /usr/local/lib/python3.12/dist-packages (from evaluate) (2.2.2)\n",
            "Requirement already satisfied: requests>=2.19.0 in /usr/local/lib/python3.12/dist-packages (from evaluate) (2.32.4)\n",
            "Requirement already satisfied: tqdm>=4.62.1 in /usr/local/lib/python3.12/dist-packages (from evaluate) (4.67.1)\n",
            "Requirement already satisfied: xxhash in /usr/local/lib/python3.12/dist-packages (from evaluate) (3.6.0)\n",
            "Requirement already satisfied: multiprocess in /usr/local/lib/python3.12/dist-packages (from evaluate) (0.70.16)\n",
            "Requirement already satisfied: fsspec>=2021.05.0 in /usr/local/lib/python3.12/dist-packages (from fsspec[http]>=2021.05.0->evaluate) (2025.3.0)\n",
            "Requirement already satisfied: huggingface-hub>=0.7.0 in /usr/local/lib/python3.12/dist-packages (from evaluate) (0.35.3)\n",
            "Requirement already satisfied: packaging in /usr/local/lib/python3.12/dist-packages (from evaluate) (25.0)\n",
            "Requirement already satisfied: filelock in /usr/local/lib/python3.12/dist-packages (from datasets>=2.0.0->evaluate) (3.20.0)\n",
            "Requirement already satisfied: pyarrow>=15.0.0 in /usr/local/lib/python3.12/dist-packages (from datasets>=2.0.0->evaluate) (18.1.0)\n",
            "Requirement already satisfied: pyyaml>=5.1 in /usr/local/lib/python3.12/dist-packages (from datasets>=2.0.0->evaluate) (6.0.3)\n",
            "Requirement already satisfied: aiohttp!=4.0.0a0,!=4.0.0a1 in /usr/local/lib/python3.12/dist-packages (from fsspec[http]>=2021.05.0->evaluate) (3.13.0)\n",
            "Requirement already satisfied: typing-extensions>=3.7.4.3 in /usr/local/lib/python3.12/dist-packages (from huggingface-hub>=0.7.0->evaluate) (4.15.0)\n",
            "Requirement already satisfied: hf-xet<2.0.0,>=1.1.3 in /usr/local/lib/python3.12/dist-packages (from huggingface-hub>=0.7.0->evaluate) (1.1.10)\n",
            "Requirement already satisfied: charset_normalizer<4,>=2 in /usr/local/lib/python3.12/dist-packages (from requests>=2.19.0->evaluate) (3.4.3)\n",
            "Requirement already satisfied: idna<4,>=2.5 in /usr/local/lib/python3.12/dist-packages (from requests>=2.19.0->evaluate) (3.10)\n",
            "Requirement already satisfied: urllib3<3,>=1.21.1 in /usr/local/lib/python3.12/dist-packages (from requests>=2.19.0->evaluate) (2.5.0)\n",
            "Requirement already satisfied: certifi>=2017.4.17 in /usr/local/lib/python3.12/dist-packages (from requests>=2.19.0->evaluate) (2025.10.5)\n",
            "Requirement already satisfied: python-dateutil>=2.8.2 in /usr/local/lib/python3.12/dist-packages (from pandas->evaluate) (2.9.0.post0)\n",
            "Requirement already satisfied: pytz>=2020.1 in /usr/local/lib/python3.12/dist-packages (from pandas->evaluate) (2025.2)\n",
            "Requirement already satisfied: tzdata>=2022.7 in /usr/local/lib/python3.12/dist-packages (from pandas->evaluate) (2025.2)\n",
            "Requirement already satisfied: aiohappyeyeballs>=2.5.0 in /usr/local/lib/python3.12/dist-packages (from aiohttp!=4.0.0a0,!=4.0.0a1->fsspec[http]>=2021.05.0->evaluate) (2.6.1)\n",
            "Requirement already satisfied: aiosignal>=1.4.0 in /usr/local/lib/python3.12/dist-packages (from aiohttp!=4.0.0a0,!=4.0.0a1->fsspec[http]>=2021.05.0->evaluate) (1.4.0)\n",
            "Requirement already satisfied: attrs>=17.3.0 in /usr/local/lib/python3.12/dist-packages (from aiohttp!=4.0.0a0,!=4.0.0a1->fsspec[http]>=2021.05.0->evaluate) (25.4.0)\n",
            "Requirement already satisfied: frozenlist>=1.1.1 in /usr/local/lib/python3.12/dist-packages (from aiohttp!=4.0.0a0,!=4.0.0a1->fsspec[http]>=2021.05.0->evaluate) (1.8.0)\n",
            "Requirement already satisfied: multidict<7.0,>=4.5 in /usr/local/lib/python3.12/dist-packages (from aiohttp!=4.0.0a0,!=4.0.0a1->fsspec[http]>=2021.05.0->evaluate) (6.7.0)\n",
            "Requirement already satisfied: propcache>=0.2.0 in /usr/local/lib/python3.12/dist-packages (from aiohttp!=4.0.0a0,!=4.0.0a1->fsspec[http]>=2021.05.0->evaluate) (0.3.2)\n",
            "Requirement already satisfied: yarl<2.0,>=1.17.0 in /usr/local/lib/python3.12/dist-packages (from aiohttp!=4.0.0a0,!=4.0.0a1->fsspec[http]>=2021.05.0->evaluate) (1.22.0)\n",
            "Requirement already satisfied: six>=1.5 in /usr/local/lib/python3.12/dist-packages (from python-dateutil>=2.8.2->pandas->evaluate) (1.17.0)\n",
            "Downloading evaluate-0.4.6-py3-none-any.whl (84 kB)\n",
            "\u001b[2K   \u001b[90m━━━━━━━━━━━━━━━━━━━━━━━━━━━━━━━━━━━━━━━━\u001b[0m \u001b[32m84.1/84.1 kB\u001b[0m \u001b[31m2.3 MB/s\u001b[0m eta \u001b[36m0:00:00\u001b[0m\n",
            "\u001b[?25hInstalling collected packages: evaluate\n",
            "Successfully installed evaluate-0.4.6\n"
          ]
        }
      ]
    },
    {
      "cell_type": "code",
      "source": [
        "!pip install rouge_score"
      ],
      "metadata": {
        "colab": {
          "base_uri": "https://localhost:8080/"
        },
        "id": "XI96r_VDROdG",
        "outputId": "add0bd15-cd3a-4b82-c509-827328aeafea"
      },
      "execution_count": null,
      "outputs": [
        {
          "output_type": "stream",
          "name": "stdout",
          "text": [
            "Collecting rouge_score\n",
            "  Downloading rouge_score-0.1.2.tar.gz (17 kB)\n",
            "  Preparing metadata (setup.py) ... \u001b[?25l\u001b[?25hdone\n",
            "Requirement already satisfied: absl-py in /usr/local/lib/python3.12/dist-packages (from rouge_score) (1.4.0)\n",
            "Requirement already satisfied: nltk in /usr/local/lib/python3.12/dist-packages (from rouge_score) (3.9.1)\n",
            "Requirement already satisfied: numpy in /usr/local/lib/python3.12/dist-packages (from rouge_score) (2.0.2)\n",
            "Requirement already satisfied: six>=1.14.0 in /usr/local/lib/python3.12/dist-packages (from rouge_score) (1.17.0)\n",
            "Requirement already satisfied: click in /usr/local/lib/python3.12/dist-packages (from nltk->rouge_score) (8.3.0)\n",
            "Requirement already satisfied: joblib in /usr/local/lib/python3.12/dist-packages (from nltk->rouge_score) (1.5.2)\n",
            "Requirement already satisfied: regex>=2021.8.3 in /usr/local/lib/python3.12/dist-packages (from nltk->rouge_score) (2024.11.6)\n",
            "Requirement already satisfied: tqdm in /usr/local/lib/python3.12/dist-packages (from nltk->rouge_score) (4.67.1)\n",
            "Building wheels for collected packages: rouge_score\n",
            "  Building wheel for rouge_score (setup.py) ... \u001b[?25l\u001b[?25hdone\n",
            "  Created wheel for rouge_score: filename=rouge_score-0.1.2-py3-none-any.whl size=24934 sha256=88342172da1a8eff338f33b8711e1adbd26ea177c43080e89e68356e048f2010\n",
            "  Stored in directory: /root/.cache/pip/wheels/85/9d/af/01feefbe7d55ef5468796f0c68225b6788e85d9d0a281e7a70\n",
            "Successfully built rouge_score\n",
            "Installing collected packages: rouge_score\n",
            "Successfully installed rouge_score-0.1.2\n"
          ]
        }
      ]
    },
    {
      "cell_type": "code",
      "source": [
        "import time\n",
        "import wandb\n",
        "from wandb.integration.keras import WandbCallback\n",
        "from datasets import load_from_disk\n",
        "from transformers import (\n",
        "    AutoTokenizer,\n",
        "    TFAutoModelForSeq2SeqLM,\n",
        "    create_optimizer,\n",
        ")\n",
        "import tensorflow as tf\n",
        "import evaluate\n",
        "import numpy as np\n",
        "\n",
        "# Initialize W&B\n",
        "wandb.init(\n",
        "    project=\"flan_t5_healthcare_chatbot\",\n",
        "    config={\n",
        "        \"model_name\": \"google/flan-t5-small\",\n",
        "        \"batch_size\": 1,\n",
        "        \"epochs\": 2,\n",
        "        \"learning_rate\": 3e-5,\n",
        "    }\n",
        ")\n",
        "\n",
        "# Load Dataset\n",
        "tokenized_dataset = load_from_disk(\"processed_healthcare_chatbot\")\n",
        "\n",
        "split = tokenized_dataset.train_test_split(test_size=0.1, seed=42)\n",
        "train_dataset = split[\"train\"].select(range(1000))\n",
        "eval_dataset = split[\"test\"].select(range(200))\n",
        "\n",
        "train_tf_dataset = train_dataset.to_tf_dataset(\n",
        "    columns=[\"input_ids\", \"attention_mask\", \"labels\"],\n",
        "    shuffle=True,\n",
        "    batch_size=wandb.config.batch_size,\n",
        ")\n",
        "eval_tf_dataset = eval_dataset.to_tf_dataset(\n",
        "    columns=[\"input_ids\", \"attention_mask\", \"labels\"],\n",
        "    shuffle=False,\n",
        "    batch_size=wandb.config.batch_size,\n",
        ")\n",
        "\n",
        "# Model Setup\n",
        "tokenizer = AutoTokenizer.from_pretrained(wandb.config.model_name, from_pt=True)\n",
        "model = TFAutoModelForSeq2SeqLM.from_pretrained(wandb.config.model_name, from_pt=True)\n",
        "\n",
        "# Optimizer\n",
        "num_train_steps = len(train_tf_dataset) * wandb.config.epochs\n",
        "optimizer, lr_schedule = create_optimizer(\n",
        "    init_lr=wandb.config.learning_rate,\n",
        "    num_train_steps=num_train_steps,\n",
        "    num_warmup_steps=100\n",
        ")\n",
        "model.compile(optimizer=optimizer)\n",
        "\n",
        "# Training\n",
        "start = time.time()\n",
        "history = model.fit(\n",
        "    train_tf_dataset,\n",
        "    validation_data=eval_tf_dataset,\n",
        "    epochs=wandb.config.epochs,\n",
        "    callbacks=[WandbCallback()],\n",
        "    verbose=1\n",
        ")\n",
        "end = time.time()\n",
        "print(f\"Training completed in {(end - start)/60:.2f} minutes.\")\n",
        "\n",
        "# Save Trained Model\n",
        "save_dir = \"flan_t5_healthcare_cpu\"\n",
        "model.save_pretrained(save_dir)\n",
        "tokenizer.save_pretrained(save_dir)\n",
        "print(f\"Model saved to {save_dir}\")\n",
        "\n",
        "# Evaluation (BLEU, ROUGE, Perplexity)\n",
        "bleu = evaluate.load(\"bleu\")\n",
        "rouge = evaluate.load(\"rouge\")\n",
        "\n",
        "references, predictions = [], []\n",
        "\n",
        "print(\"Running Evaluation...\")\n",
        "\n",
        "# Use the original eval_dataset to get the text references\n",
        "# Load the original dataset to get prompt and response text\n",
        "original_df = pd.read_csv('dataset.csv')\n",
        "\n",
        "# Apply the same cleaning and normalization as before\n",
        "def clean_text(text):\n",
        "    if not isinstance(text, str):\n",
        "        text = str(text or \"\")\n",
        "    text = re.sub(r\"http\\S+|www\\S+\", \"\", text)           # remove URLs\n",
        "    text = re.sub(r\"<.*?>\", \"\", text)                    # remove HTML tags\n",
        "    text = re.sub(r\"[^a-zA-Z0-9.,!?;:'\\\"()\\-\\s]\", \"\", text)  # remove emojis/symbols\n",
        "    text = re.sub(r\"\\s+\", \" \", text).strip()             # normalize whitespace\n",
        "    return text\n",
        "\n",
        "def normalize_text(text):\n",
        "  text = text.lower()\n",
        "  text = re.sub(r\"\\bbp\\b\", \"blood pressure\", text)\n",
        "  text = re.sub(r\"\\bhr\\b\", \"heart rate\", text)\n",
        "  text = re.sub(r\"\\btemp\\b\", \"temperature\", text)\n",
        "  return text\n",
        "\n",
        "# Corrected column names for cleaning and normalization on original_df\n",
        "for col in [\"Context\", \"Response\", \"LLM\"]:\n",
        "     if col in original_df.columns:\n",
        "         original_df[col] = original_df[col].astype(str).map(clean_text).map(normalize_text)\n",
        "     else:\n",
        "         print(f\"Column '{col}' not found in original_df. Skipping cleaning.\")\n",
        "\n",
        "\n",
        "# Create prompt and response columns using correct names\n",
        "if 'Context' in original_df.columns and 'Response' in original_df.columns:\n",
        "    original_df[\"prompt\"] = \"Patient: \" + original_df[\"Context\"]\n",
        "    original_df[\"response\"] = original_df[\"Response\"]\n",
        "else:\n",
        "    print(\"Required columns ('Context' or 'Response') not found in original_df. Cannot create prompt/response.\")\n",
        "\n",
        "\n",
        "# Create a Hugging Face Dataset from the processed DataFrame\n",
        "original_dataset_hf = Dataset.from_pandas(original_df)\n",
        "\n",
        "# Split the original dataset to get the test set\n",
        "split_original = original_dataset_hf.train_test_split(test_size=0.1, seed=42)\n",
        "original_eval_ds = split_original[\"test\"]\n",
        "\n",
        "# Select the same range of examples as the tokenized eval_dataset\n",
        "original_eval_ds_subset = original_eval_ds.select(range(200)) # Use 200 to match the subset used for model evaluation\n",
        "\n",
        "for example in original_eval_ds_subset:\n",
        "    # Check if 'prompt' and 'response' exist in the example\n",
        "    if \"prompt\" in example and \"response\" in example:\n",
        "        input_text = example[\"prompt\"]\n",
        "        ref_text = example[\"response\"]\n",
        "\n",
        "        # Prevent repetition in response using sampling + penalties\n",
        "        inputs = tokenizer(input_text, return_tensors=\"tf\", truncation=True, max_length=512)\n",
        "        output = model.generate(\n",
        "            **inputs,\n",
        "            max_length=150,\n",
        "            num_beams=4,\n",
        "            repetition_penalty=2.0,\n",
        "            no_repeat_ngram_size=3,\n",
        "            temperature=0.7,\n",
        "            early_stopping=True\n",
        "        )\n",
        "        pred_text = tokenizer.decode(output[0], skip_special_tokens=True)\n",
        "\n",
        "        predictions.append(pred_text)\n",
        "        references.append(ref_text)\n",
        "    else:\n",
        "        print(\"Skipping example due to missing 'prompt' or 'response' keys.\")\n",
        "\n",
        "\n",
        "# Compute metrics\n",
        "if predictions and references:\n",
        "    bleu_score = bleu.compute(predictions=predictions, references=references)\n",
        "    rouge_score = rouge.compute(predictions=predictions, references=references)\n",
        "\n",
        "    # Compute Perplexity\n",
        "    # Perplexity is usually calculated on a held-out set using the model's loss\n",
        "    # Using the validation loss from training history as an approximation\n",
        "    if history.history and \"val_loss\" in history.history:\n",
        "        final_val_loss = history.history[\"val_loss\"][-1]\n",
        "        perplexity = np.exp(final_val_loss)\n",
        "    else:\n",
        "        perplexity = \"N/A (Validation loss not available)\"\n",
        "\n",
        "\n",
        "    # Display + Log Metrics\n",
        "    print(\"\\nEvaluation Metrics:\")\n",
        "    print(f\"BLEU Score:        {bleu_score['bleu']:.4f}\")\n",
        "    print(f\"ROUGE-L:           {rouge_score['rougeL']:.4f}\")\n",
        "    print(f\"Perplexity:        {perplexity:.4f}\" if isinstance(perplexity, float) else f\"Perplexity:        {perplexity}\")\n",
        "\n",
        "\n",
        "    wandb.log({\n",
        "        \"BLEU\": bleu_score[\"bleu\"],\n",
        "        \"ROUGE-L\": rouge_score[\"rougeL\"],\n",
        "        \"Perplexity\": perplexity if isinstance(perplexity, float) else None # Only log float perplexity\n",
        "    })\n",
        "else:\n",
        "    print(\"\\nNo predictions or references generated for evaluation.\")\n",
        "\n",
        "\n",
        "wandb.finish()"
      ],
      "metadata": {
        "colab": {
          "base_uri": "https://localhost:8080/",
          "height": 1000
        },
        "id": "MDMJfzMFQbtW",
        "outputId": "b5fc678e-b3ad-49c7-ebbf-776c861c7b06"
      },
      "execution_count": null,
      "outputs": [
        {
          "output_type": "display_data",
          "data": {
            "text/plain": [
              "<IPython.core.display.HTML object>"
            ],
            "text/html": [
              "Finishing previous runs because reinit is set to 'default'."
            ]
          },
          "metadata": {}
        },
        {
          "output_type": "display_data",
          "data": {
            "text/plain": [
              "<IPython.core.display.HTML object>"
            ],
            "text/html": []
          },
          "metadata": {}
        },
        {
          "output_type": "display_data",
          "data": {
            "text/plain": [
              "<IPython.core.display.HTML object>"
            ],
            "text/html": [
              "<br>    <style><br>        .wandb-row {<br>            display: flex;<br>            flex-direction: row;<br>            flex-wrap: wrap;<br>            justify-content: flex-start;<br>            width: 100%;<br>        }<br>        .wandb-col {<br>            display: flex;<br>            flex-direction: column;<br>            flex-basis: 100%;<br>            flex: 1;<br>            padding: 10px;<br>        }<br>    </style><br><div class=\"wandb-row\"><div class=\"wandb-col\"><h3>Run history:</h3><br/><table class=\"wandb\"><tr><td>epoch</td><td>▁█</td></tr><tr><td>loss</td><td>█▁</td></tr><tr><td>val_loss</td><td>█▁</td></tr></table><br/></div><div class=\"wandb-col\"><h3>Run summary:</h3><br/><table class=\"wandb\"><tr><td>best_epoch</td><td>1</td></tr><tr><td>best_val_loss</td><td>3.1105</td></tr><tr><td>epoch</td><td>1</td></tr><tr><td>loss</td><td>3.44306</td></tr><tr><td>val_loss</td><td>3.1105</td></tr></table><br/></div></div>"
            ]
          },
          "metadata": {}
        },
        {
          "output_type": "display_data",
          "data": {
            "text/plain": [
              "<IPython.core.display.HTML object>"
            ],
            "text/html": [
              " View run <strong style=\"color:#cdcd00\">ethereal-pine-39</strong> at: <a href='https://wandb.ai/j-chemirmir-glasgow-caledonian-university/flan_t5_healthcare_chatbot/runs/xix9bz7s' target=\"_blank\">https://wandb.ai/j-chemirmir-glasgow-caledonian-university/flan_t5_healthcare_chatbot/runs/xix9bz7s</a><br> View project at: <a href='https://wandb.ai/j-chemirmir-glasgow-caledonian-university/flan_t5_healthcare_chatbot' target=\"_blank\">https://wandb.ai/j-chemirmir-glasgow-caledonian-university/flan_t5_healthcare_chatbot</a><br>Synced 5 W&B file(s), 1 media file(s), 11 artifact file(s) and 0 other file(s)"
            ]
          },
          "metadata": {}
        },
        {
          "output_type": "display_data",
          "data": {
            "text/plain": [
              "<IPython.core.display.HTML object>"
            ],
            "text/html": [
              "Find logs at: <code>./wandb/run-20251016_082803-xix9bz7s/logs</code>"
            ]
          },
          "metadata": {}
        },
        {
          "output_type": "display_data",
          "data": {
            "text/plain": [
              "<IPython.core.display.HTML object>"
            ],
            "text/html": []
          },
          "metadata": {}
        },
        {
          "output_type": "display_data",
          "data": {
            "text/plain": [
              "<IPython.core.display.HTML object>"
            ],
            "text/html": [
              "Tracking run with wandb version 0.22.2"
            ]
          },
          "metadata": {}
        },
        {
          "output_type": "display_data",
          "data": {
            "text/plain": [
              "<IPython.core.display.HTML object>"
            ],
            "text/html": [
              "Run data is saved locally in <code>/content/wandb/run-20251016_083631-xn4kkdsa</code>"
            ]
          },
          "metadata": {}
        },
        {
          "output_type": "display_data",
          "data": {
            "text/plain": [
              "<IPython.core.display.HTML object>"
            ],
            "text/html": [
              "Syncing run <strong><a href='https://wandb.ai/j-chemirmir-glasgow-caledonian-university/flan_t5_healthcare_chatbot/runs/xn4kkdsa' target=\"_blank\">daily-galaxy-40</a></strong> to <a href='https://wandb.ai/j-chemirmir-glasgow-caledonian-university/flan_t5_healthcare_chatbot' target=\"_blank\">Weights & Biases</a> (<a href='https://wandb.me/developer-guide' target=\"_blank\">docs</a>)<br>"
            ]
          },
          "metadata": {}
        },
        {
          "output_type": "display_data",
          "data": {
            "text/plain": [
              "<IPython.core.display.HTML object>"
            ],
            "text/html": [
              " View project at <a href='https://wandb.ai/j-chemirmir-glasgow-caledonian-university/flan_t5_healthcare_chatbot' target=\"_blank\">https://wandb.ai/j-chemirmir-glasgow-caledonian-university/flan_t5_healthcare_chatbot</a>"
            ]
          },
          "metadata": {}
        },
        {
          "output_type": "display_data",
          "data": {
            "text/plain": [
              "<IPython.core.display.HTML object>"
            ],
            "text/html": [
              " View run at <a href='https://wandb.ai/j-chemirmir-glasgow-caledonian-university/flan_t5_healthcare_chatbot/runs/xn4kkdsa' target=\"_blank\">https://wandb.ai/j-chemirmir-glasgow-caledonian-university/flan_t5_healthcare_chatbot/runs/xn4kkdsa</a>"
            ]
          },
          "metadata": {}
        },
        {
          "output_type": "stream",
          "name": "stderr",
          "text": [
            "/usr/local/lib/python3.12/dist-packages/tf_keras/src/initializers/initializers.py:121: UserWarning: The initializer RandomNormal is unseeded and being called multiple times, which will return identical values each time (even if the initializer is unseeded). Please update your code to provide a seed to the initializer, or avoid using the same initializer instance more than once.\n",
            "  warnings.warn(\n",
            "Some weights of the PyTorch model were not used when initializing the TF 2.0 model TFT5ForConditionalGeneration: ['encoder.embed_tokens.weight', 'decoder.embed_tokens.weight']\n",
            "- This IS expected if you are initializing TFT5ForConditionalGeneration from a PyTorch model trained on another task or with another architecture (e.g. initializing a TFBertForSequenceClassification model from a BertForPreTraining model).\n",
            "- This IS NOT expected if you are initializing TFT5ForConditionalGeneration from a PyTorch model that you expect to be exactly identical (e.g. initializing a TFBertForSequenceClassification model from a BertForSequenceClassification model).\n",
            "All the weights of TFT5ForConditionalGeneration were initialized from the PyTorch model.\n",
            "If your task is similar to the task the model of the checkpoint was trained on, you can already use TFT5ForConditionalGeneration for predictions without further training.\n"
          ]
        },
        {
          "output_type": "stream",
          "name": "stdout",
          "text": [
            "Epoch 1/2\n",
            "1000/1000 [==============================] - ETA: 0s - loss: 4.4341"
          ]
        },
        {
          "output_type": "stream",
          "name": "stderr",
          "text": [
            "/usr/local/lib/python3.12/dist-packages/tf_keras/src/engine/training.py:3098: UserWarning: You are saving your model as an HDF5 file via `model.save()`. This file format is considered legacy. We recommend using instead the native TF-Keras format, e.g. `model.save('my_model.keras')`.\n",
            "  saving_api.save_model(\n",
            "\u001b[34m\u001b[1mwandb\u001b[0m: \u001b[32m\u001b[41mERROR\u001b[0m Can't save model in the h5py format. The model will be saved as as an W&B Artifact in the 'tf' format.\n",
            "\u001b[34m\u001b[1mwandb\u001b[0m: Adding directory to artifact (/content/wandb/run-20251016_083631-xn4kkdsa/files/model-best)... Done. 16.8s\n"
          ]
        },
        {
          "output_type": "stream",
          "name": "stdout",
          "text": [
            "\b\b\b\b\b\b\b\b\b\b\b\b\b\b\b\b\b\b\b\b\b\b\b\b\b\b\b\b\b\b\b\b\b\b\b\b\b\b\b\b\b\b\b\b\b\b\b\b\b\b\b\b\b\b\b\b\b\b\b\b\b\b\b\b\b\b\b\r1000/1000 [==============================] - 274s 214ms/step - loss: 4.4341 - val_loss: 3.2080\n",
            "Epoch 2/2\n",
            "1000/1000 [==============================] - ETA: 0s - loss: 3.4308"
          ]
        },
        {
          "output_type": "stream",
          "name": "stderr",
          "text": [
            "/usr/local/lib/python3.12/dist-packages/tf_keras/src/engine/training.py:3098: UserWarning: You are saving your model as an HDF5 file via `model.save()`. This file format is considered legacy. We recommend using instead the native TF-Keras format, e.g. `model.save('my_model.keras')`.\n",
            "  saving_api.save_model(\n",
            "\u001b[34m\u001b[1mwandb\u001b[0m: \u001b[32m\u001b[41mERROR\u001b[0m Can't save model in the h5py format. The model will be saved as as an W&B Artifact in the 'tf' format.\n",
            "\u001b[34m\u001b[1mwandb\u001b[0m: Adding directory to artifact (/content/wandb/run-20251016_083631-xn4kkdsa/files/model-best)... Done. 32.1s\n"
          ]
        },
        {
          "output_type": "stream",
          "name": "stdout",
          "text": [
            "\b\b\b\b\b\b\b\b\b\b\b\b\b\b\b\b\b\b\b\b\b\b\b\b\b\b\b\b\b\b\b\b\b\b\b\b\b\b\b\b\b\b\b\b\b\b\b\b\b\b\b\b\b\b\b\b\b\b\b\b\b\b\b\b\b\b\b\r1000/1000 [==============================] - 209s 209ms/step - loss: 3.4308 - val_loss: 3.0999\n",
            "Training completed in 8.05 minutes.\n",
            "Model saved to flan_t5_healthcare_cpu\n",
            "Running Evaluation...\n"
          ]
        },
        {
          "output_type": "stream",
          "name": "stderr",
          "text": [
            "TensorFlow and JAX classes are deprecated and will be removed in Transformers v5. We recommend migrating to PyTorch classes or pinning your version of Transformers.\n",
            "The following generation flags are not valid and may be ignored: ['temperature']. Set `TRANSFORMERS_VERBOSITY=info` for more details.\n"
          ]
        },
        {
          "output_type": "stream",
          "name": "stdout",
          "text": [
            "\n",
            "Evaluation Metrics:\n",
            "BLEU Score:        0.0000\n",
            "ROUGE-L:           0.0732\n",
            "Perplexity:        22.1959\n"
          ]
        },
        {
          "output_type": "display_data",
          "data": {
            "text/plain": [
              "<IPython.core.display.HTML object>"
            ],
            "text/html": []
          },
          "metadata": {}
        },
        {
          "output_type": "display_data",
          "data": {
            "text/plain": [
              "<IPython.core.display.HTML object>"
            ],
            "text/html": [
              "<br>    <style><br>        .wandb-row {<br>            display: flex;<br>            flex-direction: row;<br>            flex-wrap: wrap;<br>            justify-content: flex-start;<br>            width: 100%;<br>        }<br>        .wandb-col {<br>            display: flex;<br>            flex-direction: column;<br>            flex-basis: 100%;<br>            flex: 1;<br>            padding: 10px;<br>        }<br>    </style><br><div class=\"wandb-row\"><div class=\"wandb-col\"><h3>Run history:</h3><br/><table class=\"wandb\"><tr><td>BLEU</td><td>▁</td></tr><tr><td>Perplexity</td><td>▁</td></tr><tr><td>ROUGE-L</td><td>▁</td></tr><tr><td>epoch</td><td>▁█</td></tr><tr><td>loss</td><td>█▁</td></tr><tr><td>val_loss</td><td>█▁</td></tr></table><br/></div><div class=\"wandb-col\"><h3>Run summary:</h3><br/><table class=\"wandb\"><tr><td>BLEU</td><td>1e-05</td></tr><tr><td>Perplexity</td><td>22.19591</td></tr><tr><td>ROUGE-L</td><td>0.07319</td></tr><tr><td>best_epoch</td><td>1</td></tr><tr><td>best_val_loss</td><td>3.09991</td></tr><tr><td>epoch</td><td>1</td></tr><tr><td>loss</td><td>3.43075</td></tr><tr><td>val_loss</td><td>3.09991</td></tr></table><br/></div></div>"
            ]
          },
          "metadata": {}
        },
        {
          "output_type": "display_data",
          "data": {
            "text/plain": [
              "<IPython.core.display.HTML object>"
            ],
            "text/html": [
              " View run <strong style=\"color:#cdcd00\">daily-galaxy-40</strong> at: <a href='https://wandb.ai/j-chemirmir-glasgow-caledonian-university/flan_t5_healthcare_chatbot/runs/xn4kkdsa' target=\"_blank\">https://wandb.ai/j-chemirmir-glasgow-caledonian-university/flan_t5_healthcare_chatbot/runs/xn4kkdsa</a><br> View project at: <a href='https://wandb.ai/j-chemirmir-glasgow-caledonian-university/flan_t5_healthcare_chatbot' target=\"_blank\">https://wandb.ai/j-chemirmir-glasgow-caledonian-university/flan_t5_healthcare_chatbot</a><br>Synced 5 W&B file(s), 1 media file(s), 11 artifact file(s) and 0 other file(s)"
            ]
          },
          "metadata": {}
        },
        {
          "output_type": "display_data",
          "data": {
            "text/plain": [
              "<IPython.core.display.HTML object>"
            ],
            "text/html": [
              "Find logs at: <code>./wandb/run-20251016_083631-xn4kkdsa/logs</code>"
            ]
          },
          "metadata": {}
        }
      ]
    },
    {
      "cell_type": "markdown",
      "source": [
        "# Hyperparameter Experiments"
      ],
      "metadata": {
        "id": "FHjZ_aaePpZG"
      }
    },
    {
      "cell_type": "code",
      "source": [
        "import os, time, math, json, shutil\n",
        "import wandb, tensorflow as tf, numpy as np\n",
        "from wandb.integration.keras import WandbCallback\n",
        "from datasets import load_from_disk\n",
        "from transformers import AutoTokenizer, TFAutoModelForSeq2SeqLM, create_optimizer\n",
        "import evaluate\n",
        "\n",
        "# CONFIG\n",
        "PROJECT = \"flan_t5_healthcare_chatbot_experiments\"\n",
        "ENTITY = \"j-chemirmir-glasgow-caledonian-university\"\n",
        "PROCESSED_DS = \"processed_healthcare_chatbot\"\n",
        "EVAL_SAMPLE_SIZE = 100        # smaller for faster testing\n",
        "SAVE_ROOT = \"experiment_models\"\n",
        "BEST_MODEL_DIR = \"best_flan_t5_healthcare_model\"\n",
        "os.makedirs(SAVE_ROOT, exist_ok=True)\n",
        "\n",
        "experiment_configs = [\n",
        "    {\"batch_size\": 2, \"epochs\": 2, \"learning_rate\": 5e-5},\n",
        "    {\"batch_size\": 4, \"epochs\": 2, \"learning_rate\": 3e-5},\n",
        "    {\"batch_size\": 4, \"epochs\": 3, \"learning_rate\": 2e-5},\n",
        "]\n",
        "\n",
        "# GPU settings\n",
        "gpus = tf.config.list_physical_devices('GPU')\n",
        "if gpus:\n",
        "    try:\n",
        "        for gpu in gpus:\n",
        "            tf.config.experimental.set_memory_growth(gpu, True)\n",
        "        print(f\"Using GPU(s): {[gpu.name for gpu in gpus]}\")\n",
        "    except RuntimeError as e:\n",
        "        print(e)\n",
        "\n",
        "# Load once (heavy ops only once)\n",
        "tokenizer = AutoTokenizer.from_pretrained(\"google/flan-t5-small\")\n",
        "base_model = TFAutoModelForSeq2SeqLM.from_pretrained(\"google/flan-t5-small\", from_pt=True)\n",
        "dataset = load_from_disk(PROCESSED_DS).train_test_split(test_size=0.1, seed=42)\n",
        "train_tf = dataset[\"train\"].to_tf_dataset(columns=[\"input_ids\",\"attention_mask\",\"labels\"],\n",
        "                                          shuffle=True, batch_size=4)\n",
        "eval_tf = dataset[\"test\"].to_tf_dataset(columns=[\"input_ids\",\"attention_mask\",\"labels\"],\n",
        "                                        shuffle=False, batch_size=4)\n",
        "\n",
        "bleu_metric = evaluate.load(\"bleu\")\n",
        "rouge_metric = evaluate.load(\"rouge\")\n",
        "\n",
        "best_val_loss, best_cfg = float(\"inf\"), None\n",
        "\n",
        "os.environ[\"WANDB_MODE\"] = \"offline\"\n",
        "\n",
        "for i, cfg in enumerate(experiment_configs):\n",
        "    run_name = f\"gpu_run_{i+1}_bs{cfg['batch_size']}_lr{cfg['learning_rate']}_ep{cfg['epochs']}\"\n",
        "    print(f\"\\n Starting {run_name}\")\n",
        "\n",
        "    # Lightweight wandb init\n",
        "    wandb.init(project=PROJECT, entity=ENTITY, name=run_name, config=cfg, reinit=True)\n",
        "\n",
        "    # Clone base model (no reload from disk)\n",
        "    model = tf.keras.models.clone_model(base_model)\n",
        "    model.set_weights(base_model.get_weights())\n",
        "\n",
        "    optimizer, lr_schedule = create_optimizer(init_lr=cfg[\"learning_rate\"],\n",
        "                                              num_train_steps=1000,\n",
        "                                              num_warmup_steps=50)\n",
        "    model.compile(optimizer=optimizer)\n",
        "\n",
        "    # Re-batch datasets with new batch size\n",
        "    train_tf_bs = train_tf.unbatch().batch(cfg[\"batch_size\"])\n",
        "    eval_tf_bs = eval_tf.unbatch().batch(cfg[\"batch_size\"])\n",
        "\n",
        "    start = time.time()\n",
        "    hist = model.fit(\n",
        "        train_tf_bs,\n",
        "        validation_data=eval_tf_bs,\n",
        "        epochs=cfg[\"epochs\"],\n",
        "        callbacks=[WandbCallback(save_model=False)],\n",
        "        verbose=1\n",
        "    )\n",
        "    t_elapsed = (time.time() - start) / 60\n",
        "    val_loss = min(hist.history.get(\"val_loss\", [float(\"inf\")]))\n",
        "    print(f\"Run {run_name} done in {t_elapsed:.2f} min | val_loss={val_loss:.3f}\")\n",
        "\n",
        "    # Save model only if best\n",
        "    if val_loss < best_val_loss:\n",
        "        best_val_loss, best_cfg = val_loss, cfg\n",
        "        if os.path.exists(BEST_MODEL_DIR): shutil.rmtree(BEST_MODEL_DIR)\n",
        "        model.save_pretrained(BEST_MODEL_DIR)\n",
        "        tokenizer.save_pretrained(BEST_MODEL_DIR)\n",
        "        print(f\"New best model saved ({val_loss:.3f})\")\n",
        "\n",
        "    wandb.log({\"val_loss\": val_loss, \"train_time_min\": t_elapsed})\n",
        "    wandb.finish()\n",
        "\n",
        "print(\"All runs complete. Best config:\", best_cfg)"
      ],
      "metadata": {
        "colab": {
          "base_uri": "https://localhost:8080/",
          "height": 1000
        },
        "id": "iwcbHRXYe3DP",
        "outputId": "5186597d-10ed-4687-8eb6-abb740bedbb0"
      },
      "execution_count": null,
      "outputs": [
        {
          "output_type": "stream",
          "name": "stdout",
          "text": [
            "Physical devices cannot be modified after being initialized\n"
          ]
        },
        {
          "output_type": "stream",
          "name": "stderr",
          "text": [
            "Some weights of the PyTorch model were not used when initializing the TF 2.0 model TFT5ForConditionalGeneration: ['encoder.embed_tokens.weight', 'decoder.embed_tokens.weight']\n",
            "- This IS expected if you are initializing TFT5ForConditionalGeneration from a PyTorch model trained on another task or with another architecture (e.g. initializing a TFBertForSequenceClassification model from a BertForPreTraining model).\n",
            "- This IS NOT expected if you are initializing TFT5ForConditionalGeneration from a PyTorch model that you expect to be exactly identical (e.g. initializing a TFBertForSequenceClassification model from a BertForSequenceClassification model).\n",
            "All the weights of TFT5ForConditionalGeneration were initialized from the PyTorch model.\n",
            "If your task is similar to the task the model of the checkpoint was trained on, you can already use TFT5ForConditionalGeneration for predictions without further training.\n"
          ]
        },
        {
          "output_type": "stream",
          "name": "stdout",
          "text": [
            "\n",
            " Starting gpu_run_1_bs2_lr5e-05_ep2\n"
          ]
        },
        {
          "output_type": "display_data",
          "data": {
            "text/plain": [
              "<IPython.core.display.HTML object>"
            ],
            "text/html": [
              "Changes to your `wandb` environment variables will be ignored because your `wandb` session has already started. For more information on how to modify your settings with `wandb.init()` arguments, please refer to <a href='https://wandb.me/wandb-init' target=\"_blank\">the W&B docs</a>."
            ]
          },
          "metadata": {}
        },
        {
          "output_type": "display_data",
          "data": {
            "text/plain": [
              "<IPython.core.display.HTML object>"
            ],
            "text/html": [
              "Finishing previous runs because reinit is set to True."
            ]
          },
          "metadata": {}
        },
        {
          "output_type": "display_data",
          "data": {
            "text/plain": [
              "<IPython.core.display.HTML object>"
            ],
            "text/html": []
          },
          "metadata": {}
        },
        {
          "output_type": "display_data",
          "data": {
            "text/plain": [
              "<IPython.core.display.HTML object>"
            ],
            "text/html": [
              "<br>    <style><br>        .wandb-row {<br>            display: flex;<br>            flex-direction: row;<br>            flex-wrap: wrap;<br>            justify-content: flex-start;<br>            width: 100%;<br>        }<br>        .wandb-col {<br>            display: flex;<br>            flex-direction: column;<br>            flex-basis: 100%;<br>            flex: 1;<br>            padding: 10px;<br>        }<br>    </style><br><div class=\"wandb-row\"><div class=\"wandb-col\"><h3>Run history:</h3><br/><table class=\"wandb\"><tr><td>epoch</td><td>▁█</td></tr><tr><td>loss</td><td>█▁</td></tr><tr><td>val_loss</td><td>█▁</td></tr></table><br/></div><div class=\"wandb-col\"><h3>Run summary:</h3><br/><table class=\"wandb\"><tr><td>best_epoch</td><td>1</td></tr><tr><td>best_val_loss</td><td>3.09392</td></tr><tr><td>epoch</td><td>1</td></tr><tr><td>loss</td><td>3.43094</td></tr><tr><td>val_loss</td><td>3.09392</td></tr></table><br/></div></div>"
            ]
          },
          "metadata": {}
        },
        {
          "output_type": "display_data",
          "data": {
            "text/plain": [
              "<IPython.core.display.HTML object>"
            ],
            "text/html": [
              " View run <strong style=\"color:#cdcd00\">run_1_bs2_lr5e-05_ep2</strong> at: <a href='https://wandb.ai/j-chemirmir-glasgow-caledonian-university/flan_t5_healthcare_chatbot_experiments/runs/zuatmdsd' target=\"_blank\">https://wandb.ai/j-chemirmir-glasgow-caledonian-university/flan_t5_healthcare_chatbot_experiments/runs/zuatmdsd</a><br> View project at: <a href='https://wandb.ai/j-chemirmir-glasgow-caledonian-university/flan_t5_healthcare_chatbot_experiments' target=\"_blank\">https://wandb.ai/j-chemirmir-glasgow-caledonian-university/flan_t5_healthcare_chatbot_experiments</a><br>Synced 5 W&B file(s), 1 media file(s), 2 artifact file(s) and 0 other file(s)"
            ]
          },
          "metadata": {}
        },
        {
          "output_type": "display_data",
          "data": {
            "text/plain": [
              "<IPython.core.display.HTML object>"
            ],
            "text/html": [
              "Find logs at: <code>./wandb/run-20251016_093000-zuatmdsd/logs</code>"
            ]
          },
          "metadata": {}
        },
        {
          "output_type": "display_data",
          "data": {
            "text/plain": [
              "<IPython.core.display.HTML object>"
            ],
            "text/html": []
          },
          "metadata": {}
        },
        {
          "output_type": "display_data",
          "data": {
            "text/plain": [
              "<IPython.core.display.HTML object>"
            ],
            "text/html": [
              "Tracking run with wandb version 0.22.2"
            ]
          },
          "metadata": {}
        },
        {
          "output_type": "display_data",
          "data": {
            "text/plain": [
              "<IPython.core.display.HTML object>"
            ],
            "text/html": [
              "Run data is saved locally in <code>/content/wandb/run-20251016_100710-2l28aksd</code>"
            ]
          },
          "metadata": {}
        },
        {
          "output_type": "display_data",
          "data": {
            "text/plain": [
              "<IPython.core.display.HTML object>"
            ],
            "text/html": [
              "Syncing run <strong><a href='https://wandb.ai/j-chemirmir-glasgow-caledonian-university/flan_t5_healthcare_chatbot_experiments/runs/2l28aksd' target=\"_blank\">gpu_run_1_bs2_lr5e-05_ep2</a></strong> to <a href='https://wandb.ai/j-chemirmir-glasgow-caledonian-university/flan_t5_healthcare_chatbot_experiments' target=\"_blank\">Weights & Biases</a> (<a href='https://wandb.me/developer-guide' target=\"_blank\">docs</a>)<br>"
            ]
          },
          "metadata": {}
        },
        {
          "output_type": "display_data",
          "data": {
            "text/plain": [
              "<IPython.core.display.HTML object>"
            ],
            "text/html": [
              " View project at <a href='https://wandb.ai/j-chemirmir-glasgow-caledonian-university/flan_t5_healthcare_chatbot_experiments' target=\"_blank\">https://wandb.ai/j-chemirmir-glasgow-caledonian-university/flan_t5_healthcare_chatbot_experiments</a>"
            ]
          },
          "metadata": {}
        },
        {
          "output_type": "display_data",
          "data": {
            "text/plain": [
              "<IPython.core.display.HTML object>"
            ],
            "text/html": [
              " View run at <a href='https://wandb.ai/j-chemirmir-glasgow-caledonian-university/flan_t5_healthcare_chatbot_experiments/runs/2l28aksd' target=\"_blank\">https://wandb.ai/j-chemirmir-glasgow-caledonian-university/flan_t5_healthcare_chatbot_experiments/runs/2l28aksd</a>"
            ]
          },
          "metadata": {}
        },
        {
          "output_type": "stream",
          "name": "stdout",
          "text": [
            "Epoch 1/2\n",
            "1578/1578 [==============================] - 262s 125ms/step - loss: 3.7712 - val_loss: 3.0847\n",
            "Epoch 2/2\n",
            "1578/1578 [==============================] - 168s 107ms/step - loss: 3.3850 - val_loss: 3.0847\n",
            "Run gpu_run_1_bs2_lr5e-05_ep2 done in 7.18 min | val_loss=3.085\n",
            "New best model saved (3.085)\n"
          ]
        },
        {
          "output_type": "display_data",
          "data": {
            "text/plain": [
              "<IPython.core.display.HTML object>"
            ],
            "text/html": []
          },
          "metadata": {}
        },
        {
          "output_type": "display_data",
          "data": {
            "text/plain": [
              "<IPython.core.display.HTML object>"
            ],
            "text/html": [
              "<br>    <style><br>        .wandb-row {<br>            display: flex;<br>            flex-direction: row;<br>            flex-wrap: wrap;<br>            justify-content: flex-start;<br>            width: 100%;<br>        }<br>        .wandb-col {<br>            display: flex;<br>            flex-direction: column;<br>            flex-basis: 100%;<br>            flex: 1;<br>            padding: 10px;<br>        }<br>    </style><br><div class=\"wandb-row\"><div class=\"wandb-col\"><h3>Run history:</h3><br/><table class=\"wandb\"><tr><td>epoch</td><td>▁█</td></tr><tr><td>loss</td><td>█▁</td></tr><tr><td>train_time_min</td><td>▁</td></tr><tr><td>val_loss</td><td>▁▁▁</td></tr></table><br/></div><div class=\"wandb-col\"><h3>Run summary:</h3><br/><table class=\"wandb\"><tr><td>best_epoch</td><td>0</td></tr><tr><td>best_val_loss</td><td>3.08469</td></tr><tr><td>epoch</td><td>1</td></tr><tr><td>loss</td><td>3.38496</td></tr><tr><td>train_time_min</td><td>7.18275</td></tr><tr><td>val_loss</td><td>3.08469</td></tr></table><br/></div></div>"
            ]
          },
          "metadata": {}
        },
        {
          "output_type": "display_data",
          "data": {
            "text/plain": [
              "<IPython.core.display.HTML object>"
            ],
            "text/html": [
              " View run <strong style=\"color:#cdcd00\">gpu_run_1_bs2_lr5e-05_ep2</strong> at: <a href='https://wandb.ai/j-chemirmir-glasgow-caledonian-university/flan_t5_healthcare_chatbot_experiments/runs/2l28aksd' target=\"_blank\">https://wandb.ai/j-chemirmir-glasgow-caledonian-university/flan_t5_healthcare_chatbot_experiments/runs/2l28aksd</a><br> View project at: <a href='https://wandb.ai/j-chemirmir-glasgow-caledonian-university/flan_t5_healthcare_chatbot_experiments' target=\"_blank\">https://wandb.ai/j-chemirmir-glasgow-caledonian-university/flan_t5_healthcare_chatbot_experiments</a><br>Synced 5 W&B file(s), 1 media file(s), 0 artifact file(s) and 0 other file(s)"
            ]
          },
          "metadata": {}
        },
        {
          "output_type": "display_data",
          "data": {
            "text/plain": [
              "<IPython.core.display.HTML object>"
            ],
            "text/html": [
              "Find logs at: <code>./wandb/run-20251016_100710-2l28aksd/logs</code>"
            ]
          },
          "metadata": {}
        },
        {
          "output_type": "stream",
          "name": "stdout",
          "text": [
            "\n",
            " Starting gpu_run_2_bs4_lr3e-05_ep2\n"
          ]
        },
        {
          "output_type": "display_data",
          "data": {
            "text/plain": [
              "<IPython.core.display.HTML object>"
            ],
            "text/html": [
              "Changes to your `wandb` environment variables will be ignored because your `wandb` session has already started. For more information on how to modify your settings with `wandb.init()` arguments, please refer to <a href='https://wandb.me/wandb-init' target=\"_blank\">the W&B docs</a>."
            ]
          },
          "metadata": {}
        },
        {
          "output_type": "display_data",
          "data": {
            "text/plain": [
              "<IPython.core.display.HTML object>"
            ],
            "text/html": []
          },
          "metadata": {}
        },
        {
          "output_type": "display_data",
          "data": {
            "text/plain": [
              "<IPython.core.display.HTML object>"
            ],
            "text/html": [
              "Tracking run with wandb version 0.22.2"
            ]
          },
          "metadata": {}
        },
        {
          "output_type": "display_data",
          "data": {
            "text/plain": [
              "<IPython.core.display.HTML object>"
            ],
            "text/html": [
              "Run data is saved locally in <code>/content/wandb/run-20251016_101437-w1w9ggn9</code>"
            ]
          },
          "metadata": {}
        },
        {
          "output_type": "display_data",
          "data": {
            "text/plain": [
              "<IPython.core.display.HTML object>"
            ],
            "text/html": [
              "Syncing run <strong><a href='https://wandb.ai/j-chemirmir-glasgow-caledonian-university/flan_t5_healthcare_chatbot_experiments/runs/w1w9ggn9' target=\"_blank\">gpu_run_2_bs4_lr3e-05_ep2</a></strong> to <a href='https://wandb.ai/j-chemirmir-glasgow-caledonian-university/flan_t5_healthcare_chatbot_experiments' target=\"_blank\">Weights & Biases</a> (<a href='https://wandb.me/developer-guide' target=\"_blank\">docs</a>)<br>"
            ]
          },
          "metadata": {}
        },
        {
          "output_type": "display_data",
          "data": {
            "text/plain": [
              "<IPython.core.display.HTML object>"
            ],
            "text/html": [
              " View project at <a href='https://wandb.ai/j-chemirmir-glasgow-caledonian-university/flan_t5_healthcare_chatbot_experiments' target=\"_blank\">https://wandb.ai/j-chemirmir-glasgow-caledonian-university/flan_t5_healthcare_chatbot_experiments</a>"
            ]
          },
          "metadata": {}
        },
        {
          "output_type": "display_data",
          "data": {
            "text/plain": [
              "<IPython.core.display.HTML object>"
            ],
            "text/html": [
              " View run at <a href='https://wandb.ai/j-chemirmir-glasgow-caledonian-university/flan_t5_healthcare_chatbot_experiments/runs/w1w9ggn9' target=\"_blank\">https://wandb.ai/j-chemirmir-glasgow-caledonian-university/flan_t5_healthcare_chatbot_experiments/runs/w1w9ggn9</a>"
            ]
          },
          "metadata": {}
        },
        {
          "output_type": "stream",
          "name": "stdout",
          "text": [
            "Epoch 1/2\n",
            "789/789 [==============================] - 196s 177ms/step - loss: 4.2245 - val_loss: 3.2020\n",
            "Epoch 2/2\n",
            "789/789 [==============================] - 111s 141ms/step - loss: 3.5010 - val_loss: 3.1820\n",
            "Run gpu_run_2_bs4_lr3e-05_ep2 done in 5.12 min | val_loss=3.182\n"
          ]
        },
        {
          "output_type": "display_data",
          "data": {
            "text/plain": [
              "<IPython.core.display.HTML object>"
            ],
            "text/html": []
          },
          "metadata": {}
        },
        {
          "output_type": "display_data",
          "data": {
            "text/plain": [
              "<IPython.core.display.HTML object>"
            ],
            "text/html": [
              "<br>    <style><br>        .wandb-row {<br>            display: flex;<br>            flex-direction: row;<br>            flex-wrap: wrap;<br>            justify-content: flex-start;<br>            width: 100%;<br>        }<br>        .wandb-col {<br>            display: flex;<br>            flex-direction: column;<br>            flex-basis: 100%;<br>            flex: 1;<br>            padding: 10px;<br>        }<br>    </style><br><div class=\"wandb-row\"><div class=\"wandb-col\"><h3>Run history:</h3><br/><table class=\"wandb\"><tr><td>epoch</td><td>▁█</td></tr><tr><td>loss</td><td>█▁</td></tr><tr><td>train_time_min</td><td>▁</td></tr><tr><td>val_loss</td><td>█▁▁</td></tr></table><br/></div><div class=\"wandb-col\"><h3>Run summary:</h3><br/><table class=\"wandb\"><tr><td>best_epoch</td><td>1</td></tr><tr><td>best_val_loss</td><td>3.18202</td></tr><tr><td>epoch</td><td>1</td></tr><tr><td>loss</td><td>3.50101</td></tr><tr><td>train_time_min</td><td>5.12415</td></tr><tr><td>val_loss</td><td>3.18202</td></tr></table><br/></div></div>"
            ]
          },
          "metadata": {}
        },
        {
          "output_type": "display_data",
          "data": {
            "text/plain": [
              "<IPython.core.display.HTML object>"
            ],
            "text/html": [
              " View run <strong style=\"color:#cdcd00\">gpu_run_2_bs4_lr3e-05_ep2</strong> at: <a href='https://wandb.ai/j-chemirmir-glasgow-caledonian-university/flan_t5_healthcare_chatbot_experiments/runs/w1w9ggn9' target=\"_blank\">https://wandb.ai/j-chemirmir-glasgow-caledonian-university/flan_t5_healthcare_chatbot_experiments/runs/w1w9ggn9</a><br> View project at: <a href='https://wandb.ai/j-chemirmir-glasgow-caledonian-university/flan_t5_healthcare_chatbot_experiments' target=\"_blank\">https://wandb.ai/j-chemirmir-glasgow-caledonian-university/flan_t5_healthcare_chatbot_experiments</a><br>Synced 5 W&B file(s), 1 media file(s), 0 artifact file(s) and 0 other file(s)"
            ]
          },
          "metadata": {}
        },
        {
          "output_type": "display_data",
          "data": {
            "text/plain": [
              "<IPython.core.display.HTML object>"
            ],
            "text/html": [
              "Find logs at: <code>./wandb/run-20251016_101437-w1w9ggn9/logs</code>"
            ]
          },
          "metadata": {}
        },
        {
          "output_type": "stream",
          "name": "stdout",
          "text": [
            "\n",
            " Starting gpu_run_3_bs4_lr2e-05_ep3\n"
          ]
        },
        {
          "output_type": "display_data",
          "data": {
            "text/plain": [
              "<IPython.core.display.HTML object>"
            ],
            "text/html": [
              "Changes to your `wandb` environment variables will be ignored because your `wandb` session has already started. For more information on how to modify your settings with `wandb.init()` arguments, please refer to <a href='https://wandb.me/wandb-init' target=\"_blank\">the W&B docs</a>."
            ]
          },
          "metadata": {}
        },
        {
          "output_type": "display_data",
          "data": {
            "text/plain": [
              "<IPython.core.display.HTML object>"
            ],
            "text/html": []
          },
          "metadata": {}
        },
        {
          "output_type": "display_data",
          "data": {
            "text/plain": [
              "<IPython.core.display.HTML object>"
            ],
            "text/html": [
              "Tracking run with wandb version 0.22.2"
            ]
          },
          "metadata": {}
        },
        {
          "output_type": "display_data",
          "data": {
            "text/plain": [
              "<IPython.core.display.HTML object>"
            ],
            "text/html": [
              "Run data is saved locally in <code>/content/wandb/run-20251016_101947-ztdc8ddq</code>"
            ]
          },
          "metadata": {}
        },
        {
          "output_type": "display_data",
          "data": {
            "text/plain": [
              "<IPython.core.display.HTML object>"
            ],
            "text/html": [
              "Syncing run <strong><a href='https://wandb.ai/j-chemirmir-glasgow-caledonian-university/flan_t5_healthcare_chatbot_experiments/runs/ztdc8ddq' target=\"_blank\">gpu_run_3_bs4_lr2e-05_ep3</a></strong> to <a href='https://wandb.ai/j-chemirmir-glasgow-caledonian-university/flan_t5_healthcare_chatbot_experiments' target=\"_blank\">Weights & Biases</a> (<a href='https://wandb.me/developer-guide' target=\"_blank\">docs</a>)<br>"
            ]
          },
          "metadata": {}
        },
        {
          "output_type": "display_data",
          "data": {
            "text/plain": [
              "<IPython.core.display.HTML object>"
            ],
            "text/html": [
              " View project at <a href='https://wandb.ai/j-chemirmir-glasgow-caledonian-university/flan_t5_healthcare_chatbot_experiments' target=\"_blank\">https://wandb.ai/j-chemirmir-glasgow-caledonian-university/flan_t5_healthcare_chatbot_experiments</a>"
            ]
          },
          "metadata": {}
        },
        {
          "output_type": "display_data",
          "data": {
            "text/plain": [
              "<IPython.core.display.HTML object>"
            ],
            "text/html": [
              " View run at <a href='https://wandb.ai/j-chemirmir-glasgow-caledonian-university/flan_t5_healthcare_chatbot_experiments/runs/ztdc8ddq' target=\"_blank\">https://wandb.ai/j-chemirmir-glasgow-caledonian-university/flan_t5_healthcare_chatbot_experiments/runs/ztdc8ddq</a>"
            ]
          },
          "metadata": {}
        },
        {
          "output_type": "stream",
          "name": "stdout",
          "text": [
            "Epoch 1/3\n",
            "789/789 [==============================] - 194s 175ms/step - loss: 4.6145 - val_loss: 3.3873\n",
            "Epoch 2/3\n",
            "789/789 [==============================] - 112s 141ms/step - loss: 3.7223 - val_loss: 3.3629\n",
            "Epoch 3/3\n",
            "789/789 [==============================] - 111s 140ms/step - loss: 3.7215 - val_loss: 3.3629\n",
            "Run gpu_run_3_bs4_lr2e-05_ep3 done in 7.57 min | val_loss=3.363\n"
          ]
        },
        {
          "output_type": "display_data",
          "data": {
            "text/plain": [
              "<IPython.core.display.HTML object>"
            ],
            "text/html": []
          },
          "metadata": {}
        },
        {
          "output_type": "display_data",
          "data": {
            "text/plain": [
              "<IPython.core.display.HTML object>"
            ],
            "text/html": [
              "<br>    <style><br>        .wandb-row {<br>            display: flex;<br>            flex-direction: row;<br>            flex-wrap: wrap;<br>            justify-content: flex-start;<br>            width: 100%;<br>        }<br>        .wandb-col {<br>            display: flex;<br>            flex-direction: column;<br>            flex-basis: 100%;<br>            flex: 1;<br>            padding: 10px;<br>        }<br>    </style><br><div class=\"wandb-row\"><div class=\"wandb-col\"><h3>Run history:</h3><br/><table class=\"wandb\"><tr><td>epoch</td><td>▁▅█</td></tr><tr><td>loss</td><td>█▁▁</td></tr><tr><td>train_time_min</td><td>▁</td></tr><tr><td>val_loss</td><td>█▁▁▁</td></tr></table><br/></div><div class=\"wandb-col\"><h3>Run summary:</h3><br/><table class=\"wandb\"><tr><td>best_epoch</td><td>1</td></tr><tr><td>best_val_loss</td><td>3.36291</td></tr><tr><td>epoch</td><td>2</td></tr><tr><td>loss</td><td>3.72152</td></tr><tr><td>train_time_min</td><td>7.57486</td></tr><tr><td>val_loss</td><td>3.36291</td></tr></table><br/></div></div>"
            ]
          },
          "metadata": {}
        },
        {
          "output_type": "display_data",
          "data": {
            "text/plain": [
              "<IPython.core.display.HTML object>"
            ],
            "text/html": [
              " View run <strong style=\"color:#cdcd00\">gpu_run_3_bs4_lr2e-05_ep3</strong> at: <a href='https://wandb.ai/j-chemirmir-glasgow-caledonian-university/flan_t5_healthcare_chatbot_experiments/runs/ztdc8ddq' target=\"_blank\">https://wandb.ai/j-chemirmir-glasgow-caledonian-university/flan_t5_healthcare_chatbot_experiments/runs/ztdc8ddq</a><br> View project at: <a href='https://wandb.ai/j-chemirmir-glasgow-caledonian-university/flan_t5_healthcare_chatbot_experiments' target=\"_blank\">https://wandb.ai/j-chemirmir-glasgow-caledonian-university/flan_t5_healthcare_chatbot_experiments</a><br>Synced 5 W&B file(s), 1 media file(s), 0 artifact file(s) and 0 other file(s)"
            ]
          },
          "metadata": {}
        },
        {
          "output_type": "display_data",
          "data": {
            "text/plain": [
              "<IPython.core.display.HTML object>"
            ],
            "text/html": [
              "Find logs at: <code>./wandb/run-20251016_101947-ztdc8ddq/logs</code>"
            ]
          },
          "metadata": {}
        },
        {
          "output_type": "stream",
          "name": "stdout",
          "text": [
            "All runs complete. Best config: {'batch_size': 2, 'epochs': 2, 'learning_rate': 5e-05}\n"
          ]
        }
      ]
    },
    {
      "cell_type": "markdown",
      "source": [
        "# Validation Loss vs Perplexity"
      ],
      "metadata": {
        "id": "qy02suT614Fo"
      }
    },
    {
      "cell_type": "code",
      "source": [
        "import matplotlib.pyplot as plt\n",
        "\n",
        "# Convert 'Experiment' column to string type for consistent plotting\n",
        "df[\"Experiment\"] = df[\"Experiment\"].astype(str)\n",
        "\n",
        "plt.figure(figsize=(10,6))\n",
        "plt.plot(df[\"Experiment\"], df[\"Validation Loss\"], marker='o', label=\"Validation Loss\")\n",
        "plt.plot(df[\"Experiment\"], df[\"Perplexity\"], marker='s', label=\"Perplexity\")\n",
        "plt.title(\"Validation Loss vs Perplexity Across Experiments\")\n",
        "plt.xlabel(\"Experiment\")\n",
        "plt.ylabel(\"Score\")\n",
        "plt.legend()\n",
        "plt.grid(True)\n",
        "plt.show()"
      ],
      "metadata": {
        "colab": {
          "base_uri": "https://localhost:8080/",
          "height": 564
        },
        "id": "aQduGosh1VnV",
        "outputId": "e656a980-3bd2-4c55-93aa-040ad8322a31"
      },
      "execution_count": null,
      "outputs": [
        {
          "output_type": "display_data",
          "data": {
            "text/plain": [
              "<Figure size 1000x600 with 1 Axes>"
            ],
            "image/png": "[encoded data removed]"
          },
          "metadata": {}
        }
      ]
    },
    {
      "cell_type": "markdown",
      "source": [
        "# BLEU and ROUGE-L comparison"
      ],
      "metadata": {
        "id": "OCFuexmU2C6M"
      }
    },
    {
      "cell_type": "code",
      "source": [
        "plt.figure(figsize=(8,6))\n",
        "plt.bar(df[\"Experiment\"], df[\"BLEU\"], width=0.4, label=\"BLEU\")\n",
        "plt.bar(df[\"Experiment\"], df[\"ROUGE-L\"], width=0.4, label=\"ROUGE-L\", alpha=0.6)\n",
        "plt.title(\"BLEU vs ROUGE-L Scores\")\n",
        "plt.xlabel(\"Experiment\")\n",
        "plt.ylabel(\"Score\")\n",
        "plt.legend()\n",
        "plt.show()"
      ],
      "metadata": {
        "colab": {
          "base_uri": "https://localhost:8080/",
          "height": 564
        },
        "id": "WEBWQbRd10gc",
        "outputId": "d413b3ac-19c7-45dd-a1cb-b0bc3655d9d1"
      },
      "execution_count": null,
      "outputs": [
        {
          "output_type": "display_data",
          "data": {
            "text/plain": [
              "<Figure size 800x600 with 1 Axes>"
            ],
            "image/png": "[encoded data removed]"
          },
          "metadata": {}
        }
      ]
    },
    {
      "cell_type": "markdown",
      "source": [
        "# Learning Rate vs Validation Loss"
      ],
      "metadata": {
        "id": "zSFrOpnL2PUE"
      }
    },
    {
      "cell_type": "code",
      "source": [
        "plt.figure(figsize=(8,6))\n",
        "plt.scatter(df[\"Learning Rate\"], df[\"Validation Loss\"], s=120, c=\"royalblue\")\n",
        "for i, txt in enumerate(df[\"Experiment\"]):\n",
        "    plt.annotate(txt, (df[\"Learning Rate\"][i], df[\"Validation Loss\"][i]), fontsize=9, xytext=(5,5), textcoords='offset points')\n",
        "plt.xscale('log')\n",
        "plt.title(\"Learning Rate vs Validation Loss\")\n",
        "plt.xlabel(\"Learning Rate (log scale)\")\n",
        "plt.ylabel(\"Validation Loss\")\n",
        "plt.grid(True)\n",
        "plt.show()"
      ],
      "metadata": {
        "colab": {
          "base_uri": "https://localhost:8080/",
          "height": 566
        },
        "id": "4t1DSY3d1fZq",
        "outputId": "5ec8294b-d5a1-4c13-eb26-fb60255b4ec7"
      },
      "execution_count": null,
      "outputs": [
        {
          "output_type": "display_data",
          "data": {
            "text/plain": [
              "<Figure size 800x600 with 1 Axes>"
            ],
            "image/png": "[encoded data removed]"
          },
          "metadata": {}
        }
      ]
    },
    {
      "cell_type": "code",
      "source": [
        "from transformers import AutoTokenizer, TFAutoModelForSeq2SeqLM\n",
        "\n",
        "# Load best model and tokenizer\n",
        "tokenizer = AutoTokenizer.from_pretrained(\"best_flan_t5_healthcare_model\")\n",
        "model = TFAutoModelForSeq2SeqLM.from_pretrained(\"best_flan_t5_healthcare_model\")\n",
        "\n",
        "print(\"Best model loaded successfully and ready for use!\")"
      ],
      "metadata": {
        "colab": {
          "base_uri": "https://localhost:8080/"
        },
        "id": "9mDgw3oElxrn",
        "outputId": "6bd521f9-116e-4ccc-b585-7ceb14de8740"
      },
      "execution_count": null,
      "outputs": [
        {
          "output_type": "stream",
          "name": "stderr",
          "text": [
            "/usr/local/lib/python3.12/dist-packages/tf_keras/src/initializers/initializers.py:121: UserWarning: The initializer RandomNormal is unseeded and being called multiple times, which will return identical values each time (even if the initializer is unseeded). Please update your code to provide a seed to the initializer, or avoid using the same initializer instance more than once.\n",
            "  warnings.warn(\n",
            "Some layers from the model checkpoint at best_flan_t5_healthcare_model were not used when initializing TFT5ForConditionalGeneration: ['block_._7/layer_._1/EncDecAttention/k/kernel:0', 'block_._2/layer_._1/DenseReluDense/wo/kernel:0', 'block_._0/layer_._0/SelfAttention/o/kernel:0', 'block_._3/layer_._0/SelfAttention/k/kernel:0', 'block_._7/layer_._2/DenseReluDense/wi_0/kernel:0', 'block_._5/layer_._1/EncDecAttention/v/kernel:0', 'block_._3/layer_._1/layer_norm/weight:0', 'block_._0/layer_._2/DenseReluDense/wo/kernel:0', 'block_._1/layer_._2/DenseReluDense/wi_0/kernel:0', 'block_._6/layer_._1/DenseReluDense/wi_0/kernel:0', 'final_layer_norm/weight:0', 'block_._5/layer_._2/DenseReluDense/wi_0/kernel:0', 'block_._2/layer_._2/DenseReluDense/wo/kernel:0', 'block_._7/layer_._0/layer_norm/weight:0', 'block_._2/layer_._0/SelfAttention/q/kernel:0', 'block_._0/layer_._2/DenseReluDense/wi_1/kernel:0', 'block_._4/layer_._2/DenseReluDense/wi_0/kernel:0', 'block_._7/layer_._2/DenseReluDense/wo/kernel:0', 'block_._5/layer_._1/DenseReluDense/wi_1/kernel:0', 'block_._4/layer_._1/EncDecAttention/k/kernel:0', 'block_._5/layer_._2/layer_norm/weight:0', 'block_._1/layer_._0/SelfAttention/k/kernel:0', 'block_._0/layer_._1/DenseReluDense/wi_1/kernel:0', 'block_._2/layer_._0/SelfAttention/o/kernel:0', 'block_._3/layer_._2/layer_norm/weight:0', 'block_._0/layer_._2/DenseReluDense/wi_0/kernel:0', 'block_._5/layer_._2/DenseReluDense/wo/kernel:0', 'block_._6/layer_._1/layer_norm/weight:0', 'block_._7/layer_._0/SelfAttention/v/kernel:0', 'block_._4/layer_._1/DenseReluDense/wo/kernel:0', 'block_._6/layer_._0/SelfAttention/v/kernel:0', 'block_._1/layer_._0/SelfAttention/q/kernel:0', 'block_._6/layer_._2/DenseReluDense/wi_1/kernel:0', 'block_._5/layer_._1/EncDecAttention/q/kernel:0', 'block_._1/layer_._1/DenseReluDense/wi_0/kernel:0', 'block_._4/layer_._0/SelfAttention/q/kernel:0', 'block_._7/layer_._1/DenseReluDense/wi_1/kernel:0', 'block_._6/layer_._1/DenseReluDense/wo/kernel:0', 'kernel:0', 'block_._6/layer_._1/EncDecAttention/q/kernel:0', 'block_._4/layer_._0/SelfAttention/v/kernel:0', 'block_._6/layer_._1/EncDecAttention/v/kernel:0', 'block_._4/layer_._2/DenseReluDense/wo/kernel:0', 'block_._7/layer_._1/EncDecAttention/v/kernel:0', 'block_._6/layer_._1/EncDecAttention/k/kernel:0', 'block_._3/layer_._0/SelfAttention/v/kernel:0', 'block_._1/layer_._1/EncDecAttention/o/kernel:0', 'block_._7/layer_._0/SelfAttention/o/kernel:0', 'block_._2/layer_._1/EncDecAttention/v/kernel:0', 'block_._1/layer_._1/layer_norm/weight:0', 'block_._1/layer_._2/DenseReluDense/wi_1/kernel:0', 'block_._3/layer_._1/DenseReluDense/wi_0/kernel:0', 'block_._7/layer_._0/SelfAttention/q/kernel:0', 'block_._4/layer_._1/layer_norm/weight:0', 'block_._2/layer_._2/DenseReluDense/wi_1/kernel:0', 'block_._3/layer_._2/DenseReluDense/wi_0/kernel:0', 'block_._6/layer_._2/DenseReluDense/wo/kernel:0', 'block_._6/layer_._0/SelfAttention/k/kernel:0', 'block_._0/layer_._0/SelfAttention/k/kernel:0', 'block_._3/layer_._0/SelfAttention/o/kernel:0', 'block_._7/layer_._1/EncDecAttention/o/kernel:0', 'block_._5/layer_._0/layer_norm/weight:0', 'block_._5/layer_._1/DenseReluDense/wi_0/kernel:0', 'block_._4/layer_._2/DenseReluDense/wi_1/kernel:0', 'block_._1/layer_._1/DenseReluDense/wi_1/kernel:0', 'block_._4/layer_._1/EncDecAttention/o/kernel:0', 'block_._0/layer_._0/SelfAttention/relative_attention_bias/embeddings:0', 'block_._1/layer_._0/SelfAttention/v/kernel:0', 'block_._1/layer_._1/EncDecAttention/k/kernel:0', 'block_._5/layer_._0/SelfAttention/q/kernel:0', 'block_._7/layer_._1/DenseReluDense/wi_0/kernel:0', 'block_._4/layer_._2/layer_norm/weight:0', 'block_._0/layer_._1/EncDecAttention/o/kernel:0', 'block_._3/layer_._2/DenseReluDense/wo/kernel:0', 'block_._6/layer_._2/layer_norm/weight:0', 'block_._6/layer_._1/DenseReluDense/wi_1/kernel:0', 'block_._2/layer_._0/SelfAttention/k/kernel:0', 'block_._0/layer_._0/layer_norm/weight:0', 'block_._2/layer_._0/SelfAttention/v/kernel:0', 'block_._4/layer_._0/layer_norm/weight:0', 'block_._5/layer_._1/EncDecAttention/o/kernel:0', 'block_._6/layer_._1/EncDecAttention/o/kernel:0', 'block_._5/layer_._0/SelfAttention/k/kernel:0', 'block_._1/layer_._0/SelfAttention/o/kernel:0', 'block_._1/layer_._1/DenseReluDense/wo/kernel:0', 'block_._1/layer_._0/layer_norm/weight:0', 'block_._2/layer_._2/layer_norm/weight:0', 'block_._1/layer_._1/EncDecAttention/v/kernel:0', 'block_._0/layer_._1/EncDecAttention/q/kernel:0', 'block_._3/layer_._1/DenseReluDense/wo/kernel:0', 'block_._5/layer_._1/EncDecAttention/k/kernel:0', 'block_._1/layer_._2/DenseReluDense/wo/kernel:0', 'block_._3/layer_._1/DenseReluDense/wi_1/kernel:0', 'block_._7/layer_._1/layer_norm/weight:0', 'block_._2/layer_._1/EncDecAttention/q/kernel:0', 'block_._4/layer_._1/EncDecAttention/q/kernel:0', 'block_._7/layer_._0/SelfAttention/k/kernel:0', 'block_._5/layer_._0/SelfAttention/o/kernel:0', 'block_._0/layer_._1/EncDecAttention/k/kernel:0', 'block_._0/layer_._1/layer_norm/weight:0', 'block_._4/layer_._0/SelfAttention/o/kernel:0', 'block_._7/layer_._2/layer_norm/weight:0', 'block_._7/layer_._1/EncDecAttention/q/kernel:0', 'block_._0/layer_._2/layer_norm/weight:0', 'block_._2/layer_._1/DenseReluDense/wi_0/kernel:0', 'block_._6/layer_._0/SelfAttention/o/kernel:0', 'block_._2/layer_._0/layer_norm/weight:0', 'block_._3/layer_._0/layer_norm/weight:0', 'block_._4/layer_._1/DenseReluDense/wi_0/kernel:0', 'block_._0/layer_._1/DenseReluDense/wo/kernel:0', 'block_._2/layer_._1/EncDecAttention/k/kernel:0', 'block_._4/layer_._1/EncDecAttention/v/kernel:0', 'block_._5/layer_._0/SelfAttention/v/kernel:0', 'block_._5/layer_._1/DenseReluDense/wo/kernel:0', 'block_._3/layer_._1/EncDecAttention/o/kernel:0', 'block_._1/layer_._1/EncDecAttention/q/kernel:0', 'block_._0/layer_._0/SelfAttention/v/kernel:0', 'block_._6/layer_._0/SelfAttention/q/kernel:0', 'block_._2/layer_._2/DenseReluDense/wi_0/kernel:0', 'block_._4/layer_._0/SelfAttention/k/kernel:0', 'block_._5/layer_._1/layer_norm/weight:0', 'block_._3/layer_._0/SelfAttention/q/kernel:0', 'block_._0/layer_._1/DenseReluDense/wi_0/kernel:0', 'block_._3/layer_._1/EncDecAttention/k/kernel:0', 'block_._2/layer_._1/DenseReluDense/wi_1/kernel:0', 'block_._7/layer_._2/DenseReluDense/wi_1/kernel:0', 'block_._3/layer_._2/DenseReluDense/wi_1/kernel:0', 'block_._6/layer_._2/DenseReluDense/wi_0/kernel:0', 'block_._5/layer_._2/DenseReluDense/wi_1/kernel:0', 'block_._0/layer_._0/SelfAttention/q/kernel:0', 'block_._2/layer_._1/layer_norm/weight:0', 'block_._3/layer_._1/EncDecAttention/q/kernel:0', 'block_._6/layer_._0/layer_norm/weight:0', 'block_._3/layer_._1/EncDecAttention/v/kernel:0', 'block_._7/layer_._1/DenseReluDense/wo/kernel:0', 'block_._4/layer_._1/DenseReluDense/wi_1/kernel:0', 'block_._0/layer_._1/EncDecAttention/v/kernel:0', 'block_._1/layer_._2/layer_norm/weight:0', 'block_._2/layer_._1/EncDecAttention/o/kernel:0']\n",
            "- This IS expected if you are initializing TFT5ForConditionalGeneration from the checkpoint of a model trained on another task or with another architecture (e.g. initializing a BertForSequenceClassification model from a BertForPreTraining model).\n",
            "- This IS NOT expected if you are initializing TFT5ForConditionalGeneration from the checkpoint of a model that you expect to be exactly identical (initializing a BertForSequenceClassification model from a BertForSequenceClassification model).\n",
            "Some layers of TFT5ForConditionalGeneration were not initialized from the model checkpoint at best_flan_t5_healthcare_model and are newly initialized: ['decoder/block_._1/layer_._0/SelfAttention/k/kernel:0', 'decoder/block_._6/layer_._1/layer_norm/weight:0', 'decoder/block_._0/layer_._2/layer_norm/weight:0', 'encoder/block_._0/layer_._1/layer_norm/weight:0', 'encoder/block_._6/layer_._1/DenseReluDense/wo/kernel:0', 'decoder/block_._2/layer_._0/layer_norm/weight:0', 'decoder/block_._7/layer_._0/SelfAttention/k/kernel:0', 'encoder/block_._6/layer_._0/SelfAttention/v/kernel:0', 'decoder/block_._1/layer_._2/DenseReluDense/wi_0/kernel:0', 'encoder/block_._2/layer_._0/SelfAttention/q/kernel:0', 'encoder/block_._3/layer_._0/layer_norm/weight:0', 'encoder/block_._3/layer_._1/layer_norm/weight:0', 'decoder/block_._4/layer_._2/DenseReluDense/wi_0/kernel:0', 'encoder/block_._1/layer_._0/SelfAttention/v/kernel:0', 'decoder/block_._2/layer_._0/SelfAttention/o/kernel:0', 'encoder/block_._1/layer_._1/layer_norm/weight:0', 'encoder/block_._4/layer_._0/SelfAttention/k/kernel:0', 'decoder/block_._0/layer_._1/EncDecAttention/q/kernel:0', 'decoder/block_._7/layer_._1/EncDecAttention/v/kernel:0', 'encoder/block_._5/layer_._0/SelfAttention/v/kernel:0', 'encoder/block_._4/layer_._1/DenseReluDense/wo/kernel:0', 'decoder/block_._5/layer_._0/SelfAttention/k/kernel:0', 'encoder/block_._5/layer_._0/SelfAttention/o/kernel:0', 'decoder/block_._3/layer_._0/SelfAttention/v/kernel:0', 'decoder/block_._0/layer_._0/SelfAttention/relative_attention_bias/weight:0', 'decoder/block_._1/layer_._1/layer_norm/weight:0', 'encoder/block_._4/layer_._1/layer_norm/weight:0', 'encoder/block_._0/layer_._0/SelfAttention/v/kernel:0', 'encoder/block_._0/layer_._0/layer_norm/weight:0', 'encoder/block_._0/layer_._1/DenseReluDense/wi_0/kernel:0', 'encoder/block_._6/layer_._1/layer_norm/weight:0', 'decoder/block_._6/layer_._2/DenseReluDense/wi_0/kernel:0', 'encoder/block_._2/layer_._1/DenseReluDense/wi_1/kernel:0', 'encoder/final_layer_norm/weight:0', 'encoder/block_._1/layer_._0/SelfAttention/o/kernel:0', 'encoder/block_._5/layer_._0/layer_norm/weight:0', 'encoder/block_._3/layer_._0/SelfAttention/o/kernel:0', 'decoder/block_._6/layer_._2/layer_norm/weight:0', 'decoder/block_._6/layer_._0/SelfAttention/v/kernel:0', 'encoder/block_._0/layer_._0/SelfAttention/q/kernel:0', 'encoder/block_._6/layer_._0/layer_norm/weight:0', 'encoder/block_._2/layer_._1/layer_norm/weight:0', 'encoder/block_._2/layer_._1/DenseReluDense/wi_0/kernel:0', 'encoder/block_._1/layer_._1/DenseReluDense/wi_0/kernel:0', 'decoder/block_._2/layer_._1/layer_norm/weight:0', 'decoder/block_._3/layer_._0/SelfAttention/q/kernel:0', 'decoder/block_._1/layer_._2/DenseReluDense/wi_1/kernel:0', 'decoder/block_._2/layer_._2/DenseReluDense/wi_0/kernel:0', 'decoder/final_layer_norm/weight:0', 'encoder/block_._7/layer_._0/SelfAttention/k/kernel:0', 'decoder/block_._0/layer_._0/SelfAttention/k/kernel:0', 'decoder/block_._3/layer_._1/EncDecAttention/o/kernel:0', 'encoder/block_._7/layer_._1/DenseReluDense/wo/kernel:0', 'encoder/block_._7/layer_._1/layer_norm/weight:0', 'decoder/block_._6/layer_._2/DenseReluDense/wo/kernel:0', 'decoder/block_._7/layer_._2/DenseReluDense/wi_0/kernel:0', 'decoder/block_._3/layer_._2/DenseReluDense/wi_1/kernel:0', 'decoder/block_._4/layer_._1/layer_norm/weight:0', 'decoder/block_._3/layer_._1/EncDecAttention/q/kernel:0', 'encoder/block_._5/layer_._1/DenseReluDense/wi_1/kernel:0', 'decoder/block_._6/layer_._0/SelfAttention/o/kernel:0', 'decoder/block_._4/layer_._2/DenseReluDense/wi_1/kernel:0', 'encoder/block_._2/layer_._1/DenseReluDense/wo/kernel:0', 'decoder/block_._0/layer_._1/EncDecAttention/k/kernel:0', 'decoder/block_._0/layer_._1/EncDecAttention/v/kernel:0', 'decoder/block_._4/layer_._1/EncDecAttention/q/kernel:0', 'decoder/block_._6/layer_._1/EncDecAttention/v/kernel:0', 'decoder/block_._5/layer_._2/DenseReluDense/wi_0/kernel:0', 'decoder/block_._0/layer_._2/DenseReluDense/wi_1/kernel:0', 'decoder/block_._3/layer_._0/SelfAttention/o/kernel:0', 'encoder/block_._4/layer_._0/SelfAttention/o/kernel:0', 'encoder/block_._6/layer_._0/SelfAttention/q/kernel:0', 'encoder/block_._6/layer_._0/SelfAttention/o/kernel:0', 'decoder/block_._6/layer_._0/layer_norm/weight:0', 'encoder/block_._1/layer_._1/DenseReluDense/wo/kernel:0', 'encoder/block_._3/layer_._1/DenseReluDense/wi_1/kernel:0', 'encoder/block_._4/layer_._0/layer_norm/weight:0', 'decoder/block_._6/layer_._2/DenseReluDense/wi_1/kernel:0', 'encoder/block_._0/layer_._1/DenseReluDense/wi_1/kernel:0', 'decoder/block_._4/layer_._2/layer_norm/weight:0', 'encoder/block_._5/layer_._0/SelfAttention/k/kernel:0', 'decoder/block_._1/layer_._0/SelfAttention/o/kernel:0', 'decoder/block_._4/layer_._0/SelfAttention/v/kernel:0', 'decoder/block_._7/layer_._2/DenseReluDense/wo/kernel:0', 'decoder/block_._4/layer_._2/DenseReluDense/wo/kernel:0', 'decoder/block_._3/layer_._2/DenseReluDense/wo/kernel:0', 'decoder/block_._1/layer_._2/DenseReluDense/wo/kernel:0', 'decoder/block_._1/layer_._1/EncDecAttention/k/kernel:0', 'decoder/block_._6/layer_._1/EncDecAttention/k/kernel:0', 'decoder/block_._3/layer_._0/SelfAttention/k/kernel:0', 'decoder/block_._6/layer_._0/SelfAttention/k/kernel:0', 'encoder/block_._1/layer_._0/SelfAttention/q/kernel:0', 'decoder/block_._5/layer_._1/EncDecAttention/o/kernel:0', 'decoder/block_._0/layer_._0/SelfAttention/q/kernel:0', 'encoder/block_._1/layer_._0/layer_norm/weight:0', 'encoder/block_._7/layer_._0/SelfAttention/v/kernel:0', 'decoder/block_._0/layer_._1/layer_norm/weight:0', 'encoder/block_._0/layer_._0/SelfAttention/relative_attention_bias/weight:0', 'decoder/block_._1/layer_._1/EncDecAttention/o/kernel:0', 'decoder/block_._7/layer_._0/SelfAttention/o/kernel:0', 'decoder/block_._1/layer_._1/EncDecAttention/v/kernel:0', 'decoder/block_._2/layer_._0/SelfAttention/k/kernel:0', 'decoder/block_._7/layer_._0/SelfAttention/q/kernel:0', 'encoder/block_._2/layer_._0/SelfAttention/v/kernel:0', 'decoder/block_._7/layer_._2/DenseReluDense/wi_1/kernel:0', 'decoder/block_._7/layer_._0/SelfAttention/v/kernel:0', 'decoder/block_._2/layer_._0/SelfAttention/v/kernel:0', 'encoder/block_._3/layer_._1/DenseReluDense/wo/kernel:0', 'lm_head/kernel:0', 'decoder/block_._5/layer_._1/EncDecAttention/v/kernel:0', 'encoder/block_._6/layer_._1/DenseReluDense/wi_1/kernel:0', 'decoder/block_._5/layer_._2/layer_norm/weight:0', 'encoder/block_._5/layer_._0/SelfAttention/q/kernel:0', 'decoder/block_._3/layer_._1/EncDecAttention/v/kernel:0', 'encoder/block_._2/layer_._0/SelfAttention/o/kernel:0', 'encoder/block_._5/layer_._1/DenseReluDense/wo/kernel:0', 'encoder/block_._4/layer_._1/DenseReluDense/wi_0/kernel:0', 'decoder/block_._2/layer_._2/layer_norm/weight:0', 'encoder/block_._5/layer_._1/DenseReluDense/wi_0/kernel:0', 'encoder/block_._0/layer_._0/SelfAttention/o/kernel:0', 'encoder/block_._1/layer_._0/SelfAttention/k/kernel:0', 'encoder/block_._3/layer_._1/DenseReluDense/wi_0/kernel:0', 'decoder/block_._1/layer_._0/SelfAttention/v/kernel:0', 'encoder/block_._3/layer_._0/SelfAttention/v/kernel:0', 'encoder/block_._2/layer_._0/SelfAttention/k/kernel:0', 'decoder/block_._4/layer_._0/layer_norm/weight:0', 'decoder/block_._4/layer_._0/SelfAttention/o/kernel:0', 'decoder/block_._2/layer_._0/SelfAttention/q/kernel:0', 'decoder/block_._2/layer_._1/EncDecAttention/k/kernel:0', 'encoder/block_._7/layer_._0/layer_norm/weight:0', 'decoder/block_._1/layer_._1/EncDecAttention/q/kernel:0', 'encoder/block_._7/layer_._0/SelfAttention/o/kernel:0', 'decoder/block_._0/layer_._2/DenseReluDense/wi_0/kernel:0', 'decoder/block_._3/layer_._0/layer_norm/weight:0', 'decoder/block_._5/layer_._1/EncDecAttention/q/kernel:0', 'encoder/block_._3/layer_._0/SelfAttention/k/kernel:0', 'decoder/block_._7/layer_._1/layer_norm/weight:0', 'decoder/block_._3/layer_._2/DenseReluDense/wi_0/kernel:0', 'encoder/block_._0/layer_._0/SelfAttention/k/kernel:0', 'encoder/block_._0/layer_._1/DenseReluDense/wo/kernel:0', 'decoder/block_._1/layer_._2/layer_norm/weight:0', 'encoder/block_._4/layer_._0/SelfAttention/q/kernel:0', 'decoder/block_._2/layer_._2/DenseReluDense/wi_1/kernel:0', 'decoder/block_._1/layer_._0/layer_norm/weight:0', 'decoder/block_._7/layer_._1/EncDecAttention/k/kernel:0', 'encoder/block_._6/layer_._1/DenseReluDense/wi_0/kernel:0', 'decoder/block_._0/layer_._0/layer_norm/weight:0', 'decoder/block_._5/layer_._0/SelfAttention/v/kernel:0', 'decoder/block_._7/layer_._1/EncDecAttention/o/kernel:0', 'decoder/block_._7/layer_._2/layer_norm/weight:0', 'decoder/block_._2/layer_._1/EncDecAttention/q/kernel:0', 'decoder/block_._5/layer_._0/SelfAttention/o/kernel:0', 'encoder/block_._4/layer_._1/DenseReluDense/wi_1/kernel:0', 'encoder/block_._6/layer_._0/SelfAttention/k/kernel:0', 'encoder/block_._1/layer_._1/DenseReluDense/wi_1/kernel:0', 'decoder/block_._2/layer_._1/EncDecAttention/v/kernel:0', 'decoder/block_._0/layer_._0/SelfAttention/o/kernel:0', 'decoder/block_._5/layer_._2/DenseReluDense/wo/kernel:0', 'decoder/block_._0/layer_._0/SelfAttention/v/kernel:0', 'decoder/block_._5/layer_._0/SelfAttention/q/kernel:0', 'decoder/block_._7/layer_._1/EncDecAttention/q/kernel:0', 'decoder/block_._3/layer_._1/layer_norm/weight:0', 'decoder/block_._3/layer_._2/layer_norm/weight:0', 'decoder/block_._0/layer_._2/DenseReluDense/wo/kernel:0', 'decoder/block_._7/layer_._0/layer_norm/weight:0', 'decoder/block_._6/layer_._1/EncDecAttention/o/kernel:0', 'encoder/block_._2/layer_._0/layer_norm/weight:0', 'encoder/block_._4/layer_._0/SelfAttention/v/kernel:0', 'decoder/block_._0/layer_._1/EncDecAttention/o/kernel:0', 'encoder/block_._7/layer_._1/DenseReluDense/wi_1/kernel:0', 'decoder/block_._2/layer_._1/EncDecAttention/o/kernel:0', 'decoder/block_._4/layer_._1/EncDecAttention/o/kernel:0', 'decoder/block_._6/layer_._0/SelfAttention/q/kernel:0', 'decoder/block_._4/layer_._0/SelfAttention/k/kernel:0', 'decoder/block_._3/layer_._1/EncDecAttention/k/kernel:0', 'encoder/block_._3/layer_._0/SelfAttention/q/kernel:0', 'decoder/block_._1/layer_._0/SelfAttention/q/kernel:0', 'decoder/block_._4/layer_._1/EncDecAttention/k/kernel:0', 'decoder/block_._4/layer_._1/EncDecAttention/v/kernel:0', 'decoder/block_._5/layer_._1/layer_norm/weight:0', 'decoder/block_._2/layer_._2/DenseReluDense/wo/kernel:0', 'decoder/block_._5/layer_._2/DenseReluDense/wi_1/kernel:0', 'decoder/block_._5/layer_._1/EncDecAttention/k/kernel:0', 'encoder/block_._7/layer_._1/DenseReluDense/wi_0/kernel:0', 'decoder/block_._4/layer_._0/SelfAttention/q/kernel:0', 'encoder/block_._7/layer_._0/SelfAttention/q/kernel:0', 'decoder/block_._5/layer_._0/layer_norm/weight:0', 'decoder/block_._6/layer_._1/EncDecAttention/q/kernel:0', 'encoder/block_._5/layer_._1/layer_norm/weight:0']\n",
            "You should probably TRAIN this model on a down-stream task to be able to use it for predictions and inference.\n"
          ]
        },
        {
          "output_type": "stream",
          "name": "stdout",
          "text": [
            "Best model loaded successfully and ready for use!\n"
          ]
        }
      ]
    },
    {
      "cell_type": "code",
      "source": [
        "# Simple Chatbot\n",
        "!pip install -q sentence-transformers pandas scikit-learn\n",
        "\n",
        "import pandas as pd\n",
        "from sentence_transformers import SentenceTransformer, util\n",
        "\n",
        "# Load your dataset\n",
        "df = pd.read_csv(\"dataset.csv\").dropna()\n",
        "print(f\"Loaded {len(df)} Q&A pairs\")\n",
        "\n",
        "# Encode questions once\n",
        "model = SentenceTransformer(\"all-MiniLM-L6-v2\")\n",
        "question_embeddings = model.encode(df[\"Context\"].tolist(), convert_to_tensor=True)\n",
        "\n",
        "def get_response(user_query, top_k=1):\n",
        "    \"\"\"Find the dataset question most similar to user query.\"\"\"\n",
        "    query_emb = model.encode(user_query, convert_to_tensor=True)\n",
        "    cos_scores = util.pytorch_cos_sim(query_emb, question_embeddings)[0]\n",
        "    best_idx = int(cos_scores.argmax())\n",
        "    # Use 'Context' for best question and 'Response' for best answer\n",
        "    best_question = df.iloc[best_idx][\"Context\"]\n",
        "    best_answer = df.iloc[best_idx][\"Response\"]\n",
        "    score = float(cos_scores[best_idx])\n",
        "    return best_question, best_answer, score\n",
        "\n",
        "# Chat loop example\n",
        "print(\"\\nChatbot ready! Type 'quit' to exit.\\n\")\n",
        "while True:\n",
        "    user_input = input(\"You: \")\n",
        "    if user_input.lower() == \"quit\":\n",
        "        break\n",
        "    q, a, s = get_response(user_input)\n",
        "    print(f\"\\nBot: {a}  (matched '{q}' - score {s:.2f})\\n\")"
      ],
      "metadata": {
        "colab": {
          "base_uri": "https://localhost:8080/"
        },
        "id": "wtvrl6q_vsgq",
        "outputId": "26bddcbd-830d-4458-e0fc-bfaaeaf6c766"
      },
      "execution_count": null,
      "outputs": [
        {
          "name": "stdout",
          "output_type": "stream",
          "text": [
            "Loaded 3507 Q&A pairs\n",
            "\n",
            "Chatbot ready! Type 'quit' to exit.\n",
            "\n",
            "You: Hie, I feel worthless and my friends say the same\n",
            "\n",
            "Bot: Hello, and thank you for your question and seeking advice on this. Feelings of worthlessness is unfortunately common. In fact, most people, if not all, have felt this to some degree at some point in their life. You are not alone. Changing our feelings is like changing our thoughts - it's hard to do. Our minds are so amazing that the minute you change your thought another one can be right there to take it's place. Without your permission, another thought can just pop in there. The new thought may feel worse than the last one! My guess is that you have tried several things to improve this on your own even before reaching out on here. People often try thinking positive thoughts, debating with their thoughts, or simply telling themselves that they need to \"snap out of it\" - which is also a thought that carries some self-criticism. Some people try a different approach, and there are counselors out there that can help you with this. The idea is that instead of trying to change the thoughts, you change how you respond to them. You learn skills that allow you to manage difficult thoughts and feelings differently so they don't have the same impact on you that they do right now. For some people, they actually DO begin to experience less hurtful thoughts once they learn how to manage the ones they have differently. Acceptance and Commitment Therapy may be a good choice for you. There is information online and even self-help books that you can use to teach you the skills that I mentioned. Because they are skills, they require practice, but many people have found great relief and an enriched life by learning them. As for suicidal thoughts, I am very glad to read that this has not happened to you. Still, you should watch out for this because it can be a sign of a worsening depression. If you begin to think about this, it is important to reach out to a support system right away. The National Suicide Prevention Lifeline is 1-800-273-8255. The text line is #741741. I hope some other colleagues will provide you more suggestions. Be well...Robin Landwehr, DBH, LPCC  (matched 'I'm going through some things with my feelings and myself. I barely sleep and I do nothing but think about how I'm worthless and how I shouldn't be here.\n",
            "   I've never tried or contemplated suicide. I've always wanted to fix my issues, but I never get around to it.\n",
            "   How can I change my feeling of being worthless to everyone?' - score 0.60)\n",
            "\n",
            "You: What can I do to feel better\n",
            "\n",
            "Bot: Does it help to put a name to the experience you are having? Where you first said, \"I've been upset for no reason and feeling anxious,\" you then say that you are \"feeling burnt out,\" which gives a little more context to what may have once felt like \"no reason.\" Perhaps you are feeling burnt out! That is a big deal, and please try not to take it lightly! When we get burnt out, I have found that it's from one of two things: either we are not doing what we want, or we are doing too much (either of something we want or something we don't, doesn't really matter once we get into doing too much.)If either of those rings true for your experience, try as much as possible to sit with the experience and get a better sense of where the burn out is coming from. I wrote about burnout for a newsletter and it is on my website. I don't want to do shameless promotion, but I thought it could also add to helping you: https://davidkleintherapy.com/my-experiences-with-burnout/I hope that you can also see that it's not an abnormal experience.  (matched 'I haven't been feeling like myself lately. I've been upset for no reason and feeling anxious. I'm feeling burnt out. What can help me feel better?' - score 0.67)\n",
            "\n",
            "You: quit\n"
          ]
        }
      ]
    },
    {
      "cell_type": "code",
      "source": [
        "!pip install transformers gradio accelerate pandas --quiet\n",
        "\n",
        "import os\n",
        "import torch\n",
        "import pandas as pd\n",
        "import gradio as gr\n",
        "from transformers import AutoTokenizer, TFAutoModelForSeq2SeqLM\n",
        "\n",
        "# LOAD FINE-TUNED MODEL\n",
        "MODEL_DIR = \"best_flan_t5_healthcare_model\"\n",
        "if not os.path.exists(MODEL_DIR):\n",
        "    raise FileNotFoundError(\"Model folder 'best_flan_t5_healthcare_model' not found. Upload or mount it first.\")\n",
        "\n",
        "print(f\"Loading fine-tuned model from: {MODEL_DIR}\")\n",
        "tokenizer = AutoTokenizer.from_pretrained(MODEL_DIR)\n",
        "model = TFAutoModelForSeq2SeqLM.from_pretrained(MODEL_DIR)\n",
        "\n",
        "# LOAD DATASET FOR QUICK RESPONSES\n",
        "DATASET_PATH = \"dataset.csv\"\n",
        "if os.path.exists(DATASET_PATH):\n",
        "    df_faq = pd.read_csv(DATASET_PATH)\n",
        "    df_faq.columns = df_faq.columns.str.strip()  # Clean column names\n",
        "    print(f\"Loaded dataset with {len(df_faq)} entries.\")\n",
        "else:\n",
        "    print(\"Dataset not found. Creating empty DataFrame.\")\n",
        "    df_faq = pd.DataFrame(columns=[\"Context\", \"Response\"])\n",
        "\n",
        "# GENERATION SETTINGS\n",
        "GEN_ARGS = dict(\n",
        "    max_new_tokens=120,\n",
        "    num_beams=4,\n",
        "    repetition_penalty=2.0,\n",
        "    no_repeat_ngram_size=3,\n",
        "    temperature=0.7,\n",
        "    early_stopping=True,\n",
        ")\n",
        "\n",
        "conversation_history = []\n",
        "\n",
        "# RESPONSE GENERATION FUNCTION\n",
        "def generate_response(user_input):\n",
        "    if not user_input.strip():\n",
        "        return \"Please type something so I can help you.\"\n",
        "\n",
        "    # Check dataset first\n",
        "    if not df_faq.empty:\n",
        "        # Case-insensitive search in 'Context' column\n",
        "        matches = df_faq[df_faq[\"Context\"].str.contains(user_input, case=False, na=False)]\n",
        "        if not matches.empty:\n",
        "            response = matches.iloc[0][\"Response\"]\n",
        "            conversation_history.append({\"User\": user_input, \"Bot\": response})\n",
        "            return response\n",
        "\n",
        "    # If not found, use fine-tuned FLAN-T5 model ---\n",
        "    inputs = tokenizer(user_input, return_tensors=\"tf\", truncation=True, padding=True, max_length=256)\n",
        "    outputs = model.generate(**inputs, **GEN_ARGS)\n",
        "    response = tokenizer.decode(outputs[0], skip_special_tokens=True)\n",
        "\n",
        "    conversation_history.append({\"User\": user_input, \"Bot\": response})\n",
        "    return response\n",
        "\n",
        "# BUILD GRADIO UI\n",
        "with gr.Blocks(css=\"\"\"\n",
        "    body {background-color: #eef3f7;}\n",
        "    .chatbot {border-radius: 12px; padding: 15px; background-color: #ffffff;\n",
        "              box-shadow: 0 4px 12px rgba(0,0,0,0.1);}\n",
        "    .action-btn {background-color: #6c63ff; color: white; padding: 10px 16px;\n",
        "                 border-radius: 8px; font-weight: 600;}\n",
        "    .action-btn:hover {background-color: #5a54e8;}\n",
        "\"\"\") as app:\n",
        "\n",
        "    # Header Section\n",
        "    gr.Markdown(\n",
        "        \"\"\"\n",
        "        <div style=\"text-align:center;\">\n",
        "            <h1 style=\"color:#2c3e50;\">🧠 Mental Health Chatbot</h1>\n",
        "            <p style=\"color:#34495e;\">\n",
        "            A supportive chatbot powered by your fine-tuned <b>FLAN-T5</b> model.<br>\n",
        "            It uses a curated dataset for instant answers and connects you with help if needed.\n",
        "            </p>\n",
        "        </div>\n",
        "        \"\"\",\n",
        "        elem_id=\"header\"\n",
        "    )\n",
        "\n",
        "    # Chat Section\n",
        "    chatbox = gr.Chatbot(label=\"Chat with me\", elem_classes=\"chatbot\")\n",
        "\n",
        "    # Input Row\n",
        "    with gr.Row():\n",
        "        user_input = gr.Textbox(label=\"Type your message\", placeholder=\"e.g., How can I manage anxiety?\")\n",
        "        send_btn = gr.Button(\"Send\", elem_classes=\"action-btn\")\n",
        "        clear_btn = gr.Button(\"Clear Chat\", elem_classes=\"action-btn\")\n",
        "\n",
        "    # Action Buttons\n",
        "    with gr.Row():\n",
        "        speak_btn = gr.Button(\"📞 Speak to a Professional\", elem_classes=\"action-btn\")\n",
        "        call_btn = gr.Button(\"📱 Call Someone\", elem_classes=\"action-btn\")\n",
        "\n",
        "    # Chat Function\n",
        "    def chat_fn(message, history):\n",
        "        response = generate_response(message)\n",
        "        history.append((message, response))\n",
        "        return \"\", history\n",
        "\n",
        "    # Button Behaviors\n",
        "    user_input.submit(chat_fn, [user_input, chatbox], [user_input, chatbox])\n",
        "    send_btn.click(chat_fn, [user_input, chatbox], [user_input, chatbox])\n",
        "    clear_btn.click(lambda: [], None, chatbox)\n",
        "\n",
        "    speak_btn.click(lambda: (\"Connecting you to a professional...\", []), None, chatbox)\n",
        "    call_btn.click(lambda: (\"If you need urgent help, please call your local helpline: 123-456-7890\", []), None, chatbox)\n",
        "\n",
        "app.launch(share=True)"
      ],
      "metadata": {
        "colab": {
          "base_uri": "https://localhost:8080/",
          "height": 802
        },
        "id": "vqas_DE-8xxw",
        "outputId": "7e5977f6-e3c8-4468-da83-48f853b66961"
      },
      "execution_count": null,
      "outputs": [
        {
          "output_type": "stream",
          "name": "stdout",
          "text": [
            "Loading fine-tuned model from: best_flan_t5_healthcare_model\n"
          ]
        },
        {
          "output_type": "stream",
          "name": "stderr",
          "text": [
            "/usr/local/lib/python3.12/dist-packages/tf_keras/src/initializers/initializers.py:121: UserWarning: The initializer RandomNormal is unseeded and being called multiple times, which will return identical values each time (even if the initializer is unseeded). Please update your code to provide a seed to the initializer, or avoid using the same initializer instance more than once.\n",
            "  warnings.warn(\n",
            "Some layers from the model checkpoint at best_flan_t5_healthcare_model were not used when initializing TFT5ForConditionalGeneration: ['block_._7/layer_._1/EncDecAttention/k/kernel:0', 'block_._2/layer_._1/DenseReluDense/wo/kernel:0', 'block_._0/layer_._0/SelfAttention/o/kernel:0', 'block_._3/layer_._0/SelfAttention/k/kernel:0', 'block_._7/layer_._2/DenseReluDense/wi_0/kernel:0', 'block_._5/layer_._1/EncDecAttention/v/kernel:0', 'block_._3/layer_._1/layer_norm/weight:0', 'block_._0/layer_._2/DenseReluDense/wo/kernel:0', 'block_._1/layer_._2/DenseReluDense/wi_0/kernel:0', 'block_._6/layer_._1/DenseReluDense/wi_0/kernel:0', 'final_layer_norm/weight:0', 'block_._5/layer_._2/DenseReluDense/wi_0/kernel:0', 'block_._2/layer_._2/DenseReluDense/wo/kernel:0', 'block_._7/layer_._0/layer_norm/weight:0', 'block_._2/layer_._0/SelfAttention/q/kernel:0', 'block_._0/layer_._2/DenseReluDense/wi_1/kernel:0', 'block_._4/layer_._2/DenseReluDense/wi_0/kernel:0', 'block_._7/layer_._2/DenseReluDense/wo/kernel:0', 'block_._5/layer_._1/DenseReluDense/wi_1/kernel:0', 'block_._4/layer_._1/EncDecAttention/k/kernel:0', 'block_._5/layer_._2/layer_norm/weight:0', 'block_._1/layer_._0/SelfAttention/k/kernel:0', 'block_._0/layer_._1/DenseReluDense/wi_1/kernel:0', 'block_._2/layer_._0/SelfAttention/o/kernel:0', 'block_._3/layer_._2/layer_norm/weight:0', 'block_._0/layer_._2/DenseReluDense/wi_0/kernel:0', 'block_._5/layer_._2/DenseReluDense/wo/kernel:0', 'block_._6/layer_._1/layer_norm/weight:0', 'block_._7/layer_._0/SelfAttention/v/kernel:0', 'block_._4/layer_._1/DenseReluDense/wo/kernel:0', 'block_._6/layer_._0/SelfAttention/v/kernel:0', 'block_._1/layer_._0/SelfAttention/q/kernel:0', 'block_._6/layer_._2/DenseReluDense/wi_1/kernel:0', 'block_._5/layer_._1/EncDecAttention/q/kernel:0', 'block_._1/layer_._1/DenseReluDense/wi_0/kernel:0', 'block_._4/layer_._0/SelfAttention/q/kernel:0', 'block_._7/layer_._1/DenseReluDense/wi_1/kernel:0', 'block_._6/layer_._1/DenseReluDense/wo/kernel:0', 'kernel:0', 'block_._6/layer_._1/EncDecAttention/q/kernel:0', 'block_._4/layer_._0/SelfAttention/v/kernel:0', 'block_._6/layer_._1/EncDecAttention/v/kernel:0', 'block_._4/layer_._2/DenseReluDense/wo/kernel:0', 'block_._7/layer_._1/EncDecAttention/v/kernel:0', 'block_._6/layer_._1/EncDecAttention/k/kernel:0', 'block_._3/layer_._0/SelfAttention/v/kernel:0', 'block_._1/layer_._1/EncDecAttention/o/kernel:0', 'block_._7/layer_._0/SelfAttention/o/kernel:0', 'block_._2/layer_._1/EncDecAttention/v/kernel:0', 'block_._1/layer_._1/layer_norm/weight:0', 'block_._1/layer_._2/DenseReluDense/wi_1/kernel:0', 'block_._3/layer_._1/DenseReluDense/wi_0/kernel:0', 'block_._7/layer_._0/SelfAttention/q/kernel:0', 'block_._4/layer_._1/layer_norm/weight:0', 'block_._2/layer_._2/DenseReluDense/wi_1/kernel:0', 'block_._3/layer_._2/DenseReluDense/wi_0/kernel:0', 'block_._6/layer_._2/DenseReluDense/wo/kernel:0', 'block_._6/layer_._0/SelfAttention/k/kernel:0', 'block_._0/layer_._0/SelfAttention/k/kernel:0', 'block_._3/layer_._0/SelfAttention/o/kernel:0', 'block_._7/layer_._1/EncDecAttention/o/kernel:0', 'block_._5/layer_._0/layer_norm/weight:0', 'block_._5/layer_._1/DenseReluDense/wi_0/kernel:0', 'block_._4/layer_._2/DenseReluDense/wi_1/kernel:0', 'block_._1/layer_._1/DenseReluDense/wi_1/kernel:0', 'block_._4/layer_._1/EncDecAttention/o/kernel:0', 'block_._0/layer_._0/SelfAttention/relative_attention_bias/embeddings:0', 'block_._1/layer_._0/SelfAttention/v/kernel:0', 'block_._1/layer_._1/EncDecAttention/k/kernel:0', 'block_._5/layer_._0/SelfAttention/q/kernel:0', 'block_._7/layer_._1/DenseReluDense/wi_0/kernel:0', 'block_._4/layer_._2/layer_norm/weight:0', 'block_._0/layer_._1/EncDecAttention/o/kernel:0', 'block_._3/layer_._2/DenseReluDense/wo/kernel:0', 'block_._6/layer_._2/layer_norm/weight:0', 'block_._6/layer_._1/DenseReluDense/wi_1/kernel:0', 'block_._2/layer_._0/SelfAttention/k/kernel:0', 'block_._0/layer_._0/layer_norm/weight:0', 'block_._2/layer_._0/SelfAttention/v/kernel:0', 'block_._4/layer_._0/layer_norm/weight:0', 'block_._5/layer_._1/EncDecAttention/o/kernel:0', 'block_._6/layer_._1/EncDecAttention/o/kernel:0', 'block_._5/layer_._0/SelfAttention/k/kernel:0', 'block_._1/layer_._0/SelfAttention/o/kernel:0', 'block_._1/layer_._1/DenseReluDense/wo/kernel:0', 'block_._1/layer_._0/layer_norm/weight:0', 'block_._2/layer_._2/layer_norm/weight:0', 'block_._1/layer_._1/EncDecAttention/v/kernel:0', 'block_._0/layer_._1/EncDecAttention/q/kernel:0', 'block_._3/layer_._1/DenseReluDense/wo/kernel:0', 'block_._5/layer_._1/EncDecAttention/k/kernel:0', 'block_._1/layer_._2/DenseReluDense/wo/kernel:0', 'block_._3/layer_._1/DenseReluDense/wi_1/kernel:0', 'block_._7/layer_._1/layer_norm/weight:0', 'block_._2/layer_._1/EncDecAttention/q/kernel:0', 'block_._4/layer_._1/EncDecAttention/q/kernel:0', 'block_._7/layer_._0/SelfAttention/k/kernel:0', 'block_._5/layer_._0/SelfAttention/o/kernel:0', 'block_._0/layer_._1/EncDecAttention/k/kernel:0', 'block_._0/layer_._1/layer_norm/weight:0', 'block_._4/layer_._0/SelfAttention/o/kernel:0', 'block_._7/layer_._2/layer_norm/weight:0', 'block_._7/layer_._1/EncDecAttention/q/kernel:0', 'block_._0/layer_._2/layer_norm/weight:0', 'block_._2/layer_._1/DenseReluDense/wi_0/kernel:0', 'block_._6/layer_._0/SelfAttention/o/kernel:0', 'block_._2/layer_._0/layer_norm/weight:0', 'block_._3/layer_._0/layer_norm/weight:0', 'block_._4/layer_._1/DenseReluDense/wi_0/kernel:0', 'block_._0/layer_._1/DenseReluDense/wo/kernel:0', 'block_._2/layer_._1/EncDecAttention/k/kernel:0', 'block_._4/layer_._1/EncDecAttention/v/kernel:0', 'block_._5/layer_._0/SelfAttention/v/kernel:0', 'block_._5/layer_._1/DenseReluDense/wo/kernel:0', 'block_._3/layer_._1/EncDecAttention/o/kernel:0', 'block_._1/layer_._1/EncDecAttention/q/kernel:0', 'block_._0/layer_._0/SelfAttention/v/kernel:0', 'block_._6/layer_._0/SelfAttention/q/kernel:0', 'block_._2/layer_._2/DenseReluDense/wi_0/kernel:0', 'block_._4/layer_._0/SelfAttention/k/kernel:0', 'block_._5/layer_._1/layer_norm/weight:0', 'block_._3/layer_._0/SelfAttention/q/kernel:0', 'block_._0/layer_._1/DenseReluDense/wi_0/kernel:0', 'block_._3/layer_._1/EncDecAttention/k/kernel:0', 'block_._2/layer_._1/DenseReluDense/wi_1/kernel:0', 'block_._7/layer_._2/DenseReluDense/wi_1/kernel:0', 'block_._3/layer_._2/DenseReluDense/wi_1/kernel:0', 'block_._6/layer_._2/DenseReluDense/wi_0/kernel:0', 'block_._5/layer_._2/DenseReluDense/wi_1/kernel:0', 'block_._0/layer_._0/SelfAttention/q/kernel:0', 'block_._2/layer_._1/layer_norm/weight:0', 'block_._3/layer_._1/EncDecAttention/q/kernel:0', 'block_._6/layer_._0/layer_norm/weight:0', 'block_._3/layer_._1/EncDecAttention/v/kernel:0', 'block_._7/layer_._1/DenseReluDense/wo/kernel:0', 'block_._4/layer_._1/DenseReluDense/wi_1/kernel:0', 'block_._0/layer_._1/EncDecAttention/v/kernel:0', 'block_._1/layer_._2/layer_norm/weight:0', 'block_._2/layer_._1/EncDecAttention/o/kernel:0']\n",
            "- This IS expected if you are initializing TFT5ForConditionalGeneration from the checkpoint of a model trained on another task or with another architecture (e.g. initializing a BertForSequenceClassification model from a BertForPreTraining model).\n",
            "- This IS NOT expected if you are initializing TFT5ForConditionalGeneration from the checkpoint of a model that you expect to be exactly identical (initializing a BertForSequenceClassification model from a BertForSequenceClassification model).\n",
            "Some layers of TFT5ForConditionalGeneration were not initialized from the model checkpoint at best_flan_t5_healthcare_model and are newly initialized: ['decoder/block_._1/layer_._0/SelfAttention/k/kernel:0', 'decoder/block_._6/layer_._1/layer_norm/weight:0', 'decoder/block_._0/layer_._2/layer_norm/weight:0', 'encoder/block_._0/layer_._1/layer_norm/weight:0', 'encoder/block_._6/layer_._1/DenseReluDense/wo/kernel:0', 'decoder/block_._2/layer_._0/layer_norm/weight:0', 'decoder/block_._7/layer_._0/SelfAttention/k/kernel:0', 'encoder/block_._6/layer_._0/SelfAttention/v/kernel:0', 'decoder/block_._1/layer_._2/DenseReluDense/wi_0/kernel:0', 'encoder/block_._2/layer_._0/SelfAttention/q/kernel:0', 'encoder/block_._3/layer_._0/layer_norm/weight:0', 'encoder/block_._3/layer_._1/layer_norm/weight:0', 'decoder/block_._4/layer_._2/DenseReluDense/wi_0/kernel:0', 'encoder/block_._1/layer_._0/SelfAttention/v/kernel:0', 'decoder/block_._2/layer_._0/SelfAttention/o/kernel:0', 'encoder/block_._1/layer_._1/layer_norm/weight:0', 'encoder/block_._4/layer_._0/SelfAttention/k/kernel:0', 'decoder/block_._0/layer_._1/EncDecAttention/q/kernel:0', 'decoder/block_._7/layer_._1/EncDecAttention/v/kernel:0', 'encoder/block_._5/layer_._0/SelfAttention/v/kernel:0', 'encoder/block_._4/layer_._1/DenseReluDense/wo/kernel:0', 'decoder/block_._5/layer_._0/SelfAttention/k/kernel:0', 'encoder/block_._5/layer_._0/SelfAttention/o/kernel:0', 'decoder/block_._3/layer_._0/SelfAttention/v/kernel:0', 'decoder/block_._0/layer_._0/SelfAttention/relative_attention_bias/weight:0', 'decoder/block_._1/layer_._1/layer_norm/weight:0', 'encoder/block_._4/layer_._1/layer_norm/weight:0', 'encoder/block_._0/layer_._0/SelfAttention/v/kernel:0', 'encoder/block_._0/layer_._0/layer_norm/weight:0', 'encoder/block_._0/layer_._1/DenseReluDense/wi_0/kernel:0', 'encoder/block_._6/layer_._1/layer_norm/weight:0', 'decoder/block_._6/layer_._2/DenseReluDense/wi_0/kernel:0', 'encoder/block_._2/layer_._1/DenseReluDense/wi_1/kernel:0', 'encoder/final_layer_norm/weight:0', 'encoder/block_._1/layer_._0/SelfAttention/o/kernel:0', 'encoder/block_._5/layer_._0/layer_norm/weight:0', 'encoder/block_._3/layer_._0/SelfAttention/o/kernel:0', 'decoder/block_._6/layer_._2/layer_norm/weight:0', 'decoder/block_._6/layer_._0/SelfAttention/v/kernel:0', 'encoder/block_._0/layer_._0/SelfAttention/q/kernel:0', 'encoder/block_._6/layer_._0/layer_norm/weight:0', 'encoder/block_._2/layer_._1/layer_norm/weight:0', 'encoder/block_._2/layer_._1/DenseReluDense/wi_0/kernel:0', 'encoder/block_._1/layer_._1/DenseReluDense/wi_0/kernel:0', 'decoder/block_._2/layer_._1/layer_norm/weight:0', 'decoder/block_._3/layer_._0/SelfAttention/q/kernel:0', 'decoder/block_._1/layer_._2/DenseReluDense/wi_1/kernel:0', 'decoder/block_._2/layer_._2/DenseReluDense/wi_0/kernel:0', 'decoder/final_layer_norm/weight:0', 'encoder/block_._7/layer_._0/SelfAttention/k/kernel:0', 'decoder/block_._0/layer_._0/SelfAttention/k/kernel:0', 'decoder/block_._3/layer_._1/EncDecAttention/o/kernel:0', 'encoder/block_._7/layer_._1/DenseReluDense/wo/kernel:0', 'encoder/block_._7/layer_._1/layer_norm/weight:0', 'decoder/block_._6/layer_._2/DenseReluDense/wo/kernel:0', 'decoder/block_._7/layer_._2/DenseReluDense/wi_0/kernel:0', 'decoder/block_._3/layer_._2/DenseReluDense/wi_1/kernel:0', 'decoder/block_._4/layer_._1/layer_norm/weight:0', 'decoder/block_._3/layer_._1/EncDecAttention/q/kernel:0', 'encoder/block_._5/layer_._1/DenseReluDense/wi_1/kernel:0', 'decoder/block_._6/layer_._0/SelfAttention/o/kernel:0', 'decoder/block_._4/layer_._2/DenseReluDense/wi_1/kernel:0', 'encoder/block_._2/layer_._1/DenseReluDense/wo/kernel:0', 'decoder/block_._0/layer_._1/EncDecAttention/k/kernel:0', 'decoder/block_._0/layer_._1/EncDecAttention/v/kernel:0', 'decoder/block_._4/layer_._1/EncDecAttention/q/kernel:0', 'decoder/block_._6/layer_._1/EncDecAttention/v/kernel:0', 'decoder/block_._5/layer_._2/DenseReluDense/wi_0/kernel:0', 'decoder/block_._0/layer_._2/DenseReluDense/wi_1/kernel:0', 'decoder/block_._3/layer_._0/SelfAttention/o/kernel:0', 'encoder/block_._4/layer_._0/SelfAttention/o/kernel:0', 'encoder/block_._6/layer_._0/SelfAttention/q/kernel:0', 'encoder/block_._6/layer_._0/SelfAttention/o/kernel:0', 'decoder/block_._6/layer_._0/layer_norm/weight:0', 'encoder/block_._1/layer_._1/DenseReluDense/wo/kernel:0', 'encoder/block_._3/layer_._1/DenseReluDense/wi_1/kernel:0', 'encoder/block_._4/layer_._0/layer_norm/weight:0', 'decoder/block_._6/layer_._2/DenseReluDense/wi_1/kernel:0', 'encoder/block_._0/layer_._1/DenseReluDense/wi_1/kernel:0', 'decoder/block_._4/layer_._2/layer_norm/weight:0', 'encoder/block_._5/layer_._0/SelfAttention/k/kernel:0', 'decoder/block_._1/layer_._0/SelfAttention/o/kernel:0', 'decoder/block_._4/layer_._0/SelfAttention/v/kernel:0', 'decoder/block_._7/layer_._2/DenseReluDense/wo/kernel:0', 'decoder/block_._4/layer_._2/DenseReluDense/wo/kernel:0', 'decoder/block_._3/layer_._2/DenseReluDense/wo/kernel:0', 'decoder/block_._1/layer_._2/DenseReluDense/wo/kernel:0', 'decoder/block_._1/layer_._1/EncDecAttention/k/kernel:0', 'decoder/block_._6/layer_._1/EncDecAttention/k/kernel:0', 'decoder/block_._3/layer_._0/SelfAttention/k/kernel:0', 'decoder/block_._6/layer_._0/SelfAttention/k/kernel:0', 'encoder/block_._1/layer_._0/SelfAttention/q/kernel:0', 'decoder/block_._5/layer_._1/EncDecAttention/o/kernel:0', 'decoder/block_._0/layer_._0/SelfAttention/q/kernel:0', 'encoder/block_._1/layer_._0/layer_norm/weight:0', 'encoder/block_._7/layer_._0/SelfAttention/v/kernel:0', 'decoder/block_._0/layer_._1/layer_norm/weight:0', 'encoder/block_._0/layer_._0/SelfAttention/relative_attention_bias/weight:0', 'decoder/block_._1/layer_._1/EncDecAttention/o/kernel:0', 'decoder/block_._7/layer_._0/SelfAttention/o/kernel:0', 'decoder/block_._1/layer_._1/EncDecAttention/v/kernel:0', 'decoder/block_._2/layer_._0/SelfAttention/k/kernel:0', 'decoder/block_._7/layer_._0/SelfAttention/q/kernel:0', 'encoder/block_._2/layer_._0/SelfAttention/v/kernel:0', 'decoder/block_._7/layer_._2/DenseReluDense/wi_1/kernel:0', 'decoder/block_._7/layer_._0/SelfAttention/v/kernel:0', 'decoder/block_._2/layer_._0/SelfAttention/v/kernel:0', 'encoder/block_._3/layer_._1/DenseReluDense/wo/kernel:0', 'lm_head/kernel:0', 'decoder/block_._5/layer_._1/EncDecAttention/v/kernel:0', 'encoder/block_._6/layer_._1/DenseReluDense/wi_1/kernel:0', 'decoder/block_._5/layer_._2/layer_norm/weight:0', 'encoder/block_._5/layer_._0/SelfAttention/q/kernel:0', 'decoder/block_._3/layer_._1/EncDecAttention/v/kernel:0', 'encoder/block_._2/layer_._0/SelfAttention/o/kernel:0', 'encoder/block_._5/layer_._1/DenseReluDense/wo/kernel:0', 'encoder/block_._4/layer_._1/DenseReluDense/wi_0/kernel:0', 'decoder/block_._2/layer_._2/layer_norm/weight:0', 'encoder/block_._5/layer_._1/DenseReluDense/wi_0/kernel:0', 'encoder/block_._0/layer_._0/SelfAttention/o/kernel:0', 'encoder/block_._1/layer_._0/SelfAttention/k/kernel:0', 'encoder/block_._3/layer_._1/DenseReluDense/wi_0/kernel:0', 'decoder/block_._1/layer_._0/SelfAttention/v/kernel:0', 'encoder/block_._3/layer_._0/SelfAttention/v/kernel:0', 'encoder/block_._2/layer_._0/SelfAttention/k/kernel:0', 'decoder/block_._4/layer_._0/layer_norm/weight:0', 'decoder/block_._4/layer_._0/SelfAttention/o/kernel:0', 'decoder/block_._2/layer_._0/SelfAttention/q/kernel:0', 'decoder/block_._2/layer_._1/EncDecAttention/k/kernel:0', 'encoder/block_._7/layer_._0/layer_norm/weight:0', 'decoder/block_._1/layer_._1/EncDecAttention/q/kernel:0', 'encoder/block_._7/layer_._0/SelfAttention/o/kernel:0', 'decoder/block_._0/layer_._2/DenseReluDense/wi_0/kernel:0', 'decoder/block_._3/layer_._0/layer_norm/weight:0', 'decoder/block_._5/layer_._1/EncDecAttention/q/kernel:0', 'encoder/block_._3/layer_._0/SelfAttention/k/kernel:0', 'decoder/block_._7/layer_._1/layer_norm/weight:0', 'decoder/block_._3/layer_._2/DenseReluDense/wi_0/kernel:0', 'encoder/block_._0/layer_._0/SelfAttention/k/kernel:0', 'encoder/block_._0/layer_._1/DenseReluDense/wo/kernel:0', 'decoder/block_._1/layer_._2/layer_norm/weight:0', 'encoder/block_._4/layer_._0/SelfAttention/q/kernel:0', 'decoder/block_._2/layer_._2/DenseReluDense/wi_1/kernel:0', 'decoder/block_._1/layer_._0/layer_norm/weight:0', 'decoder/block_._7/layer_._1/EncDecAttention/k/kernel:0', 'encoder/block_._6/layer_._1/DenseReluDense/wi_0/kernel:0', 'decoder/block_._0/layer_._0/layer_norm/weight:0', 'decoder/block_._5/layer_._0/SelfAttention/v/kernel:0', 'decoder/block_._7/layer_._1/EncDecAttention/o/kernel:0', 'decoder/block_._7/layer_._2/layer_norm/weight:0', 'decoder/block_._2/layer_._1/EncDecAttention/q/kernel:0', 'decoder/block_._5/layer_._0/SelfAttention/o/kernel:0', 'encoder/block_._4/layer_._1/DenseReluDense/wi_1/kernel:0', 'encoder/block_._6/layer_._0/SelfAttention/k/kernel:0', 'encoder/block_._1/layer_._1/DenseReluDense/wi_1/kernel:0', 'decoder/block_._2/layer_._1/EncDecAttention/v/kernel:0', 'decoder/block_._0/layer_._0/SelfAttention/o/kernel:0', 'decoder/block_._5/layer_._2/DenseReluDense/wo/kernel:0', 'decoder/block_._0/layer_._0/SelfAttention/v/kernel:0', 'decoder/block_._5/layer_._0/SelfAttention/q/kernel:0', 'decoder/block_._7/layer_._1/EncDecAttention/q/kernel:0', 'decoder/block_._3/layer_._1/layer_norm/weight:0', 'decoder/block_._3/layer_._2/layer_norm/weight:0', 'decoder/block_._0/layer_._2/DenseReluDense/wo/kernel:0', 'decoder/block_._7/layer_._0/layer_norm/weight:0', 'decoder/block_._6/layer_._1/EncDecAttention/o/kernel:0', 'encoder/block_._2/layer_._0/layer_norm/weight:0', 'encoder/block_._4/layer_._0/SelfAttention/v/kernel:0', 'decoder/block_._0/layer_._1/EncDecAttention/o/kernel:0', 'encoder/block_._7/layer_._1/DenseReluDense/wi_1/kernel:0', 'decoder/block_._2/layer_._1/EncDecAttention/o/kernel:0', 'decoder/block_._4/layer_._1/EncDecAttention/o/kernel:0', 'decoder/block_._6/layer_._0/SelfAttention/q/kernel:0', 'decoder/block_._4/layer_._0/SelfAttention/k/kernel:0', 'decoder/block_._3/layer_._1/EncDecAttention/k/kernel:0', 'encoder/block_._3/layer_._0/SelfAttention/q/kernel:0', 'decoder/block_._1/layer_._0/SelfAttention/q/kernel:0', 'decoder/block_._4/layer_._1/EncDecAttention/k/kernel:0', 'decoder/block_._4/layer_._1/EncDecAttention/v/kernel:0', 'decoder/block_._5/layer_._1/layer_norm/weight:0', 'decoder/block_._2/layer_._2/DenseReluDense/wo/kernel:0', 'decoder/block_._5/layer_._2/DenseReluDense/wi_1/kernel:0', 'decoder/block_._5/layer_._1/EncDecAttention/k/kernel:0', 'encoder/block_._7/layer_._1/DenseReluDense/wi_0/kernel:0', 'decoder/block_._4/layer_._0/SelfAttention/q/kernel:0', 'encoder/block_._7/layer_._0/SelfAttention/q/kernel:0', 'decoder/block_._5/layer_._0/layer_norm/weight:0', 'decoder/block_._6/layer_._1/EncDecAttention/q/kernel:0', 'encoder/block_._5/layer_._1/layer_norm/weight:0']\n",
            "You should probably TRAIN this model on a down-stream task to be able to use it for predictions and inference.\n"
          ]
        },
        {
          "output_type": "stream",
          "name": "stdout",
          "text": [
            "Loaded dataset with 3507 entries.\n"
          ]
        },
        {
          "output_type": "stream",
          "name": "stderr",
          "text": [
            "/tmp/ipython-input-2049439382.py:87: UserWarning: You have not specified a value for the `type` parameter. Defaulting to the 'tuples' format for chatbot messages, but this is deprecated and will be removed in a future version of Gradio. Please set type='messages' instead, which uses openai-style dictionaries with 'role' and 'content' keys.\n",
            "  chatbox = gr.Chatbot(label=\"Chat with me\", elem_classes=\"chatbot\")\n"
          ]
        },
        {
          "output_type": "stream",
          "name": "stdout",
          "text": [
            "Colab notebook detected. To show errors in colab notebook, set debug=True in launch()\n",
            "* Running on public URL: https://f0b9fac5e77714b0d0.gradio.live\n",
            "\n",
            "This share link expires in 1 week. For free permanent hosting and GPU upgrades, run `gradio deploy` from the terminal in the working directory to deploy to Hugging Face Spaces (https://huggingface.co/spaces)\n"
          ]
        },
        {
          "output_type": "display_data",
          "data": {
            "text/plain": [
              "<IPython.core.display.HTML object>"
            ],
            "text/html": [
              "<div><iframe src=\"https://f0b9fac5e77714b0d0.gradio.live\" width=\"100%\" height=\"500\" allow=\"autoplay; camera; microphone; clipboard-read; clipboard-write;\" frameborder=\"0\" allowfullscreen></iframe></div>"
            ]
          },
          "metadata": {}
        },
        {
          "output_type": "execute_result",
          "data": {
            "text/plain": []
          },
          "metadata": {},
          "execution_count": 55
        }
      ]
    },
    {
      "cell_type": "markdown",
      "source": [
        "# Zipping content files for git hub upload"
      ],
      "metadata": {
        "id": "oLvNMKNnP57x"
      }
    },
    {
      "cell_type": "code",
      "source": [
        "!zip -r content_files.zip /content"
      ],
      "metadata": {
        "colab": {
          "base_uri": "https://localhost:8080/"
        },
        "id": "NdZdZevp364C",
        "outputId": "f262a3bf-e850-4e13-9444-636588743584"
      },
      "execution_count": null,
      "outputs": [
        {
          "output_type": "stream",
          "name": "stdout",
          "text": [
            "  adding: content/ (stored 0%)\n",
            "  adding: content/.config/ (stored 0%)\n",
            "  adding: content/.config/.last_update_check.json (deflated 24%)\n",
            "  adding: content/.config/config_sentinel (stored 0%)\n",
            "  adding: content/.config/gce (stored 0%)\n",
            "  adding: content/.config/configurations/ (stored 0%)\n",
            "  adding: content/.config/configurations/config_default (deflated 15%)\n",
            "  adding: content/.config/default_configs.db (deflated 98%)\n",
            "  adding: content/.config/hidden_gcloud_config_universe_descriptor_data_cache_configs.db (deflated 97%)\n",
            "  adding: content/.config/active_config (stored 0%)\n",
            "  adding: content/.config/.last_opt_in_prompt.yaml (stored 0%)\n",
            "  adding: content/.config/.last_survey_prompt.yaml (stored 0%)\n",
            "  adding: content/.config/logs/ (stored 0%)\n",
            "  adding: content/.config/logs/2025.10.14/ (stored 0%)\n",
            "  adding: content/.config/logs/2025.10.14/13.41.03.585119.log (deflated 86%)\n",
            "  adding: content/.config/logs/2025.10.14/13.40.54.132300.log (deflated 58%)\n",
            "  adding: content/.config/logs/2025.10.14/13.41.19.120738.log (deflated 57%)\n",
            "  adding: content/.config/logs/2025.10.14/13.41.19.907632.log (deflated 56%)\n",
            "  adding: content/.config/logs/2025.10.14/13.41.09.714237.log (deflated 58%)\n",
            "  adding: content/.config/logs/2025.10.14/13.40.24.332480.log (deflated 92%)\n",
            "  adding: content/best_flan_t5_healthcare_model/ (stored 0%)\n",
            "  adding: content/best_flan_t5_healthcare_model/spiece.model (deflated 48%)\n",
            "  adding: content/best_flan_t5_healthcare_model/tf_model.h5 (deflated 7%)\n",
            "  adding: content/best_flan_t5_healthcare_model/generation_config.json (deflated 29%)\n",
            "  adding: content/best_flan_t5_healthcare_model/config.json (deflated 62%)\n",
            "  adding: content/best_flan_t5_healthcare_model/tokenizer.json (deflated 74%)\n",
            "  adding: content/best_flan_t5_healthcare_model/tokenizer_config.json (deflated 95%)\n",
            "  adding: content/best_flan_t5_healthcare_model/special_tokens_map.json (deflated 85%)\n",
            "  adding: content/dataset.csv (deflated 70%)\n",
            "  adding: content/processed_healthcare_chatbot/ (stored 0%)\n",
            "  adding: content/processed_healthcare_chatbot/cache-bdc6ce1ebc99b162.arrow (deflated 70%)\n",
            "  adding: content/processed_healthcare_chatbot/state.json (deflated 40%)\n",
            "  adding: content/processed_healthcare_chatbot/cache-3d5b8364725369a7.arrow (deflated 64%)\n",
            "  adding: content/processed_healthcare_chatbot/data-00000-of-00001.arrow (deflated 85%)\n",
            "  adding: content/processed_healthcare_chatbot/dataset_info.json (deflated 69%)\n",
            "  adding: content/experiment_models/ (stored 0%)\n",
            "  adding: content/experiment_models/run_1_bs2_lr5e-05_ep2/ (stored 0%)\n",
            "  adding: content/experiment_models/run_1_bs2_lr5e-05_ep2/spiece.model (deflated 48%)\n",
            "  adding: content/experiment_models/run_1_bs2_lr5e-05_ep2/tf_model.h5 (deflated 7%)\n",
            "  adding: content/experiment_models/run_1_bs2_lr5e-05_ep2/generation_config.json (deflated 29%)\n",
            "  adding: content/experiment_models/run_1_bs2_lr5e-05_ep2/config.json (deflated 62%)\n",
            "  adding: content/experiment_models/run_1_bs2_lr5e-05_ep2/tokenizer.json (deflated 74%)\n",
            "  adding: content/experiment_models/run_1_bs2_lr5e-05_ep2/tokenizer_config.json (deflated 95%)\n",
            "  adding: content/experiment_models/run_1_bs2_lr5e-05_ep2/special_tokens_map.json (deflated 85%)\n",
            "  adding: content/flan_t5_healthcare_cpu/ (stored 0%)\n",
            "  adding: content/flan_t5_healthcare_cpu/spiece.model (deflated 48%)\n",
            "  adding: content/flan_t5_healthcare_cpu/tf_model.h5 (deflated 7%)\n",
            "  adding: content/flan_t5_healthcare_cpu/generation_config.json (deflated 29%)\n",
            "  adding: content/flan_t5_healthcare_cpu/config.json (deflated 62%)\n",
            "  adding: content/flan_t5_healthcare_cpu/tokenizer.json (deflated 74%)\n",
            "  adding: content/flan_t5_healthcare_cpu/tokenizer_config.json (deflated 94%)\n",
            "  adding: content/flan_t5_healthcare_cpu/special_tokens_map.json (deflated 85%)\n",
            "  adding: content/wandb/ (stored 0%)\n",
            "  adding: content/wandb/run-20251016_100710-2l28aksd/ (stored 0%)\n",
            "  adding: content/wandb/run-20251016_100710-2l28aksd/files/ (stored 0%)\n",
            "  adding: content/wandb/run-20251016_100710-2l28aksd/files/wandb-metadata.json (deflated 40%)\n",
            "  adding: content/wandb/run-20251016_100710-2l28aksd/files/requirements.txt (deflated 56%)\n",
            "  adding: content/wandb/run-20251016_100710-2l28aksd/files/config.yaml (deflated 68%)\n",
            "  adding: content/wandb/run-20251016_100710-2l28aksd/files/media/ (stored 0%)\n",
            "  adding: content/wandb/run-20251016_100710-2l28aksd/files/media/graph/ (stored 0%)\n",
            "  adding: content/wandb/run-20251016_100710-2l28aksd/files/media/graph/graph_summary_e0cff0f26a8125d56811.graph.json (deflated 64%)\n",
            "  adding: content/wandb/run-20251016_100710-2l28aksd/files/wandb-summary.json (deflated 39%)\n",
            "  adding: content/wandb/run-20251016_100710-2l28aksd/files/output.log (deflated 52%)\n",
            "  adding: content/wandb/run-20251016_100710-2l28aksd/tmp/ (stored 0%)\n",
            "  adding: content/wandb/run-20251016_100710-2l28aksd/tmp/code/ (stored 0%)\n",
            "  adding: content/wandb/run-20251016_100710-2l28aksd/logs/ (stored 0%)\n",
            "  adding: content/wandb/run-20251016_100710-2l28aksd/logs/debug.log (deflated 69%)\n",
            "  adding: content/wandb/run-20251016_100710-2l28aksd/logs/debug-internal.log (deflated 72%)\n",
            "  adding: content/wandb/run-20251016_100710-2l28aksd/logs/debug-core.log (deflated 81%)\n",
            "  adding: content/wandb/run-20251016_100710-2l28aksd/run-2l28aksd.wandb (deflated 86%)\n",
            "  adding: content/wandb/debug.log (deflated 70%)\n",
            "  adding: content/wandb/run-20251016_082803-xix9bz7s/ (stored 0%)\n",
            "  adding: content/wandb/run-20251016_082803-xix9bz7s/files/ (stored 0%)\n",
            "  adding: content/wandb/run-20251016_082803-xix9bz7s/files/wandb-metadata.json (deflated 41%)\n",
            "  adding: content/wandb/run-20251016_082803-xix9bz7s/files/requirements.txt (deflated 56%)\n",
            "  adding: content/wandb/run-20251016_082803-xix9bz7s/files/config.yaml (deflated 68%)\n",
            "  adding: content/wandb/run-20251016_082803-xix9bz7s/files/media/ (stored 0%)\n",
            "  adding: content/wandb/run-20251016_082803-xix9bz7s/files/media/graph/ (stored 0%)\n",
            "  adding: content/wandb/run-20251016_082803-xix9bz7s/files/media/graph/graph_summary_e0cff0f26a8125d56811.graph.json (deflated 64%)\n",
            "  adding: content/wandb/run-20251016_082803-xix9bz7s/files/wandb-summary.json (deflated 40%)\n",
            "  adding: content/wandb/run-20251016_082803-xix9bz7s/files/output.log (deflated 64%)\n",
            "  adding: content/wandb/run-20251016_082803-xix9bz7s/tmp/ (stored 0%)\n",
            "  adding: content/wandb/run-20251016_082803-xix9bz7s/tmp/code/ (stored 0%)\n",
            "  adding: content/wandb/run-20251016_082803-xix9bz7s/logs/ (stored 0%)\n",
            "  adding: content/wandb/run-20251016_082803-xix9bz7s/logs/debug.log (deflated 73%)\n",
            "  adding: content/wandb/run-20251016_082803-xix9bz7s/logs/debug-internal.log (deflated 72%)\n",
            "  adding: content/wandb/run-20251016_082803-xix9bz7s/logs/debug-core.log (deflated 81%)\n",
            "  adding: content/wandb/run-20251016_082803-xix9bz7s/run-xix9bz7s.wandb (deflated 86%)\n",
            "  adding: content/wandb/run-20251016_083631-xn4kkdsa/ (stored 0%)\n",
            "  adding: content/wandb/run-20251016_083631-xn4kkdsa/run-xn4kkdsa.wandb (deflated 87%)\n",
            "  adding: content/wandb/run-20251016_083631-xn4kkdsa/files/ (stored 0%)\n",
            "  adding: content/wandb/run-20251016_083631-xn4kkdsa/files/wandb-metadata.json (deflated 40%)\n",
            "  adding: content/wandb/run-20251016_083631-xn4kkdsa/files/requirements.txt (deflated 56%)\n",
            "  adding: content/wandb/run-20251016_083631-xn4kkdsa/files/config.yaml (deflated 68%)\n",
            "  adding: content/wandb/run-20251016_083631-xn4kkdsa/files/media/ (stored 0%)\n",
            "  adding: content/wandb/run-20251016_083631-xn4kkdsa/files/media/graph/ (stored 0%)\n",
            "  adding: content/wandb/run-20251016_083631-xn4kkdsa/files/media/graph/graph_summary_e0cff0f26a8125d56811.graph.json (deflated 64%)\n",
            "  adding: content/wandb/run-20251016_083631-xn4kkdsa/files/wandb-summary.json (deflated 36%)\n",
            "  adding: content/wandb/run-20251016_083631-xn4kkdsa/files/output.log (deflated 62%)\n",
            "  adding: content/wandb/run-20251016_083631-xn4kkdsa/tmp/ (stored 0%)\n",
            "  adding: content/wandb/run-20251016_083631-xn4kkdsa/tmp/code/ (stored 0%)\n",
            "  adding: content/wandb/run-20251016_083631-xn4kkdsa/logs/ (stored 0%)\n",
            "  adding: content/wandb/run-20251016_083631-xn4kkdsa/logs/debug.log (deflated 71%)\n",
            "  adding: content/wandb/run-20251016_083631-xn4kkdsa/logs/debug-internal.log (deflated 72%)\n",
            "  adding: content/wandb/run-20251016_083631-xn4kkdsa/logs/debug-core.log (deflated 81%)\n",
            "  adding: content/wandb/run-20251016_101437-w1w9ggn9/ (stored 0%)\n",
            "  adding: content/wandb/run-20251016_101437-w1w9ggn9/files/ (stored 0%)\n",
            "  adding: content/wandb/run-20251016_101437-w1w9ggn9/files/wandb-metadata.json (deflated 41%)\n",
            "  adding: content/wandb/run-20251016_101437-w1w9ggn9/files/requirements.txt (deflated 56%)\n",
            "  adding: content/wandb/run-20251016_101437-w1w9ggn9/files/config.yaml (deflated 68%)\n",
            "  adding: content/wandb/run-20251016_101437-w1w9ggn9/files/media/ (stored 0%)\n",
            "  adding: content/wandb/run-20251016_101437-w1w9ggn9/files/media/graph/ (stored 0%)\n",
            "  adding: content/wandb/run-20251016_101437-w1w9ggn9/files/media/graph/graph_summary_e0cff0f26a8125d56811.graph.json (deflated 64%)\n",
            "  adding: content/wandb/run-20251016_101437-w1w9ggn9/files/wandb-summary.json (deflated 39%)\n",
            "  adding: content/wandb/run-20251016_101437-w1w9ggn9/files/output.log (deflated 53%)\n",
            "  adding: content/wandb/run-20251016_101437-w1w9ggn9/tmp/ (stored 0%)\n",
            "  adding: content/wandb/run-20251016_101437-w1w9ggn9/tmp/code/ (stored 0%)\n",
            "  adding: content/wandb/run-20251016_101437-w1w9ggn9/run-w1w9ggn9.wandb (deflated 85%)\n",
            "  adding: content/wandb/run-20251016_101437-w1w9ggn9/logs/ (stored 0%)\n",
            "  adding: content/wandb/run-20251016_101437-w1w9ggn9/logs/debug.log (deflated 70%)\n",
            "  adding: content/wandb/run-20251016_101437-w1w9ggn9/logs/debug-internal.log (deflated 72%)\n",
            "  adding: content/wandb/run-20251016_101437-w1w9ggn9/logs/debug-core.log (deflated 81%)\n",
            "  adding: content/wandb/latest-run/ (stored 0%)\n",
            "  adding: content/wandb/latest-run/run-ztdc8ddq.wandb (deflated 86%)\n",
            "  adding: content/wandb/latest-run/files/ (stored 0%)\n",
            "  adding: content/wandb/latest-run/files/wandb-metadata.json (deflated 41%)\n",
            "  adding: content/wandb/latest-run/files/requirements.txt (deflated 56%)\n",
            "  adding: content/wandb/latest-run/files/config.yaml (deflated 68%)\n",
            "  adding: content/wandb/latest-run/files/media/ (stored 0%)\n",
            "  adding: content/wandb/latest-run/files/media/graph/ (stored 0%)\n",
            "  adding: content/wandb/latest-run/files/media/graph/graph_summary_e0cff0f26a8125d56811.graph.json (deflated 64%)\n",
            "  adding: content/wandb/latest-run/files/wandb-summary.json (deflated 39%)\n",
            "  adding: content/wandb/latest-run/files/output.log (deflated 64%)\n",
            "  adding: content/wandb/latest-run/tmp/ (stored 0%)\n",
            "  adding: content/wandb/latest-run/tmp/code/ (stored 0%)\n",
            "  adding: content/wandb/latest-run/logs/ (stored 0%)\n",
            "  adding: content/wandb/latest-run/logs/debug.log (deflated 70%)\n",
            "  adding: content/wandb/latest-run/logs/debug-internal.log (deflated 72%)\n",
            "  adding: content/wandb/latest-run/logs/debug-core.log (deflated 81%)\n",
            "  adding: content/wandb/debug-internal.log (deflated 72%)\n",
            "  adding: content/wandb/run-20251016_093000-zuatmdsd/ (stored 0%)\n",
            "  adding: content/wandb/run-20251016_093000-zuatmdsd/files/ (stored 0%)\n",
            "  adding: content/wandb/run-20251016_093000-zuatmdsd/files/wandb-metadata.json (deflated 41%)\n",
            "  adding: content/wandb/run-20251016_093000-zuatmdsd/files/requirements.txt (deflated 56%)\n",
            "  adding: content/wandb/run-20251016_093000-zuatmdsd/files/config.yaml (deflated 68%)\n",
            "  adding: content/wandb/run-20251016_093000-zuatmdsd/files/media/ (stored 0%)\n",
            "  adding: content/wandb/run-20251016_093000-zuatmdsd/files/media/graph/ (stored 0%)\n",
            "  adding: content/wandb/run-20251016_093000-zuatmdsd/files/media/graph/graph_summary_e0cff0f26a8125d56811.graph.json (deflated 64%)\n",
            "  adding: content/wandb/run-20251016_093000-zuatmdsd/files/wandb-summary.json (deflated 40%)\n",
            "  adding: content/wandb/run-20251016_093000-zuatmdsd/files/output.log (deflated 70%)\n",
            "  adding: content/wandb/run-20251016_093000-zuatmdsd/run-zuatmdsd.wandb (deflated 86%)\n",
            "  adding: content/wandb/run-20251016_093000-zuatmdsd/tmp/ (stored 0%)\n",
            "  adding: content/wandb/run-20251016_093000-zuatmdsd/tmp/code/ (stored 0%)\n",
            "  adding: content/wandb/run-20251016_093000-zuatmdsd/logs/ (stored 0%)\n",
            "  adding: content/wandb/run-20251016_093000-zuatmdsd/logs/debug.log (deflated 70%)\n",
            "  adding: content/wandb/run-20251016_093000-zuatmdsd/logs/debug-internal.log (deflated 72%)\n",
            "  adding: content/wandb/run-20251016_093000-zuatmdsd/logs/debug-core.log (deflated 81%)\n",
            "  adding: content/wandb/run-20251016_101947-ztdc8ddq/ (stored 0%)\n",
            "  adding: content/wandb/run-20251016_101947-ztdc8ddq/run-ztdc8ddq.wandb (deflated 86%)\n",
            "  adding: content/wandb/run-20251016_101947-ztdc8ddq/files/ (stored 0%)\n",
            "  adding: content/wandb/run-20251016_101947-ztdc8ddq/files/wandb-metadata.json (deflated 41%)\n",
            "  adding: content/wandb/run-20251016_101947-ztdc8ddq/files/requirements.txt (deflated 56%)\n",
            "  adding: content/wandb/run-20251016_101947-ztdc8ddq/files/config.yaml (deflated 68%)\n",
            "  adding: content/wandb/run-20251016_101947-ztdc8ddq/files/media/ (stored 0%)\n",
            "  adding: content/wandb/run-20251016_101947-ztdc8ddq/files/media/graph/ (stored 0%)\n",
            "  adding: content/wandb/run-20251016_101947-ztdc8ddq/files/media/graph/graph_summary_e0cff0f26a8125d56811.graph.json (deflated 64%)\n",
            "  adding: content/wandb/run-20251016_101947-ztdc8ddq/files/wandb-summary.json (deflated 39%)\n",
            "  adding: content/wandb/run-20251016_101947-ztdc8ddq/files/output.log (deflated 64%)\n",
            "  adding: content/wandb/run-20251016_101947-ztdc8ddq/tmp/ (stored 0%)\n",
            "  adding: content/wandb/run-20251016_101947-ztdc8ddq/tmp/code/ (stored 0%)\n",
            "  adding: content/wandb/run-20251016_101947-ztdc8ddq/logs/ (stored 0%)\n",
            "  adding: content/wandb/run-20251016_101947-ztdc8ddq/logs/debug.log (deflated 70%)\n",
            "  adding: content/wandb/run-20251016_101947-ztdc8ddq/logs/debug-internal.log (deflated 72%)\n",
            "  adding: content/wandb/run-20251016_101947-ztdc8ddq/logs/debug-core.log (deflated 81%)\n",
            "  adding: content/sample_data/ (stored 0%)\n",
            "  adding: content/sample_data/README.md (deflated 39%)\n",
            "  adding: content/sample_data/anscombe.json (deflated 83%)\n",
            "  adding: content/sample_data/mnist_train_small.csv (deflated 88%)\n",
            "  adding: content/sample_data/mnist_test.csv (deflated 88%)\n",
            "  adding: content/sample_data/california_housing_test.csv (deflated 76%)\n",
            "  adding: content/sample_data/california_housing_train.csv (deflated 79%)\n"
          ]
        }
      ]
    },
    {
      "cell_type": "code",
      "source": [
        "from google.colab import files\n",
        "files.download(\"content_files.zip\")"
      ],
      "metadata": {
        "colab": {
          "base_uri": "https://localhost:8080/",
          "height": 17
        },
        "id": "2tooUhBB5GHU",
        "outputId": "a52c851c-528f-44d2-ecc5-5c3a4b209737"
      },
      "execution_count": null,
      "outputs": [
        {
          "output_type": "display_data",
          "data": {
            "text/plain": [
              "<IPython.core.display.Javascript object>"
            ],
            "application/javascript": [
              "\n",
              "    async function download(id, filename, size) {\n",
              "      if (!google.colab.kernel.accessAllowed) {\n",
              "        return;\n",
              "      }\n",
              "      const div = document.createElement('div');\n",
              "      const label = document.createElement('label');\n",
              "      label.textContent = `Downloading \"${filename}\": `;\n",
              "      div.appendChild(label);\n",
              "      const progress = document.createElement('progress');\n",
              "      progress.max = size;\n",
              "      div.appendChild(progress);\n",
              "      document.body.appendChild(div);\n",
              "\n",
              "      const buffers = [];\n",
              "      let downloaded = 0;\n",
              "\n",
              "      const channel = await google.colab.kernel.comms.open(id);\n",
              "      // Send a message to notify the kernel that we're ready.\n",
              "      channel.send({})\n",
              "\n",
              "      for await (const message of channel.messages) {\n",
              "        // Send a message to notify the kernel that we're ready.\n",
              "        channel.send({})\n",
              "        if (message.buffers) {\n",
              "          for (const buffer of message.buffers) {\n",
              "            buffers.push(buffer);\n",
              "            downloaded += buffer.byteLength;\n",
              "            progress.value = downloaded;\n",
              "          }\n",
              "        }\n",
              "      }\n",
              "      const blob = new Blob(buffers, {type: 'application/binary'});\n",
              "      const a = document.createElement('a');\n",
              "      a.href = window.URL.createObjectURL(blob);\n",
              "      a.download = filename;\n",
              "      div.appendChild(a);\n",
              "      a.click();\n",
              "      div.remove();\n",
              "    }\n",
              "  "
            ]
          },
          "metadata": {}
        },
        {
          "output_type": "display_data",
          "data": {
            "text/plain": [
              "<IPython.core.display.Javascript object>"
            ],
            "application/javascript": [
              "download(\"download_63890e1c-9c84-4cf7-b34e-9e2372201ab8\", \"content_files.zip\", 1235116529)"
            ]
          },
          "metadata": {}
        }
      ]
    }
  ],
  "metadata": {
    "colab": {
      "provenance": [],
      "gpuType": "T4",
      "include_colab_link": true
    },
    "kernelspec": {
      "display_name": "Python 3",
      "name": "python3"
    },
    "language_info": {
      "name": "python"
    },
    "widgets": {
      "application/vnd.jupyter.widget-state+json": {
        "50a2b013183b4d629006f7863ba86eb0": {
          "model_module": "@jupyter-widgets/controls",
          "model_name": "HBoxModel",
          "model_module_version": "1.5.0",
          "state": {
            "_dom_classes": [],
            "_model_module": "@jupyter-widgets/controls",
            "_model_module_version": "1.5.0",
            "_model_name": "HBoxModel",
            "_view_count": null,
            "_view_module": "@jupyter-widgets/controls",
            "_view_module_version": "1.5.0",
            "_view_name": "HBoxView",
            "box_style": "",
            "children": [
              "IPY_MODEL_d132f2c472904d81b6670ca32f83a34d",
              "IPY_MODEL_3ed6aa07412a4c15a1adc1837240b8d5",
              "IPY_MODEL_41e771ebe1e94267894eb01d1df7e38d"
            ],
            "layout": "IPY_MODEL_dbdd2572e4bf4fe58b2c448c1726714f"
          }
        },
        "d132f2c472904d81b6670ca32f83a34d": {
          "model_module": "@jupyter-widgets/controls",
          "model_name": "HTMLModel",
          "model_module_version": "1.5.0",
          "state": {
            "_dom_classes": [],
            "_model_module": "@jupyter-widgets/controls",
            "_model_module_version": "1.5.0",
            "_model_name": "HTMLModel",
            "_view_count": null,
            "_view_module": "@jupyter-widgets/controls",
            "_view_module_version": "1.5.0",
            "_view_name": "HTMLView",
            "description": "",
            "description_tooltip": null,
            "layout": "IPY_MODEL_ccdf5e72fc4a46bbbd0e614a1bf7fe83",
            "placeholder": "​",
            "style": "IPY_MODEL_46b31a2e8c0a4fa990b141104453c25b",
            "value": "tokenizer_config.json: "
          }
        },
        "3ed6aa07412a4c15a1adc1837240b8d5": {
          "model_module": "@jupyter-widgets/controls",
          "model_name": "FloatProgressModel",
          "model_module_version": "1.5.0",
          "state": {
            "_dom_classes": [],
            "_model_module": "@jupyter-widgets/controls",
            "_model_module_version": "1.5.0",
            "_model_name": "FloatProgressModel",
            "_view_count": null,
            "_view_module": "@jupyter-widgets/controls",
            "_view_module_version": "1.5.0",
            "_view_name": "ProgressView",
            "bar_style": "success",
            "description": "",
            "description_tooltip": null,
            "layout": "IPY_MODEL_2cb4798a5e844899ae70a8ee46850335",
            "max": 1,
            "min": 0,
            "orientation": "horizontal",
            "style": "IPY_MODEL_f70e6a9649e24e5a8d8bac400bdeb873",
            "value": 1
          }
        },
        "41e771ebe1e94267894eb01d1df7e38d": {
          "model_module": "@jupyter-widgets/controls",
          "model_name": "HTMLModel",
          "model_module_version": "1.5.0",
          "state": {
            "_dom_classes": [],
            "_model_module": "@jupyter-widgets/controls",
            "_model_module_version": "1.5.0",
            "_model_name": "HTMLModel",
            "_view_count": null,
            "_view_module": "@jupyter-widgets/controls",
            "_view_module_version": "1.5.0",
            "_view_name": "HTMLView",
            "description": "",
            "description_tooltip": null,
            "layout": "IPY_MODEL_d87fe8016bc8441db3d66af2cef78ed8",
            "placeholder": "​",
            "style": "IPY_MODEL_fdf52537bfc7455fb84404858d07d364",
            "value": " 2.54k/? [00:00&lt;00:00, 269kB/s]"
          }
        },
        "dbdd2572e4bf4fe58b2c448c1726714f": {
          "model_module": "@jupyter-widgets/base",
          "model_name": "LayoutModel",
          "model_module_version": "1.2.0",
          "state": {
            "_model_module": "@jupyter-widgets/base",
            "_model_module_version": "1.2.0",
            "_model_name": "LayoutModel",
            "_view_count": null,
            "_view_module": "@jupyter-widgets/base",
            "_view_module_version": "1.2.0",
            "_view_name": "LayoutView",
            "align_content": null,
            "align_items": null,
            "align_self": null,
            "border": null,
            "bottom": null,
            "display": null,
            "flex": null,
            "flex_flow": null,
            "grid_area": null,
            "grid_auto_columns": null,
            "grid_auto_flow": null,
            "grid_auto_rows": null,
            "grid_column": null,
            "grid_gap": null,
            "grid_row": null,
            "grid_template_areas": null,
            "grid_template_columns": null,
            "grid_template_rows": null,
            "height": null,
            "justify_content": null,
            "justify_items": null,
            "left": null,
            "margin": null,
            "max_height": null,
            "max_width": null,
            "min_height": null,
            "min_width": null,
            "object_fit": null,
            "object_position": null,
            "order": null,
            "overflow": null,
            "overflow_x": null,
            "overflow_y": null,
            "padding": null,
            "right": null,
            "top": null,
            "visibility": null,
            "width": null
          }
        },
        "ccdf5e72fc4a46bbbd0e614a1bf7fe83": {
          "model_module": "@jupyter-widgets/base",
          "model_name": "LayoutModel",
          "model_module_version": "1.2.0",
          "state": {
            "_model_module": "@jupyter-widgets/base",
            "_model_module_version": "1.2.0",
            "_model_name": "LayoutModel",
            "_view_count": null,
            "_view_module": "@jupyter-widgets/base",
            "_view_module_version": "1.2.0",
            "_view_name": "LayoutView",
            "align_content": null,
            "align_items": null,
            "align_self": null,
            "border": null,
            "bottom": null,
            "display": null,
            "flex": null,
            "flex_flow": null,
            "grid_area": null,
            "grid_auto_columns": null,
            "grid_auto_flow": null,
            "grid_auto_rows": null,
            "grid_column": null,
            "grid_gap": null,
            "grid_row": null,
            "grid_template_areas": null,
            "grid_template_columns": null,
            "grid_template_rows": null,
            "height": null,
            "justify_content": null,
            "justify_items": null,
            "left": null,
            "margin": null,
            "max_height": null,
            "max_width": null,
            "min_height": null,
            "min_width": null,
            "object_fit": null,
            "object_position": null,
            "order": null,
            "overflow": null,
            "overflow_x": null,
            "overflow_y": null,
            "padding": null,
            "right": null,
            "top": null,
            "visibility": null,
            "width": null
          }
        },
        "46b31a2e8c0a4fa990b141104453c25b": {
          "model_module": "@jupyter-widgets/controls",
          "model_name": "DescriptionStyleModel",
          "model_module_version": "1.5.0",
          "state": {
            "_model_module": "@jupyter-widgets/controls",
            "_model_module_version": "1.5.0",
            "_model_name": "DescriptionStyleModel",
            "_view_count": null,
            "_view_module": "@jupyter-widgets/base",
            "_view_module_version": "1.2.0",
            "_view_name": "StyleView",
            "description_width": ""
          }
        },
        "2cb4798a5e844899ae70a8ee46850335": {
          "model_module": "@jupyter-widgets/base",
          "model_name": "LayoutModel",
          "model_module_version": "1.2.0",
          "state": {
            "_model_module": "@jupyter-widgets/base",
            "_model_module_version": "1.2.0",
            "_model_name": "LayoutModel",
            "_view_count": null,
            "_view_module": "@jupyter-widgets/base",
            "_view_module_version": "1.2.0",
            "_view_name": "LayoutView",
            "align_content": null,
            "align_items": null,
            "align_self": null,
            "border": null,
            "bottom": null,
            "display": null,
            "flex": null,
            "flex_flow": null,
            "grid_area": null,
            "grid_auto_columns": null,
            "grid_auto_flow": null,
            "grid_auto_rows": null,
            "grid_column": null,
            "grid_gap": null,
            "grid_row": null,
            "grid_template_areas": null,
            "grid_template_columns": null,
            "grid_template_rows": null,
            "height": null,
            "justify_content": null,
            "justify_items": null,
            "left": null,
            "margin": null,
            "max_height": null,
            "max_width": null,
            "min_height": null,
            "min_width": null,
            "object_fit": null,
            "object_position": null,
            "order": null,
            "overflow": null,
            "overflow_x": null,
            "overflow_y": null,
            "padding": null,
            "right": null,
            "top": null,
            "visibility": null,
            "width": "20px"
          }
        },
        "f70e6a9649e24e5a8d8bac400bdeb873": {
          "model_module": "@jupyter-widgets/controls",
          "model_name": "ProgressStyleModel",
          "model_module_version": "1.5.0",
          "state": {
            "_model_module": "@jupyter-widgets/controls",
            "_model_module_version": "1.5.0",
            "_model_name": "ProgressStyleModel",
            "_view_count": null,
            "_view_module": "@jupyter-widgets/base",
            "_view_module_version": "1.2.0",
            "_view_name": "StyleView",
            "bar_color": null,
            "description_width": ""
          }
        },
        "d87fe8016bc8441db3d66af2cef78ed8": {
          "model_module": "@jupyter-widgets/base",
          "model_name": "LayoutModel",
          "model_module_version": "1.2.0",
          "state": {
            "_model_module": "@jupyter-widgets/base",
            "_model_module_version": "1.2.0",
            "_model_name": "LayoutModel",
            "_view_count": null,
            "_view_module": "@jupyter-widgets/base",
            "_view_module_version": "1.2.0",
            "_view_name": "LayoutView",
            "align_content": null,
            "align_items": null,
            "align_self": null,
            "border": null,
            "bottom": null,
            "display": null,
            "flex": null,
            "flex_flow": null,
            "grid_area": null,
            "grid_auto_columns": null,
            "grid_auto_flow": null,
            "grid_auto_rows": null,
            "grid_column": null,
            "grid_gap": null,
            "grid_row": null,
            "grid_template_areas": null,
            "grid_template_columns": null,
            "grid_template_rows": null,
            "height": null,
            "justify_content": null,
            "justify_items": null,
            "left": null,
            "margin": null,
            "max_height": null,
            "max_width": null,
            "min_height": null,
            "min_width": null,
            "object_fit": null,
            "object_position": null,
            "order": null,
            "overflow": null,
            "overflow_x": null,
            "overflow_y": null,
            "padding": null,
            "right": null,
            "top": null,
            "visibility": null,
            "width": null
          }
        },
        "fdf52537bfc7455fb84404858d07d364": {
          "model_module": "@jupyter-widgets/controls",
          "model_name": "DescriptionStyleModel",
          "model_module_version": "1.5.0",
          "state": {
            "_model_module": "@jupyter-widgets/controls",
            "_model_module_version": "1.5.0",
            "_model_name": "DescriptionStyleModel",
            "_view_count": null,
            "_view_module": "@jupyter-widgets/base",
            "_view_module_version": "1.2.0",
            "_view_name": "StyleView",
            "description_width": ""
          }
        },
        "840a329720c24074b0b312752d816b74": {
          "model_module": "@jupyter-widgets/controls",
          "model_name": "HBoxModel",
          "model_module_version": "1.5.0",
          "state": {
            "_dom_classes": [],
            "_model_module": "@jupyter-widgets/controls",
            "_model_module_version": "1.5.0",
            "_model_name": "HBoxModel",
            "_view_count": null,
            "_view_module": "@jupyter-widgets/controls",
            "_view_module_version": "1.5.0",
            "_view_name": "HBoxView",
            "box_style": "",
            "children": [
              "IPY_MODEL_1da46c12b72e41379919bb9c52412362",
              "IPY_MODEL_334d3366929f4003b92c9ab087c95bd8",
              "IPY_MODEL_7756babf75a9485e84d5ed6cea30ca83"
            ],
            "layout": "IPY_MODEL_42f0c114e3e444cfb6ce8579f60b7c66"
          }
        },
        "1da46c12b72e41379919bb9c52412362": {
          "model_module": "@jupyter-widgets/controls",
          "model_name": "HTMLModel",
          "model_module_version": "1.5.0",
          "state": {
            "_dom_classes": [],
            "_model_module": "@jupyter-widgets/controls",
            "_model_module_version": "1.5.0",
            "_model_name": "HTMLModel",
            "_view_count": null,
            "_view_module": "@jupyter-widgets/controls",
            "_view_module_version": "1.5.0",
            "_view_name": "HTMLView",
            "description": "",
            "description_tooltip": null,
            "layout": "IPY_MODEL_fa07cb211d274ceabe3d0f4e61cfa9bb",
            "placeholder": "​",
            "style": "IPY_MODEL_8e195abb95624f039b644474cab71746",
            "value": "spiece.model: 100%"
          }
        },
        "334d3366929f4003b92c9ab087c95bd8": {
          "model_module": "@jupyter-widgets/controls",
          "model_name": "FloatProgressModel",
          "model_module_version": "1.5.0",
          "state": {
            "_dom_classes": [],
            "_model_module": "@jupyter-widgets/controls",
            "_model_module_version": "1.5.0",
            "_model_name": "FloatProgressModel",
            "_view_count": null,
            "_view_module": "@jupyter-widgets/controls",
            "_view_module_version": "1.5.0",
            "_view_name": "ProgressView",
            "bar_style": "success",
            "description": "",
            "description_tooltip": null,
            "layout": "IPY_MODEL_ebaa19afcfef47708d877e0172756647",
            "max": 791656,
            "min": 0,
            "orientation": "horizontal",
            "style": "IPY_MODEL_7a995e2c61914ac5bf0ba045385870f8",
            "value": 791656
          }
        },
        "7756babf75a9485e84d5ed6cea30ca83": {
          "model_module": "@jupyter-widgets/controls",
          "model_name": "HTMLModel",
          "model_module_version": "1.5.0",
          "state": {
            "_dom_classes": [],
            "_model_module": "@jupyter-widgets/controls",
            "_model_module_version": "1.5.0",
            "_model_name": "HTMLModel",
            "_view_count": null,
            "_view_module": "@jupyter-widgets/controls",
            "_view_module_version": "1.5.0",
            "_view_name": "HTMLView",
            "description": "",
            "description_tooltip": null,
            "layout": "IPY_MODEL_641b2320dbba4163a503979f8410f5f3",
            "placeholder": "​",
            "style": "IPY_MODEL_df3d8c3712b24d3790d19b0089dd7e29",
            "value": " 792k/792k [00:00&lt;00:00, 221kB/s]"
          }
        },
        "42f0c114e3e444cfb6ce8579f60b7c66": {
          "model_module": "@jupyter-widgets/base",
          "model_name": "LayoutModel",
          "model_module_version": "1.2.0",
          "state": {
            "_model_module": "@jupyter-widgets/base",
            "_model_module_version": "1.2.0",
            "_model_name": "LayoutModel",
            "_view_count": null,
            "_view_module": "@jupyter-widgets/base",
            "_view_module_version": "1.2.0",
            "_view_name": "LayoutView",
            "align_content": null,
            "align_items": null,
            "align_self": null,
            "border": null,
            "bottom": null,
            "display": null,
            "flex": null,
            "flex_flow": null,
            "grid_area": null,
            "grid_auto_columns": null,
            "grid_auto_flow": null,
            "grid_auto_rows": null,
            "grid_column": null,
            "grid_gap": null,
            "grid_row": null,
            "grid_template_areas": null,
            "grid_template_columns": null,
            "grid_template_rows": null,
            "height": null,
            "justify_content": null,
            "justify_items": null,
            "left": null,
            "margin": null,
            "max_height": null,
            "max_width": null,
            "min_height": null,
            "min_width": null,
            "object_fit": null,
            "object_position": null,
            "order": null,
            "overflow": null,
            "overflow_x": null,
            "overflow_y": null,
            "padding": null,
            "right": null,
            "top": null,
            "visibility": null,
            "width": null
          }
        },
        "fa07cb211d274ceabe3d0f4e61cfa9bb": {
          "model_module": "@jupyter-widgets/base",
          "model_name": "LayoutModel",
          "model_module_version": "1.2.0",
          "state": {
            "_model_module": "@jupyter-widgets/base",
            "_model_module_version": "1.2.0",
            "_model_name": "LayoutModel",
            "_view_count": null,
            "_view_module": "@jupyter-widgets/base",
            "_view_module_version": "1.2.0",
            "_view_name": "LayoutView",
            "align_content": null,
            "align_items": null,
            "align_self": null,
            "border": null,
            "bottom": null,
            "display": null,
            "flex": null,
            "flex_flow": null,
            "grid_area": null,
            "grid_auto_columns": null,
            "grid_auto_flow": null,
            "grid_auto_rows": null,
            "grid_column": null,
            "grid_gap": null,
            "grid_row": null,
            "grid_template_areas": null,
            "grid_template_columns": null,
            "grid_template_rows": null,
            "height": null,
            "justify_content": null,
            "justify_items": null,
            "left": null,
            "margin": null,
            "max_height": null,
            "max_width": null,
            "min_height": null,
            "min_width": null,
            "object_fit": null,
            "object_position": null,
            "order": null,
            "overflow": null,
            "overflow_x": null,
            "overflow_y": null,
            "padding": null,
            "right": null,
            "top": null,
            "visibility": null,
            "width": null
          }
        },
        "8e195abb95624f039b644474cab71746": {
          "model_module": "@jupyter-widgets/controls",
          "model_name": "DescriptionStyleModel",
          "model_module_version": "1.5.0",
          "state": {
            "_model_module": "@jupyter-widgets/controls",
            "_model_module_version": "1.5.0",
            "_model_name": "DescriptionStyleModel",
            "_view_count": null,
            "_view_module": "@jupyter-widgets/base",
            "_view_module_version": "1.2.0",
            "_view_name": "StyleView",
            "description_width": ""
          }
        },
        "ebaa19afcfef47708d877e0172756647": {
          "model_module": "@jupyter-widgets/base",
          "model_name": "LayoutModel",
          "model_module_version": "1.2.0",
          "state": {
            "_model_module": "@jupyter-widgets/base",
            "_model_module_version": "1.2.0",
            "_model_name": "LayoutModel",
            "_view_count": null,
            "_view_module": "@jupyter-widgets/base",
            "_view_module_version": "1.2.0",
            "_view_name": "LayoutView",
            "align_content": null,
            "align_items": null,
            "align_self": null,
            "border": null,
            "bottom": null,
            "display": null,
            "flex": null,
            "flex_flow": null,
            "grid_area": null,
            "grid_auto_columns": null,
            "grid_auto_flow": null,
            "grid_auto_rows": null,
            "grid_column": null,
            "grid_gap": null,
            "grid_row": null,
            "grid_template_areas": null,
            "grid_template_columns": null,
            "grid_template_rows": null,
            "height": null,
            "justify_content": null,
            "justify_items": null,
            "left": null,
            "margin": null,
            "max_height": null,
            "max_width": null,
            "min_height": null,
            "min_width": null,
            "object_fit": null,
            "object_position": null,
            "order": null,
            "overflow": null,
            "overflow_x": null,
            "overflow_y": null,
            "padding": null,
            "right": null,
            "top": null,
            "visibility": null,
            "width": null
          }
        },
        "7a995e2c61914ac5bf0ba045385870f8": {
          "model_module": "@jupyter-widgets/controls",
          "model_name": "ProgressStyleModel",
          "model_module_version": "1.5.0",
          "state": {
            "_model_module": "@jupyter-widgets/controls",
            "_model_module_version": "1.5.0",
            "_model_name": "ProgressStyleModel",
            "_view_count": null,
            "_view_module": "@jupyter-widgets/base",
            "_view_module_version": "1.2.0",
            "_view_name": "StyleView",
            "bar_color": null,
            "description_width": ""
          }
        },
        "641b2320dbba4163a503979f8410f5f3": {
          "model_module": "@jupyter-widgets/base",
          "model_name": "LayoutModel",
          "model_module_version": "1.2.0",
          "state": {
            "_model_module": "@jupyter-widgets/base",
            "_model_module_version": "1.2.0",
            "_model_name": "LayoutModel",
            "_view_count": null,
            "_view_module": "@jupyter-widgets/base",
            "_view_module_version": "1.2.0",
            "_view_name": "LayoutView",
            "align_content": null,
            "align_items": null,
            "align_self": null,
            "border": null,
            "bottom": null,
            "display": null,
            "flex": null,
            "flex_flow": null,
            "grid_area": null,
            "grid_auto_columns": null,
            "grid_auto_flow": null,
            "grid_auto_rows": null,
            "grid_column": null,
            "grid_gap": null,
            "grid_row": null,
            "grid_template_areas": null,
            "grid_template_columns": null,
            "grid_template_rows": null,
            "height": null,
            "justify_content": null,
            "justify_items": null,
            "left": null,
            "margin": null,
            "max_height": null,
            "max_width": null,
            "min_height": null,
            "min_width": null,
            "object_fit": null,
            "object_position": null,
            "order": null,
            "overflow": null,
            "overflow_x": null,
            "overflow_y": null,
            "padding": null,
            "right": null,
            "top": null,
            "visibility": null,
            "width": null
          }
        },
        "df3d8c3712b24d3790d19b0089dd7e29": {
          "model_module": "@jupyter-widgets/controls",
          "model_name": "DescriptionStyleModel",
          "model_module_version": "1.5.0",
          "state": {
            "_model_module": "@jupyter-widgets/controls",
            "_model_module_version": "1.5.0",
            "_model_name": "DescriptionStyleModel",
            "_view_count": null,
            "_view_module": "@jupyter-widgets/base",
            "_view_module_version": "1.2.0",
            "_view_name": "StyleView",
            "description_width": ""
          }
        },
        "65901e87d3e94bc183ad9bf6d21636d3": {
          "model_module": "@jupyter-widgets/controls",
          "model_name": "HBoxModel",
          "model_module_version": "1.5.0",
          "state": {
            "_dom_classes": [],
            "_model_module": "@jupyter-widgets/controls",
            "_model_module_version": "1.5.0",
            "_model_name": "HBoxModel",
            "_view_count": null,
            "_view_module": "@jupyter-widgets/controls",
            "_view_module_version": "1.5.0",
            "_view_name": "HBoxView",
            "box_style": "",
            "children": [
              "IPY_MODEL_f41c3c98f9af4de69ca71c80f4b54624",
              "IPY_MODEL_ce290a4f5a094f0b8c4667822cf4ca35",
              "IPY_MODEL_b7e085bc75b9424a852254218b7c921b"
            ],
            "layout": "IPY_MODEL_01c1719de46b4d3eb18ab736652738e5"
          }
        },
        "f41c3c98f9af4de69ca71c80f4b54624": {
          "model_module": "@jupyter-widgets/controls",
          "model_name": "HTMLModel",
          "model_module_version": "1.5.0",
          "state": {
            "_dom_classes": [],
            "_model_module": "@jupyter-widgets/controls",
            "_model_module_version": "1.5.0",
            "_model_name": "HTMLModel",
            "_view_count": null,
            "_view_module": "@jupyter-widgets/controls",
            "_view_module_version": "1.5.0",
            "_view_name": "HTMLView",
            "description": "",
            "description_tooltip": null,
            "layout": "IPY_MODEL_0eee388f74214a9f9aa54908009505d0",
            "placeholder": "​",
            "style": "IPY_MODEL_7a18325aa3ba434fa6267d51115a6429",
            "value": "tokenizer.json: "
          }
        },
        "ce290a4f5a094f0b8c4667822cf4ca35": {
          "model_module": "@jupyter-widgets/controls",
          "model_name": "FloatProgressModel",
          "model_module_version": "1.5.0",
          "state": {
            "_dom_classes": [],
            "_model_module": "@jupyter-widgets/controls",
            "_model_module_version": "1.5.0",
            "_model_name": "FloatProgressModel",
            "_view_count": null,
            "_view_module": "@jupyter-widgets/controls",
            "_view_module_version": "1.5.0",
            "_view_name": "ProgressView",
            "bar_style": "success",
            "description": "",
            "description_tooltip": null,
            "layout": "IPY_MODEL_40ca6aba3a2047fe8a96b8b8eeb75c53",
            "max": 1,
            "min": 0,
            "orientation": "horizontal",
            "style": "IPY_MODEL_013482d2a72d4fd69c09ac3bcc299e5d",
            "value": 1
          }
        },
        "b7e085bc75b9424a852254218b7c921b": {
          "model_module": "@jupyter-widgets/controls",
          "model_name": "HTMLModel",
          "model_module_version": "1.5.0",
          "state": {
            "_dom_classes": [],
            "_model_module": "@jupyter-widgets/controls",
            "_model_module_version": "1.5.0",
            "_model_name": "HTMLModel",
            "_view_count": null,
            "_view_module": "@jupyter-widgets/controls",
            "_view_module_version": "1.5.0",
            "_view_name": "HTMLView",
            "description": "",
            "description_tooltip": null,
            "layout": "IPY_MODEL_0ded808eedc6496fadd057fef44c48bb",
            "placeholder": "​",
            "style": "IPY_MODEL_0196948a31cd4dbfbbb7ffb5b4e3004c",
            "value": " 2.42M/? [00:00&lt;00:00, 47.7MB/s]"
          }
        },
        "01c1719de46b4d3eb18ab736652738e5": {
          "model_module": "@jupyter-widgets/base",
          "model_name": "LayoutModel",
          "model_module_version": "1.2.0",
          "state": {
            "_model_module": "@jupyter-widgets/base",
            "_model_module_version": "1.2.0",
            "_model_name": "LayoutModel",
            "_view_count": null,
            "_view_module": "@jupyter-widgets/base",
            "_view_module_version": "1.2.0",
            "_view_name": "LayoutView",
            "align_content": null,
            "align_items": null,
            "align_self": null,
            "border": null,
            "bottom": null,
            "display": null,
            "flex": null,
            "flex_flow": null,
            "grid_area": null,
            "grid_auto_columns": null,
            "grid_auto_flow": null,
            "grid_auto_rows": null,
            "grid_column": null,
            "grid_gap": null,
            "grid_row": null,
            "grid_template_areas": null,
            "grid_template_columns": null,
            "grid_template_rows": null,
            "height": null,
            "justify_content": null,
            "justify_items": null,
            "left": null,
            "margin": null,
            "max_height": null,
            "max_width": null,
            "min_height": null,
            "min_width": null,
            "object_fit": null,
            "object_position": null,
            "order": null,
            "overflow": null,
            "overflow_x": null,
            "overflow_y": null,
            "padding": null,
            "right": null,
            "top": null,
            "visibility": null,
            "width": null
          }
        },
        "0eee388f74214a9f9aa54908009505d0": {
          "model_module": "@jupyter-widgets/base",
          "model_name": "LayoutModel",
          "model_module_version": "1.2.0",
          "state": {
            "_model_module": "@jupyter-widgets/base",
            "_model_module_version": "1.2.0",
            "_model_name": "LayoutModel",
            "_view_count": null,
            "_view_module": "@jupyter-widgets/base",
            "_view_module_version": "1.2.0",
            "_view_name": "LayoutView",
            "align_content": null,
            "align_items": null,
            "align_self": null,
            "border": null,
            "bottom": null,
            "display": null,
            "flex": null,
            "flex_flow": null,
            "grid_area": null,
            "grid_auto_columns": null,
            "grid_auto_flow": null,
            "grid_auto_rows": null,
            "grid_column": null,
            "grid_gap": null,
            "grid_row": null,
            "grid_template_areas": null,
            "grid_template_columns": null,
            "grid_template_rows": null,
            "height": null,
            "justify_content": null,
            "justify_items": null,
            "left": null,
            "margin": null,
            "max_height": null,
            "max_width": null,
            "min_height": null,
            "min_width": null,
            "object_fit": null,
            "object_position": null,
            "order": null,
            "overflow": null,
            "overflow_x": null,
            "overflow_y": null,
            "padding": null,
            "right": null,
            "top": null,
            "visibility": null,
            "width": null
          }
        },
        "7a18325aa3ba434fa6267d51115a6429": {
          "model_module": "@jupyter-widgets/controls",
          "model_name": "DescriptionStyleModel",
          "model_module_version": "1.5.0",
          "state": {
            "_model_module": "@jupyter-widgets/controls",
            "_model_module_version": "1.5.0",
            "_model_name": "DescriptionStyleModel",
            "_view_count": null,
            "_view_module": "@jupyter-widgets/base",
            "_view_module_version": "1.2.0",
            "_view_name": "StyleView",
            "description_width": ""
          }
        },
        "40ca6aba3a2047fe8a96b8b8eeb75c53": {
          "model_module": "@jupyter-widgets/base",
          "model_name": "LayoutModel",
          "model_module_version": "1.2.0",
          "state": {
            "_model_module": "@jupyter-widgets/base",
            "_model_module_version": "1.2.0",
            "_model_name": "LayoutModel",
            "_view_count": null,
            "_view_module": "@jupyter-widgets/base",
            "_view_module_version": "1.2.0",
            "_view_name": "LayoutView",
            "align_content": null,
            "align_items": null,
            "align_self": null,
            "border": null,
            "bottom": null,
            "display": null,
            "flex": null,
            "flex_flow": null,
            "grid_area": null,
            "grid_auto_columns": null,
            "grid_auto_flow": null,
            "grid_auto_rows": null,
            "grid_column": null,
            "grid_gap": null,
            "grid_row": null,
            "grid_template_areas": null,
            "grid_template_columns": null,
            "grid_template_rows": null,
            "height": null,
            "justify_content": null,
            "justify_items": null,
            "left": null,
            "margin": null,
            "max_height": null,
            "max_width": null,
            "min_height": null,
            "min_width": null,
            "object_fit": null,
            "object_position": null,
            "order": null,
            "overflow": null,
            "overflow_x": null,
            "overflow_y": null,
            "padding": null,
            "right": null,
            "top": null,
            "visibility": null,
            "width": "20px"
          }
        },
        "013482d2a72d4fd69c09ac3bcc299e5d": {
          "model_module": "@jupyter-widgets/controls",
          "model_name": "ProgressStyleModel",
          "model_module_version": "1.5.0",
          "state": {
            "_model_module": "@jupyter-widgets/controls",
            "_model_module_version": "1.5.0",
            "_model_name": "ProgressStyleModel",
            "_view_count": null,
            "_view_module": "@jupyter-widgets/base",
            "_view_module_version": "1.2.0",
            "_view_name": "StyleView",
            "bar_color": null,
            "description_width": ""
          }
        },
        "0ded808eedc6496fadd057fef44c48bb": {
          "model_module": "@jupyter-widgets/base",
          "model_name": "LayoutModel",
          "model_module_version": "1.2.0",
          "state": {
            "_model_module": "@jupyter-widgets/base",
            "_model_module_version": "1.2.0",
            "_model_name": "LayoutModel",
            "_view_count": null,
            "_view_module": "@jupyter-widgets/base",
            "_view_module_version": "1.2.0",
            "_view_name": "LayoutView",
            "align_content": null,
            "align_items": null,
            "align_self": null,
            "border": null,
            "bottom": null,
            "display": null,
            "flex": null,
            "flex_flow": null,
            "grid_area": null,
            "grid_auto_columns": null,
            "grid_auto_flow": null,
            "grid_auto_rows": null,
            "grid_column": null,
            "grid_gap": null,
            "grid_row": null,
            "grid_template_areas": null,
            "grid_template_columns": null,
            "grid_template_rows": null,
            "height": null,
            "justify_content": null,
            "justify_items": null,
            "left": null,
            "margin": null,
            "max_height": null,
            "max_width": null,
            "min_height": null,
            "min_width": null,
            "object_fit": null,
            "object_position": null,
            "order": null,
            "overflow": null,
            "overflow_x": null,
            "overflow_y": null,
            "padding": null,
            "right": null,
            "top": null,
            "visibility": null,
            "width": null
          }
        },
        "0196948a31cd4dbfbbb7ffb5b4e3004c": {
          "model_module": "@jupyter-widgets/controls",
          "model_name": "DescriptionStyleModel",
          "model_module_version": "1.5.0",
          "state": {
            "_model_module": "@jupyter-widgets/controls",
            "_model_module_version": "1.5.0",
            "_model_name": "DescriptionStyleModel",
            "_view_count": null,
            "_view_module": "@jupyter-widgets/base",
            "_view_module_version": "1.2.0",
            "_view_name": "StyleView",
            "description_width": ""
          }
        },
        "db96cdd04ed64918babf52e17e40827f": {
          "model_module": "@jupyter-widgets/controls",
          "model_name": "HBoxModel",
          "model_module_version": "1.5.0",
          "state": {
            "_dom_classes": [],
            "_model_module": "@jupyter-widgets/controls",
            "_model_module_version": "1.5.0",
            "_model_name": "HBoxModel",
            "_view_count": null,
            "_view_module": "@jupyter-widgets/controls",
            "_view_module_version": "1.5.0",
            "_view_name": "HBoxView",
            "box_style": "",
            "children": [
              "IPY_MODEL_6651acdefaa44fe88705f972329f457a",
              "IPY_MODEL_9c9d911083b441feb9e7404304c78474",
              "IPY_MODEL_59429cbbd8834a90baedf62335734c20"
            ],
            "layout": "IPY_MODEL_20c58556602542ca88bbbda24999a6ac"
          }
        },
        "6651acdefaa44fe88705f972329f457a": {
          "model_module": "@jupyter-widgets/controls",
          "model_name": "HTMLModel",
          "model_module_version": "1.5.0",
          "state": {
            "_dom_classes": [],
            "_model_module": "@jupyter-widgets/controls",
            "_model_module_version": "1.5.0",
            "_model_name": "HTMLModel",
            "_view_count": null,
            "_view_module": "@jupyter-widgets/controls",
            "_view_module_version": "1.5.0",
            "_view_name": "HTMLView",
            "description": "",
            "description_tooltip": null,
            "layout": "IPY_MODEL_215655000c9e4b9b91d62d6b884fd38a",
            "placeholder": "​",
            "style": "IPY_MODEL_1aeeae7f70e0480aa9334e5a6a6a9d55",
            "value": "special_tokens_map.json: "
          }
        },
        "9c9d911083b441feb9e7404304c78474": {
          "model_module": "@jupyter-widgets/controls",
          "model_name": "FloatProgressModel",
          "model_module_version": "1.5.0",
          "state": {
            "_dom_classes": [],
            "_model_module": "@jupyter-widgets/controls",
            "_model_module_version": "1.5.0",
            "_model_name": "FloatProgressModel",
            "_view_count": null,
            "_view_module": "@jupyter-widgets/controls",
            "_view_module_version": "1.5.0",
            "_view_name": "ProgressView",
            "bar_style": "success",
            "description": "",
            "description_tooltip": null,
            "layout": "IPY_MODEL_e1cf5fc183864ece8d16486846d52064",
            "max": 1,
            "min": 0,
            "orientation": "horizontal",
            "style": "IPY_MODEL_b71c909615fc4212a25ebdffa2bf6179",
            "value": 1
          }
        },
        "59429cbbd8834a90baedf62335734c20": {
          "model_module": "@jupyter-widgets/controls",
          "model_name": "HTMLModel",
          "model_module_version": "1.5.0",
          "state": {
            "_dom_classes": [],
            "_model_module": "@jupyter-widgets/controls",
            "_model_module_version": "1.5.0",
            "_model_name": "HTMLModel",
            "_view_count": null,
            "_view_module": "@jupyter-widgets/controls",
            "_view_module_version": "1.5.0",
            "_view_name": "HTMLView",
            "description": "",
            "description_tooltip": null,
            "layout": "IPY_MODEL_5a976f9a276249c5bd1a59d4ce38d5a7",
            "placeholder": "​",
            "style": "IPY_MODEL_2c704b4943b94856b3cc1309b7ec222d",
            "value": " 2.20k/? [00:00&lt;00:00, 241kB/s]"
          }
        },
        "20c58556602542ca88bbbda24999a6ac": {
          "model_module": "@jupyter-widgets/base",
          "model_name": "LayoutModel",
          "model_module_version": "1.2.0",
          "state": {
            "_model_module": "@jupyter-widgets/base",
            "_model_module_version": "1.2.0",
            "_model_name": "LayoutModel",
            "_view_count": null,
            "_view_module": "@jupyter-widgets/base",
            "_view_module_version": "1.2.0",
            "_view_name": "LayoutView",
            "align_content": null,
            "align_items": null,
            "align_self": null,
            "border": null,
            "bottom": null,
            "display": null,
            "flex": null,
            "flex_flow": null,
            "grid_area": null,
            "grid_auto_columns": null,
            "grid_auto_flow": null,
            "grid_auto_rows": null,
            "grid_column": null,
            "grid_gap": null,
            "grid_row": null,
            "grid_template_areas": null,
            "grid_template_columns": null,
            "grid_template_rows": null,
            "height": null,
            "justify_content": null,
            "justify_items": null,
            "left": null,
            "margin": null,
            "max_height": null,
            "max_width": null,
            "min_height": null,
            "min_width": null,
            "object_fit": null,
            "object_position": null,
            "order": null,
            "overflow": null,
            "overflow_x": null,
            "overflow_y": null,
            "padding": null,
            "right": null,
            "top": null,
            "visibility": null,
            "width": null
          }
        },
        "215655000c9e4b9b91d62d6b884fd38a": {
          "model_module": "@jupyter-widgets/base",
          "model_name": "LayoutModel",
          "model_module_version": "1.2.0",
          "state": {
            "_model_module": "@jupyter-widgets/base",
            "_model_module_version": "1.2.0",
            "_model_name": "LayoutModel",
            "_view_count": null,
            "_view_module": "@jupyter-widgets/base",
            "_view_module_version": "1.2.0",
            "_view_name": "LayoutView",
            "align_content": null,
            "align_items": null,
            "align_self": null,
            "border": null,
            "bottom": null,
            "display": null,
            "flex": null,
            "flex_flow": null,
            "grid_area": null,
            "grid_auto_columns": null,
            "grid_auto_flow": null,
            "grid_auto_rows": null,
            "grid_column": null,
            "grid_gap": null,
            "grid_row": null,
            "grid_template_areas": null,
            "grid_template_columns": null,
            "grid_template_rows": null,
            "height": null,
            "justify_content": null,
            "justify_items": null,
            "left": null,
            "margin": null,
            "max_height": null,
            "max_width": null,
            "min_height": null,
            "min_width": null,
            "object_fit": null,
            "object_position": null,
            "order": null,
            "overflow": null,
            "overflow_x": null,
            "overflow_y": null,
            "padding": null,
            "right": null,
            "top": null,
            "visibility": null,
            "width": null
          }
        },
        "1aeeae7f70e0480aa9334e5a6a6a9d55": {
          "model_module": "@jupyter-widgets/controls",
          "model_name": "DescriptionStyleModel",
          "model_module_version": "1.5.0",
          "state": {
            "_model_module": "@jupyter-widgets/controls",
            "_model_module_version": "1.5.0",
            "_model_name": "DescriptionStyleModel",
            "_view_count": null,
            "_view_module": "@jupyter-widgets/base",
            "_view_module_version": "1.2.0",
            "_view_name": "StyleView",
            "description_width": ""
          }
        },
        "e1cf5fc183864ece8d16486846d52064": {
          "model_module": "@jupyter-widgets/base",
          "model_name": "LayoutModel",
          "model_module_version": "1.2.0",
          "state": {
            "_model_module": "@jupyter-widgets/base",
            "_model_module_version": "1.2.0",
            "_model_name": "LayoutModel",
            "_view_count": null,
            "_view_module": "@jupyter-widgets/base",
            "_view_module_version": "1.2.0",
            "_view_name": "LayoutView",
            "align_content": null,
            "align_items": null,
            "align_self": null,
            "border": null,
            "bottom": null,
            "display": null,
            "flex": null,
            "flex_flow": null,
            "grid_area": null,
            "grid_auto_columns": null,
            "grid_auto_flow": null,
            "grid_auto_rows": null,
            "grid_column": null,
            "grid_gap": null,
            "grid_row": null,
            "grid_template_areas": null,
            "grid_template_columns": null,
            "grid_template_rows": null,
            "height": null,
            "justify_content": null,
            "justify_items": null,
            "left": null,
            "margin": null,
            "max_height": null,
            "max_width": null,
            "min_height": null,
            "min_width": null,
            "object_fit": null,
            "object_position": null,
            "order": null,
            "overflow": null,
            "overflow_x": null,
            "overflow_y": null,
            "padding": null,
            "right": null,
            "top": null,
            "visibility": null,
            "width": "20px"
          }
        },
        "b71c909615fc4212a25ebdffa2bf6179": {
          "model_module": "@jupyter-widgets/controls",
          "model_name": "ProgressStyleModel",
          "model_module_version": "1.5.0",
          "state": {
            "_model_module": "@jupyter-widgets/controls",
            "_model_module_version": "1.5.0",
            "_model_name": "ProgressStyleModel",
            "_view_count": null,
            "_view_module": "@jupyter-widgets/base",
            "_view_module_version": "1.2.0",
            "_view_name": "StyleView",
            "bar_color": null,
            "description_width": ""
          }
        },
        "5a976f9a276249c5bd1a59d4ce38d5a7": {
          "model_module": "@jupyter-widgets/base",
          "model_name": "LayoutModel",
          "model_module_version": "1.2.0",
          "state": {
            "_model_module": "@jupyter-widgets/base",
            "_model_module_version": "1.2.0",
            "_model_name": "LayoutModel",
            "_view_count": null,
            "_view_module": "@jupyter-widgets/base",
            "_view_module_version": "1.2.0",
            "_view_name": "LayoutView",
            "align_content": null,
            "align_items": null,
            "align_self": null,
            "border": null,
            "bottom": null,
            "display": null,
            "flex": null,
            "flex_flow": null,
            "grid_area": null,
            "grid_auto_columns": null,
            "grid_auto_flow": null,
            "grid_auto_rows": null,
            "grid_column": null,
            "grid_gap": null,
            "grid_row": null,
            "grid_template_areas": null,
            "grid_template_columns": null,
            "grid_template_rows": null,
            "height": null,
            "justify_content": null,
            "justify_items": null,
            "left": null,
            "margin": null,
            "max_height": null,
            "max_width": null,
            "min_height": null,
            "min_width": null,
            "object_fit": null,
            "object_position": null,
            "order": null,
            "overflow": null,
            "overflow_x": null,
            "overflow_y": null,
            "padding": null,
            "right": null,
            "top": null,
            "visibility": null,
            "width": null
          }
        },
        "2c704b4943b94856b3cc1309b7ec222d": {
          "model_module": "@jupyter-widgets/controls",
          "model_name": "DescriptionStyleModel",
          "model_module_version": "1.5.0",
          "state": {
            "_model_module": "@jupyter-widgets/controls",
            "_model_module_version": "1.5.0",
            "_model_name": "DescriptionStyleModel",
            "_view_count": null,
            "_view_module": "@jupyter-widgets/base",
            "_view_module_version": "1.2.0",
            "_view_name": "StyleView",
            "description_width": ""
          }
        },
        "9263b8bb40f94b3d81efdb3eedfdfc45": {
          "model_module": "@jupyter-widgets/controls",
          "model_name": "HBoxModel",
          "model_module_version": "1.5.0",
          "state": {
            "_dom_classes": [],
            "_model_module": "@jupyter-widgets/controls",
            "_model_module_version": "1.5.0",
            "_model_name": "HBoxModel",
            "_view_count": null,
            "_view_module": "@jupyter-widgets/controls",
            "_view_module_version": "1.5.0",
            "_view_name": "HBoxView",
            "box_style": "",
            "children": [
              "IPY_MODEL_5407d7c5d0dd48bb8d59b75c6e80c04f",
              "IPY_MODEL_01ac28d5e22d4898a3f920a0e264ad36",
              "IPY_MODEL_5c4d6c92e62047988e61a58e4372f0eb"
            ],
            "layout": "IPY_MODEL_3a5c501ffae54346b5776139dcb4c863"
          }
        },
        "5407d7c5d0dd48bb8d59b75c6e80c04f": {
          "model_module": "@jupyter-widgets/controls",
          "model_name": "HTMLModel",
          "model_module_version": "1.5.0",
          "state": {
            "_dom_classes": [],
            "_model_module": "@jupyter-widgets/controls",
            "_model_module_version": "1.5.0",
            "_model_name": "HTMLModel",
            "_view_count": null,
            "_view_module": "@jupyter-widgets/controls",
            "_view_module_version": "1.5.0",
            "_view_name": "HTMLView",
            "description": "",
            "description_tooltip": null,
            "layout": "IPY_MODEL_d8e8288fab094a1fbbdfa5b87472032c",
            "placeholder": "​",
            "style": "IPY_MODEL_ecf87dc7224c44478cfc4675ba09ba78",
            "value": "Map: 100%"
          }
        },
        "01ac28d5e22d4898a3f920a0e264ad36": {
          "model_module": "@jupyter-widgets/controls",
          "model_name": "FloatProgressModel",
          "model_module_version": "1.5.0",
          "state": {
            "_dom_classes": [],
            "_model_module": "@jupyter-widgets/controls",
            "_model_module_version": "1.5.0",
            "_model_name": "FloatProgressModel",
            "_view_count": null,
            "_view_module": "@jupyter-widgets/controls",
            "_view_module_version": "1.5.0",
            "_view_name": "ProgressView",
            "bar_style": "success",
            "description": "",
            "description_tooltip": null,
            "layout": "IPY_MODEL_d535e2e808264ad1b2880f44238f60c0",
            "max": 3507,
            "min": 0,
            "orientation": "horizontal",
            "style": "IPY_MODEL_33c76992061d4a0cb0a1ff77e0194605",
            "value": 3507
          }
        },
        "5c4d6c92e62047988e61a58e4372f0eb": {
          "model_module": "@jupyter-widgets/controls",
          "model_name": "HTMLModel",
          "model_module_version": "1.5.0",
          "state": {
            "_dom_classes": [],
            "_model_module": "@jupyter-widgets/controls",
            "_model_module_version": "1.5.0",
            "_model_name": "HTMLModel",
            "_view_count": null,
            "_view_module": "@jupyter-widgets/controls",
            "_view_module_version": "1.5.0",
            "_view_name": "HTMLView",
            "description": "",
            "description_tooltip": null,
            "layout": "IPY_MODEL_ac18bcd3b9964b5e8d788c7ff457b79a",
            "placeholder": "​",
            "style": "IPY_MODEL_421c21de38aa4e24acc8e3bc1c2c2d2f",
            "value": " 3507/3507 [00:02&lt;00:00, 1499.43 examples/s]"
          }
        },
        "3a5c501ffae54346b5776139dcb4c863": {
          "model_module": "@jupyter-widgets/base",
          "model_name": "LayoutModel",
          "model_module_version": "1.2.0",
          "state": {
            "_model_module": "@jupyter-widgets/base",
            "_model_module_version": "1.2.0",
            "_model_name": "LayoutModel",
            "_view_count": null,
            "_view_module": "@jupyter-widgets/base",
            "_view_module_version": "1.2.0",
            "_view_name": "LayoutView",
            "align_content": null,
            "align_items": null,
            "align_self": null,
            "border": null,
            "bottom": null,
            "display": null,
            "flex": null,
            "flex_flow": null,
            "grid_area": null,
            "grid_auto_columns": null,
            "grid_auto_flow": null,
            "grid_auto_rows": null,
            "grid_column": null,
            "grid_gap": null,
            "grid_row": null,
            "grid_template_areas": null,
            "grid_template_columns": null,
            "grid_template_rows": null,
            "height": null,
            "justify_content": null,
            "justify_items": null,
            "left": null,
            "margin": null,
            "max_height": null,
            "max_width": null,
            "min_height": null,
            "min_width": null,
            "object_fit": null,
            "object_position": null,
            "order": null,
            "overflow": null,
            "overflow_x": null,
            "overflow_y": null,
            "padding": null,
            "right": null,
            "top": null,
            "visibility": null,
            "width": null
          }
        },
        "d8e8288fab094a1fbbdfa5b87472032c": {
          "model_module": "@jupyter-widgets/base",
          "model_name": "LayoutModel",
          "model_module_version": "1.2.0",
          "state": {
            "_model_module": "@jupyter-widgets/base",
            "_model_module_version": "1.2.0",
            "_model_name": "LayoutModel",
            "_view_count": null,
            "_view_module": "@jupyter-widgets/base",
            "_view_module_version": "1.2.0",
            "_view_name": "LayoutView",
            "align_content": null,
            "align_items": null,
            "align_self": null,
            "border": null,
            "bottom": null,
            "display": null,
            "flex": null,
            "flex_flow": null,
            "grid_area": null,
            "grid_auto_columns": null,
            "grid_auto_flow": null,
            "grid_auto_rows": null,
            "grid_column": null,
            "grid_gap": null,
            "grid_row": null,
            "grid_template_areas": null,
            "grid_template_columns": null,
            "grid_template_rows": null,
            "height": null,
            "justify_content": null,
            "justify_items": null,
            "left": null,
            "margin": null,
            "max_height": null,
            "max_width": null,
            "min_height": null,
            "min_width": null,
            "object_fit": null,
            "object_position": null,
            "order": null,
            "overflow": null,
            "overflow_x": null,
            "overflow_y": null,
            "padding": null,
            "right": null,
            "top": null,
            "visibility": null,
            "width": null
          }
        },
        "ecf87dc7224c44478cfc4675ba09ba78": {
          "model_module": "@jupyter-widgets/controls",
          "model_name": "DescriptionStyleModel",
          "model_module_version": "1.5.0",
          "state": {
            "_model_module": "@jupyter-widgets/controls",
            "_model_module_version": "1.5.0",
            "_model_name": "DescriptionStyleModel",
            "_view_count": null,
            "_view_module": "@jupyter-widgets/base",
            "_view_module_version": "1.2.0",
            "_view_name": "StyleView",
            "description_width": ""
          }
        },
        "d535e2e808264ad1b2880f44238f60c0": {
          "model_module": "@jupyter-widgets/base",
          "model_name": "LayoutModel",
          "model_module_version": "1.2.0",
          "state": {
            "_model_module": "@jupyter-widgets/base",
            "_model_module_version": "1.2.0",
            "_model_name": "LayoutModel",
            "_view_count": null,
            "_view_module": "@jupyter-widgets/base",
            "_view_module_version": "1.2.0",
            "_view_name": "LayoutView",
            "align_content": null,
            "align_items": null,
            "align_self": null,
            "border": null,
            "bottom": null,
            "display": null,
            "flex": null,
            "flex_flow": null,
            "grid_area": null,
            "grid_auto_columns": null,
            "grid_auto_flow": null,
            "grid_auto_rows": null,
            "grid_column": null,
            "grid_gap": null,
            "grid_row": null,
            "grid_template_areas": null,
            "grid_template_columns": null,
            "grid_template_rows": null,
            "height": null,
            "justify_content": null,
            "justify_items": null,
            "left": null,
            "margin": null,
            "max_height": null,
            "max_width": null,
            "min_height": null,
            "min_width": null,
            "object_fit": null,
            "object_position": null,
            "order": null,
            "overflow": null,
            "overflow_x": null,
            "overflow_y": null,
            "padding": null,
            "right": null,
            "top": null,
            "visibility": null,
            "width": null
          }
        },
        "33c76992061d4a0cb0a1ff77e0194605": {
          "model_module": "@jupyter-widgets/controls",
          "model_name": "ProgressStyleModel",
          "model_module_version": "1.5.0",
          "state": {
            "_model_module": "@jupyter-widgets/controls",
            "_model_module_version": "1.5.0",
            "_model_name": "ProgressStyleModel",
            "_view_count": null,
            "_view_module": "@jupyter-widgets/base",
            "_view_module_version": "1.2.0",
            "_view_name": "StyleView",
            "bar_color": null,
            "description_width": ""
          }
        },
        "ac18bcd3b9964b5e8d788c7ff457b79a": {
          "model_module": "@jupyter-widgets/base",
          "model_name": "LayoutModel",
          "model_module_version": "1.2.0",
          "state": {
            "_model_module": "@jupyter-widgets/base",
            "_model_module_version": "1.2.0",
            "_model_name": "LayoutModel",
            "_view_count": null,
            "_view_module": "@jupyter-widgets/base",
            "_view_module_version": "1.2.0",
            "_view_name": "LayoutView",
            "align_content": null,
            "align_items": null,
            "align_self": null,
            "border": null,
            "bottom": null,
            "display": null,
            "flex": null,
            "flex_flow": null,
            "grid_area": null,
            "grid_auto_columns": null,
            "grid_auto_flow": null,
            "grid_auto_rows": null,
            "grid_column": null,
            "grid_gap": null,
            "grid_row": null,
            "grid_template_areas": null,
            "grid_template_columns": null,
            "grid_template_rows": null,
            "height": null,
            "justify_content": null,
            "justify_items": null,
            "left": null,
            "margin": null,
            "max_height": null,
            "max_width": null,
            "min_height": null,
            "min_width": null,
            "object_fit": null,
            "object_position": null,
            "order": null,
            "overflow": null,
            "overflow_x": null,
            "overflow_y": null,
            "padding": null,
            "right": null,
            "top": null,
            "visibility": null,
            "width": null
          }
        },
        "421c21de38aa4e24acc8e3bc1c2c2d2f": {
          "model_module": "@jupyter-widgets/controls",
          "model_name": "DescriptionStyleModel",
          "model_module_version": "1.5.0",
          "state": {
            "_model_module": "@jupyter-widgets/controls",
            "_model_module_version": "1.5.0",
            "_model_name": "DescriptionStyleModel",
            "_view_count": null,
            "_view_module": "@jupyter-widgets/base",
            "_view_module_version": "1.2.0",
            "_view_name": "StyleView",
            "description_width": ""
          }
        },
        "95c0a8fa1704424196d7dc67b5ddec7c": {
          "model_module": "@jupyter-widgets/controls",
          "model_name": "HBoxModel",
          "model_module_version": "1.5.0",
          "state": {
            "_dom_classes": [],
            "_model_module": "@jupyter-widgets/controls",
            "_model_module_version": "1.5.0",
            "_model_name": "HBoxModel",
            "_view_count": null,
            "_view_module": "@jupyter-widgets/controls",
            "_view_module_version": "1.5.0",
            "_view_name": "HBoxView",
            "box_style": "",
            "children": [
              "IPY_MODEL_5dbe49ad2ed84d32bdfa2d1fc29e85a4",
              "IPY_MODEL_62e98971d68b4a999aa571c2eeaa2d67",
              "IPY_MODEL_8f6e04a8db3248c480b9efef663cf3da"
            ],
            "layout": "IPY_MODEL_b26e9b14e3b74c4cb7d4b8ee4aa5f68d"
          }
        },
        "5dbe49ad2ed84d32bdfa2d1fc29e85a4": {
          "model_module": "@jupyter-widgets/controls",
          "model_name": "HTMLModel",
          "model_module_version": "1.5.0",
          "state": {
            "_dom_classes": [],
            "_model_module": "@jupyter-widgets/controls",
            "_model_module_version": "1.5.0",
            "_model_name": "HTMLModel",
            "_view_count": null,
            "_view_module": "@jupyter-widgets/controls",
            "_view_module_version": "1.5.0",
            "_view_name": "HTMLView",
            "description": "",
            "description_tooltip": null,
            "layout": "IPY_MODEL_03d7905817c74a6e90cc2940151a00d3",
            "placeholder": "​",
            "style": "IPY_MODEL_379053ee7e694fe89b59b41453ee41cf",
            "value": "Saving the dataset (1/1 shards): 100%"
          }
        },
        "62e98971d68b4a999aa571c2eeaa2d67": {
          "model_module": "@jupyter-widgets/controls",
          "model_name": "FloatProgressModel",
          "model_module_version": "1.5.0",
          "state": {
            "_dom_classes": [],
            "_model_module": "@jupyter-widgets/controls",
            "_model_module_version": "1.5.0",
            "_model_name": "FloatProgressModel",
            "_view_count": null,
            "_view_module": "@jupyter-widgets/controls",
            "_view_module_version": "1.5.0",
            "_view_name": "ProgressView",
            "bar_style": "success",
            "description": "",
            "description_tooltip": null,
            "layout": "IPY_MODEL_4c4e37d4bcf8442e8525036116d009c7",
            "max": 3507,
            "min": 0,
            "orientation": "horizontal",
            "style": "IPY_MODEL_77f2e07160db48ec9951b88af25d4d56",
            "value": 3507
          }
        },
        "8f6e04a8db3248c480b9efef663cf3da": {
          "model_module": "@jupyter-widgets/controls",
          "model_name": "HTMLModel",
          "model_module_version": "1.5.0",
          "state": {
            "_dom_classes": [],
            "_model_module": "@jupyter-widgets/controls",
            "_model_module_version": "1.5.0",
            "_model_name": "HTMLModel",
            "_view_count": null,
            "_view_module": "@jupyter-widgets/controls",
            "_view_module_version": "1.5.0",
            "_view_name": "HTMLView",
            "description": "",
            "description_tooltip": null,
            "layout": "IPY_MODEL_9a6c9c9e19b844d79f8a005f66509268",
            "placeholder": "​",
            "style": "IPY_MODEL_03ab7db8e9b341bba62d7255c4f9fa00",
            "value": " 3507/3507 [00:00&lt;00:00, 129810.04 examples/s]"
          }
        },
        "b26e9b14e3b74c4cb7d4b8ee4aa5f68d": {
          "model_module": "@jupyter-widgets/base",
          "model_name": "LayoutModel",
          "model_module_version": "1.2.0",
          "state": {
            "_model_module": "@jupyter-widgets/base",
            "_model_module_version": "1.2.0",
            "_model_name": "LayoutModel",
            "_view_count": null,
            "_view_module": "@jupyter-widgets/base",
            "_view_module_version": "1.2.0",
            "_view_name": "LayoutView",
            "align_content": null,
            "align_items": null,
            "align_self": null,
            "border": null,
            "bottom": null,
            "display": null,
            "flex": null,
            "flex_flow": null,
            "grid_area": null,
            "grid_auto_columns": null,
            "grid_auto_flow": null,
            "grid_auto_rows": null,
            "grid_column": null,
            "grid_gap": null,
            "grid_row": null,
            "grid_template_areas": null,
            "grid_template_columns": null,
            "grid_template_rows": null,
            "height": null,
            "justify_content": null,
            "justify_items": null,
            "left": null,
            "margin": null,
            "max_height": null,
            "max_width": null,
            "min_height": null,
            "min_width": null,
            "object_fit": null,
            "object_position": null,
            "order": null,
            "overflow": null,
            "overflow_x": null,
            "overflow_y": null,
            "padding": null,
            "right": null,
            "top": null,
            "visibility": null,
            "width": null
          }
        },
        "03d7905817c74a6e90cc2940151a00d3": {
          "model_module": "@jupyter-widgets/base",
          "model_name": "LayoutModel",
          "model_module_version": "1.2.0",
          "state": {
            "_model_module": "@jupyter-widgets/base",
            "_model_module_version": "1.2.0",
            "_model_name": "LayoutModel",
            "_view_count": null,
            "_view_module": "@jupyter-widgets/base",
            "_view_module_version": "1.2.0",
            "_view_name": "LayoutView",
            "align_content": null,
            "align_items": null,
            "align_self": null,
            "border": null,
            "bottom": null,
            "display": null,
            "flex": null,
            "flex_flow": null,
            "grid_area": null,
            "grid_auto_columns": null,
            "grid_auto_flow": null,
            "grid_auto_rows": null,
            "grid_column": null,
            "grid_gap": null,
            "grid_row": null,
            "grid_template_areas": null,
            "grid_template_columns": null,
            "grid_template_rows": null,
            "height": null,
            "justify_content": null,
            "justify_items": null,
            "left": null,
            "margin": null,
            "max_height": null,
            "max_width": null,
            "min_height": null,
            "min_width": null,
            "object_fit": null,
            "object_position": null,
            "order": null,
            "overflow": null,
            "overflow_x": null,
            "overflow_y": null,
            "padding": null,
            "right": null,
            "top": null,
            "visibility": null,
            "width": null
          }
        },
        "379053ee7e694fe89b59b41453ee41cf": {
          "model_module": "@jupyter-widgets/controls",
          "model_name": "DescriptionStyleModel",
          "model_module_version": "1.5.0",
          "state": {
            "_model_module": "@jupyter-widgets/controls",
            "_model_module_version": "1.5.0",
            "_model_name": "DescriptionStyleModel",
            "_view_count": null,
            "_view_module": "@jupyter-widgets/base",
            "_view_module_version": "1.2.0",
            "_view_name": "StyleView",
            "description_width": ""
          }
        },
        "4c4e37d4bcf8442e8525036116d009c7": {
          "model_module": "@jupyter-widgets/base",
          "model_name": "LayoutModel",
          "model_module_version": "1.2.0",
          "state": {
            "_model_module": "@jupyter-widgets/base",
            "_model_module_version": "1.2.0",
            "_model_name": "LayoutModel",
            "_view_count": null,
            "_view_module": "@jupyter-widgets/base",
            "_view_module_version": "1.2.0",
            "_view_name": "LayoutView",
            "align_content": null,
            "align_items": null,
            "align_self": null,
            "border": null,
            "bottom": null,
            "display": null,
            "flex": null,
            "flex_flow": null,
            "grid_area": null,
            "grid_auto_columns": null,
            "grid_auto_flow": null,
            "grid_auto_rows": null,
            "grid_column": null,
            "grid_gap": null,
            "grid_row": null,
            "grid_template_areas": null,
            "grid_template_columns": null,
            "grid_template_rows": null,
            "height": null,
            "justify_content": null,
            "justify_items": null,
            "left": null,
            "margin": null,
            "max_height": null,
            "max_width": null,
            "min_height": null,
            "min_width": null,
            "object_fit": null,
            "object_position": null,
            "order": null,
            "overflow": null,
            "overflow_x": null,
            "overflow_y": null,
            "padding": null,
            "right": null,
            "top": null,
            "visibility": null,
            "width": null
          }
        },
        "77f2e07160db48ec9951b88af25d4d56": {
          "model_module": "@jupyter-widgets/controls",
          "model_name": "ProgressStyleModel",
          "model_module_version": "1.5.0",
          "state": {
            "_model_module": "@jupyter-widgets/controls",
            "_model_module_version": "1.5.0",
            "_model_name": "ProgressStyleModel",
            "_view_count": null,
            "_view_module": "@jupyter-widgets/base",
            "_view_module_version": "1.2.0",
            "_view_name": "StyleView",
            "bar_color": null,
            "description_width": ""
          }
        },
        "9a6c9c9e19b844d79f8a005f66509268": {
          "model_module": "@jupyter-widgets/base",
          "model_name": "LayoutModel",
          "model_module_version": "1.2.0",
          "state": {
            "_model_module": "@jupyter-widgets/base",
            "_model_module_version": "1.2.0",
            "_model_name": "LayoutModel",
            "_view_count": null,
            "_view_module": "@jupyter-widgets/base",
            "_view_module_version": "1.2.0",
            "_view_name": "LayoutView",
            "align_content": null,
            "align_items": null,
            "align_self": null,
            "border": null,
            "bottom": null,
            "display": null,
            "flex": null,
            "flex_flow": null,
            "grid_area": null,
            "grid_auto_columns": null,
            "grid_auto_flow": null,
            "grid_auto_rows": null,
            "grid_column": null,
            "grid_gap": null,
            "grid_row": null,
            "grid_template_areas": null,
            "grid_template_columns": null,
            "grid_template_rows": null,
            "height": null,
            "justify_content": null,
            "justify_items": null,
            "left": null,
            "margin": null,
            "max_height": null,
            "max_width": null,
            "min_height": null,
            "min_width": null,
            "object_fit": null,
            "object_position": null,
            "order": null,
            "overflow": null,
            "overflow_x": null,
            "overflow_y": null,
            "padding": null,
            "right": null,
            "top": null,
            "visibility": null,
            "width": null
          }
        },
        "03ab7db8e9b341bba62d7255c4f9fa00": {
          "model_module": "@jupyter-widgets/controls",
          "model_name": "DescriptionStyleModel",
          "model_module_version": "1.5.0",
          "state": {
            "_model_module": "@jupyter-widgets/controls",
            "_model_module_version": "1.5.0",
            "_model_name": "DescriptionStyleModel",
            "_view_count": null,
            "_view_module": "@jupyter-widgets/base",
            "_view_module_version": "1.2.0",
            "_view_name": "StyleView",
            "description_width": ""
          }
        }
      }
    },
    "accelerator": "GPU"
  },
  "nbformat": 4,
  "nbformat_minor": 0
}